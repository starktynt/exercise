{
  "cells": [
    {
      "cell_type": "markdown",
      "source": [
        "Installing Dependency"
      ],
      "metadata": {
        "id": "jXTuRhnELrac"
      }
    },
    {
      "cell_type": "code",
      "source": [
        "!pip install imageio==2.4.1"
      ],
      "metadata": {
        "colab": {
          "base_uri": "https://localhost:8080/"
        },
        "id": "fEHN1Lgc4Uu6",
        "outputId": "0bf83e73-bdd4-4c1a-e930-a71b6a03d533"
      },
      "execution_count": null,
      "outputs": [
        {
          "output_type": "stream",
          "name": "stdout",
          "text": [
            "Looking in indexes: https://pypi.org/simple, https://us-python.pkg.dev/colab-wheels/public/simple/\n",
            "Requirement already satisfied: imageio==2.4.1 in /usr/local/lib/python3.7/dist-packages (2.4.1)\n",
            "Requirement already satisfied: pillow in /usr/local/lib/python3.7/dist-packages (from imageio==2.4.1) (7.1.2)\n",
            "Requirement already satisfied: numpy in /usr/local/lib/python3.7/dist-packages (from imageio==2.4.1) (1.21.6)\n"
          ]
        }
      ]
    },
    {
      "cell_type": "code",
      "execution_count": null,
      "metadata": {
        "deletable": true,
        "editable": true,
        "id": "huya_W-wHmsP"
      },
      "outputs": [],
      "source": [
        "import cv2\n",
        "import math\n",
        "import matplotlib.pyplot as plt\n",
        "%matplotlib inline\n",
        "import pandas as pd\n",
        "import numpy as np\n",
        "from keras.preprocessing import image\n",
        "import numpy as np\n",
        "from keras.utils import np_utils\n",
        "from skimage.transform import resize\n",
        "from PIL import Image\n",
        "import re\n",
        "import os\n",
        "import random\n",
        "import shutil\n",
        "import keras\n",
        "from keras.models import load_model"
      ]
    },
    {
      "cell_type": "code",
      "source": [
        "# Download DATASET with the two types of videos collected.\n",
        "!gdown 1tvuEm0nvHzpC33Re73bdaVp_0kbsC9ev"
      ],
      "metadata": {
        "colab": {
          "base_uri": "https://localhost:8080/"
        },
        "id": "762GXRGFLJPN",
        "outputId": "82b0a3c4-6df8-4fe4-9846-037692f7a04a"
      },
      "execution_count": null,
      "outputs": [
        {
          "output_type": "stream",
          "name": "stdout",
          "text": [
            "Downloading...\n",
            "From: https://drive.google.com/uc?id=1tvuEm0nvHzpC33Re73bdaVp_0kbsC9ev\n",
            "To: /content/Videos_folder.zip\n",
            "\r  0% 0.00/10.7M [00:00<?, ?B/s]\r 44% 4.72M/10.7M [00:00<00:00, 44.3MB/s]\r100% 10.7M/10.7M [00:00<00:00, 64.0MB/s]\n"
          ]
        }
      ]
    },
    {
      "cell_type": "code",
      "source": [
        "!unzip Videos_folder.zip"
      ],
      "metadata": {
        "colab": {
          "base_uri": "https://localhost:8080/"
        },
        "id": "5CROrhzCxwCy",
        "outputId": "ac5e77a9-0647-47cb-a600-22a516f192d3"
      },
      "execution_count": null,
      "outputs": [
        {
          "output_type": "stream",
          "name": "stdout",
          "text": [
            "Archive:  Videos_folder.zip\n",
            "  inflating: Videos_folder/bot1.mp4  \n",
            "  inflating: Videos_folder/bot2.mp4  \n",
            "  inflating: Videos_folder/bot3.mp4  \n",
            "  inflating: Videos_folder/bot4.mp4  \n",
            "  inflating: Videos_folder/human1.mp4  \n",
            "  inflating: Videos_folder/human2.mp4  \n",
            "  inflating: Videos_folder/human3.mp4  \n",
            "  inflating: Videos_folder/human4.mp4  \n"
          ]
        }
      ]
    },
    {
      "cell_type": "markdown",
      "source": [
        "## Function to segment clips for Data population "
      ],
      "metadata": {
        "id": "iy4IAtq8Lx-P"
      }
    },
    {
      "cell_type": "code",
      "source": [
        "# Import everything needed to edit video clips\n",
        "from moviepy.editor import *\n",
        "\n",
        "# loading video dsa gfg intro video\n",
        "def divide_clips(name):\n",
        "\n",
        "  #name = \"bot1.mp4\"\n",
        "  clip = VideoFileClip(name)\n",
        "  duration = clip.duration\n",
        "  print(duration)\n",
        "  cnt=0\n",
        "  i=0\n",
        "  j = 0\n",
        "\n",
        "  while cnt==0 :\n",
        "    print(\"Resizing clipnow \",i)\n",
        "    try:\n",
        "      sclip = clip.subclip(i, i+10)\n",
        "    except:\n",
        "      cnt =1\n",
        "    if i+12 < duration :\n",
        "      i+=12\n",
        "    else :\n",
        "      cnt=1\n",
        "    sclip.write_videofile(name[:4]+str(j)+\"f.mp4\")\n",
        "    j+=1\n",
        "\n"
      ],
      "metadata": {
        "id": "Vd3LABQEndwa"
      },
      "execution_count": null,
      "outputs": []
    },
    {
      "cell_type": "code",
      "source": [
        "import os\n",
        "%cd Videos_folder\n",
        "os.listdir()"
      ],
      "metadata": {
        "colab": {
          "base_uri": "https://localhost:8080/"
        },
        "id": "v_JX2J3BMCvO",
        "outputId": "bd530a1e-0b56-4e26-e554-44bc521a6c3f"
      },
      "execution_count": null,
      "outputs": [
        {
          "output_type": "stream",
          "name": "stdout",
          "text": [
            "/content/Videos_folder\n"
          ]
        },
        {
          "output_type": "execute_result",
          "data": {
            "text/plain": [
              "['human1.mp4',\n",
              " 'human3.mp4',\n",
              " 'bot1.mp4',\n",
              " 'bot2.mp4',\n",
              " 'bot3.mp4',\n",
              " 'human4.mp4',\n",
              " 'bot4.mp4',\n",
              " 'human2.mp4']"
            ]
          },
          "metadata": {},
          "execution_count": 7
        }
      ]
    },
    {
      "cell_type": "code",
      "source": [
        "\n",
        "ls =  ['human1.mp4',\n",
        " 'bot1.mp4',\n",
        " 'bot2.mp4',\n",
        " 'bot3.mp4',\n",
        " 'human4.mp4',\n",
        " 'bot4.mp4',\n",
        " 'human2.mp4']\n",
        "\n",
        "for k in ls :\n",
        "  try:\n",
        "    divide_clips(k)\n",
        "  except:\n",
        "    continue\n"
      ],
      "metadata": {
        "id": "8WMUqT-3shhC",
        "colab": {
          "base_uri": "https://localhost:8080/"
        },
        "outputId": "d34f0f8f-4ab7-49c0-b401-84fa6e7a2dd3"
      },
      "execution_count": null,
      "outputs": [
        {
          "output_type": "stream",
          "name": "stdout",
          "text": [
            "123.72\n",
            "Resizing clipnow  0\n",
            "[MoviePy] >>>> Building video huma0f.mp4\n",
            "[MoviePy] Writing audio in huma0fTEMP_MPY_wvf_snd.mp3\n"
          ]
        },
        {
          "output_type": "stream",
          "name": "stderr",
          "text": [
            "100%|██████████| 221/221 [00:00<00:00, 346.64it/s]"
          ]
        },
        {
          "output_type": "stream",
          "name": "stdout",
          "text": [
            "[MoviePy] Done.\n",
            "[MoviePy] Writing video huma0f.mp4\n"
          ]
        },
        {
          "output_type": "stream",
          "name": "stderr",
          "text": [
            "\n",
            " 99%|█████████▊| 75/76 [00:00<00:00, 242.87it/s]\n"
          ]
        },
        {
          "output_type": "stream",
          "name": "stdout",
          "text": [
            "[MoviePy] Done.\n",
            "[MoviePy] >>>> Video ready: huma0f.mp4 \n",
            "\n",
            "Resizing clipnow  12\n",
            "[MoviePy] >>>> Building video huma1f.mp4\n",
            "[MoviePy] Writing audio in huma1fTEMP_MPY_wvf_snd.mp3\n"
          ]
        },
        {
          "output_type": "stream",
          "name": "stderr",
          "text": [
            "100%|██████████| 221/221 [00:00<00:00, 335.91it/s]"
          ]
        },
        {
          "output_type": "stream",
          "name": "stdout",
          "text": [
            "[MoviePy] Done.\n",
            "[MoviePy] Writing video huma1f.mp4\n"
          ]
        },
        {
          "output_type": "stream",
          "name": "stderr",
          "text": [
            "\n",
            " 99%|█████████▊| 75/76 [00:00<00:00, 267.93it/s]\n"
          ]
        },
        {
          "output_type": "stream",
          "name": "stdout",
          "text": [
            "[MoviePy] Done.\n",
            "[MoviePy] >>>> Video ready: huma1f.mp4 \n",
            "\n",
            "Resizing clipnow  24\n",
            "[MoviePy] >>>> Building video huma2f.mp4\n",
            "[MoviePy] Writing audio in huma2fTEMP_MPY_wvf_snd.mp3\n"
          ]
        },
        {
          "output_type": "stream",
          "name": "stderr",
          "text": [
            "100%|██████████| 221/221 [00:00<00:00, 844.06it/s]"
          ]
        },
        {
          "output_type": "stream",
          "name": "stdout",
          "text": [
            "[MoviePy] Done.\n",
            "[MoviePy] Writing video huma2f.mp4\n"
          ]
        },
        {
          "output_type": "stream",
          "name": "stderr",
          "text": [
            "\n",
            " 99%|█████████▊| 75/76 [00:00<00:00, 648.52it/s]\n"
          ]
        },
        {
          "output_type": "stream",
          "name": "stdout",
          "text": [
            "[MoviePy] Done.\n",
            "[MoviePy] >>>> Video ready: huma2f.mp4 \n",
            "\n",
            "Resizing clipnow  36\n",
            "[MoviePy] >>>> Building video huma3f.mp4\n",
            "[MoviePy] Writing audio in huma3fTEMP_MPY_wvf_snd.mp3\n"
          ]
        },
        {
          "output_type": "stream",
          "name": "stderr",
          "text": [
            "100%|██████████| 221/221 [00:00<00:00, 828.69it/s]"
          ]
        },
        {
          "output_type": "stream",
          "name": "stdout",
          "text": [
            "[MoviePy] Done.\n",
            "[MoviePy] Writing video huma3f.mp4\n"
          ]
        },
        {
          "output_type": "stream",
          "name": "stderr",
          "text": [
            "\n",
            " 99%|█████████▊| 75/76 [00:00<00:00, 575.39it/s]\n"
          ]
        },
        {
          "output_type": "stream",
          "name": "stdout",
          "text": [
            "[MoviePy] Done.\n",
            "[MoviePy] >>>> Video ready: huma3f.mp4 \n",
            "\n",
            "Resizing clipnow  48\n",
            "[MoviePy] >>>> Building video huma4f.mp4\n",
            "[MoviePy] Writing audio in huma4fTEMP_MPY_wvf_snd.mp3\n"
          ]
        },
        {
          "output_type": "stream",
          "name": "stderr",
          "text": [
            "100%|██████████| 221/221 [00:00<00:00, 828.79it/s]"
          ]
        },
        {
          "output_type": "stream",
          "name": "stdout",
          "text": [
            "[MoviePy] Done.\n",
            "[MoviePy] Writing video huma4f.mp4\n"
          ]
        },
        {
          "output_type": "stream",
          "name": "stderr",
          "text": [
            "\n",
            " 99%|█████████▊| 75/76 [00:00<00:00, 558.74it/s]\n"
          ]
        },
        {
          "output_type": "stream",
          "name": "stdout",
          "text": [
            "[MoviePy] Done.\n",
            "[MoviePy] >>>> Video ready: huma4f.mp4 \n",
            "\n",
            "Resizing clipnow  60\n",
            "[MoviePy] >>>> Building video huma5f.mp4\n",
            "[MoviePy] Writing audio in huma5fTEMP_MPY_wvf_snd.mp3\n"
          ]
        },
        {
          "output_type": "stream",
          "name": "stderr",
          "text": [
            "100%|██████████| 221/221 [00:00<00:00, 823.93it/s]"
          ]
        },
        {
          "output_type": "stream",
          "name": "stdout",
          "text": [
            "[MoviePy] Done.\n",
            "[MoviePy] Writing video huma5f.mp4\n"
          ]
        },
        {
          "output_type": "stream",
          "name": "stderr",
          "text": [
            "\n",
            " 99%|█████████▊| 75/76 [00:00<00:00, 607.32it/s]\n"
          ]
        },
        {
          "output_type": "stream",
          "name": "stdout",
          "text": [
            "[MoviePy] Done.\n",
            "[MoviePy] >>>> Video ready: huma5f.mp4 \n",
            "\n",
            "Resizing clipnow  72\n",
            "[MoviePy] >>>> Building video huma6f.mp4\n",
            "[MoviePy] Writing audio in huma6fTEMP_MPY_wvf_snd.mp3\n"
          ]
        },
        {
          "output_type": "stream",
          "name": "stderr",
          "text": [
            "100%|██████████| 221/221 [00:00<00:00, 757.59it/s]"
          ]
        },
        {
          "output_type": "stream",
          "name": "stdout",
          "text": [
            "[MoviePy] Done.\n"
          ]
        },
        {
          "output_type": "stream",
          "name": "stderr",
          "text": [
            "\n"
          ]
        },
        {
          "output_type": "stream",
          "name": "stdout",
          "text": [
            "[MoviePy] Writing video huma6f.mp4\n"
          ]
        },
        {
          "output_type": "stream",
          "name": "stderr",
          "text": [
            " 99%|█████████▊| 75/76 [00:00<00:00, 617.40it/s]\n"
          ]
        },
        {
          "output_type": "stream",
          "name": "stdout",
          "text": [
            "[MoviePy] Done.\n",
            "[MoviePy] >>>> Video ready: huma6f.mp4 \n",
            "\n",
            "Resizing clipnow  84\n",
            "[MoviePy] >>>> Building video huma7f.mp4\n",
            "[MoviePy] Writing audio in huma7fTEMP_MPY_wvf_snd.mp3\n"
          ]
        },
        {
          "output_type": "stream",
          "name": "stderr",
          "text": [
            "100%|██████████| 221/221 [00:00<00:00, 820.53it/s]"
          ]
        },
        {
          "output_type": "stream",
          "name": "stdout",
          "text": [
            "[MoviePy] Done.\n",
            "[MoviePy] Writing video huma7f.mp4\n"
          ]
        },
        {
          "output_type": "stream",
          "name": "stderr",
          "text": [
            "\n",
            " 99%|█████████▊| 75/76 [00:00<00:00, 553.06it/s]\n"
          ]
        },
        {
          "output_type": "stream",
          "name": "stdout",
          "text": [
            "[MoviePy] Done.\n",
            "[MoviePy] >>>> Video ready: huma7f.mp4 \n",
            "\n",
            "Resizing clipnow  96\n",
            "[MoviePy] >>>> Building video huma8f.mp4\n",
            "[MoviePy] Writing audio in huma8fTEMP_MPY_wvf_snd.mp3\n"
          ]
        },
        {
          "output_type": "stream",
          "name": "stderr",
          "text": [
            "100%|██████████| 221/221 [00:00<00:00, 819.07it/s]"
          ]
        },
        {
          "output_type": "stream",
          "name": "stdout",
          "text": [
            "[MoviePy] Done.\n",
            "[MoviePy] Writing video huma8f.mp4\n"
          ]
        },
        {
          "output_type": "stream",
          "name": "stderr",
          "text": [
            "\n",
            " 99%|█████████▊| 75/76 [00:00<00:00, 635.79it/s]\n"
          ]
        },
        {
          "output_type": "stream",
          "name": "stdout",
          "text": [
            "[MoviePy] Done.\n",
            "[MoviePy] >>>> Video ready: huma8f.mp4 \n",
            "\n",
            "Resizing clipnow  108\n",
            "[MoviePy] >>>> Building video huma9f.mp4\n",
            "[MoviePy] Writing audio in huma9fTEMP_MPY_wvf_snd.mp3\n"
          ]
        },
        {
          "output_type": "stream",
          "name": "stderr",
          "text": [
            "100%|██████████| 221/221 [00:00<00:00, 778.16it/s]"
          ]
        },
        {
          "output_type": "stream",
          "name": "stdout",
          "text": [
            "[MoviePy] Done.\n",
            "[MoviePy] Writing video huma9f.mp4\n"
          ]
        },
        {
          "output_type": "stream",
          "name": "stderr",
          "text": [
            "\n",
            " 99%|█████████▊| 75/76 [00:00<00:00, 655.77it/s]\n"
          ]
        },
        {
          "output_type": "stream",
          "name": "stdout",
          "text": [
            "[MoviePy] Done.\n",
            "[MoviePy] >>>> Video ready: huma9f.mp4 \n",
            "\n",
            "Resizing clipnow  120\n",
            "[MoviePy] >>>> Building video huma10f.mp4\n",
            "[MoviePy] Writing audio in huma10fTEMP_MPY_wvf_snd.mp3\n"
          ]
        },
        {
          "output_type": "stream",
          "name": "stderr",
          "text": [
            " 38%|███▊      | 83/221 [00:00<00:00, 725.57it/s]\n"
          ]
        },
        {
          "output_type": "stream",
          "name": "stdout",
          "text": [
            "361.49\n",
            "Resizing clipnow  0\n",
            "[MoviePy] >>>> Building video bot10f.mp4\n",
            "[MoviePy] Writing audio in bot10fTEMP_MPY_wvf_snd.mp3\n"
          ]
        },
        {
          "output_type": "stream",
          "name": "stderr",
          "text": [
            "100%|██████████| 221/221 [00:00<00:00, 871.01it/s]"
          ]
        },
        {
          "output_type": "stream",
          "name": "stdout",
          "text": [
            "[MoviePy] Done.\n",
            "[MoviePy] Writing video bot10f.mp4\n"
          ]
        },
        {
          "output_type": "stream",
          "name": "stderr",
          "text": [
            "\n",
            " 99%|█████████▊| 75/76 [00:00<00:00, 918.75it/s]\n"
          ]
        },
        {
          "output_type": "stream",
          "name": "stdout",
          "text": [
            "[MoviePy] Done.\n",
            "[MoviePy] >>>> Video ready: bot10f.mp4 \n",
            "\n",
            "Resizing clipnow  12\n",
            "[MoviePy] >>>> Building video bot11f.mp4\n",
            "[MoviePy] Writing audio in bot11fTEMP_MPY_wvf_snd.mp3\n"
          ]
        },
        {
          "output_type": "stream",
          "name": "stderr",
          "text": [
            "100%|██████████| 221/221 [00:00<00:00, 891.46it/s]"
          ]
        },
        {
          "output_type": "stream",
          "name": "stdout",
          "text": [
            "[MoviePy] Done.\n",
            "[MoviePy] Writing video bot11f.mp4\n"
          ]
        },
        {
          "output_type": "stream",
          "name": "stderr",
          "text": [
            "\n",
            " 99%|█████████▊| 75/76 [00:00<00:00, 1060.92it/s]\n"
          ]
        },
        {
          "output_type": "stream",
          "name": "stdout",
          "text": [
            "[MoviePy] Done.\n",
            "[MoviePy] >>>> Video ready: bot11f.mp4 \n",
            "\n",
            "Resizing clipnow  24\n",
            "[MoviePy] >>>> Building video bot12f.mp4\n",
            "[MoviePy] Writing audio in bot12fTEMP_MPY_wvf_snd.mp3\n"
          ]
        },
        {
          "output_type": "stream",
          "name": "stderr",
          "text": [
            "100%|██████████| 221/221 [00:00<00:00, 800.74it/s]"
          ]
        },
        {
          "output_type": "stream",
          "name": "stdout",
          "text": [
            "[MoviePy] Done.\n",
            "[MoviePy] Writing video bot12f.mp4\n"
          ]
        },
        {
          "output_type": "stream",
          "name": "stderr",
          "text": [
            "\n",
            " 99%|█████████▊| 75/76 [00:00<00:00, 598.35it/s]\n"
          ]
        },
        {
          "output_type": "stream",
          "name": "stdout",
          "text": [
            "[MoviePy] Done.\n",
            "[MoviePy] >>>> Video ready: bot12f.mp4 \n",
            "\n",
            "Resizing clipnow  36\n",
            "[MoviePy] >>>> Building video bot13f.mp4\n",
            "[MoviePy] Writing audio in bot13fTEMP_MPY_wvf_snd.mp3\n"
          ]
        },
        {
          "output_type": "stream",
          "name": "stderr",
          "text": [
            "100%|██████████| 221/221 [00:00<00:00, 923.37it/s]"
          ]
        },
        {
          "output_type": "stream",
          "name": "stdout",
          "text": [
            "[MoviePy] Done.\n",
            "[MoviePy] Writing video bot13f.mp4\n"
          ]
        },
        {
          "output_type": "stream",
          "name": "stderr",
          "text": [
            "\n",
            " 99%|█████████▊| 75/76 [00:00<00:00, 629.24it/s]\n"
          ]
        },
        {
          "output_type": "stream",
          "name": "stdout",
          "text": [
            "[MoviePy] Done.\n",
            "[MoviePy] >>>> Video ready: bot13f.mp4 \n",
            "\n",
            "Resizing clipnow  48\n",
            "[MoviePy] >>>> Building video bot14f.mp4\n",
            "[MoviePy] Writing audio in bot14fTEMP_MPY_wvf_snd.mp3\n"
          ]
        },
        {
          "output_type": "stream",
          "name": "stderr",
          "text": [
            "100%|██████████| 221/221 [00:00<00:00, 838.33it/s]"
          ]
        },
        {
          "output_type": "stream",
          "name": "stdout",
          "text": [
            "[MoviePy] Done.\n",
            "[MoviePy] Writing video bot14f.mp4\n"
          ]
        },
        {
          "output_type": "stream",
          "name": "stderr",
          "text": [
            "\n",
            " 99%|█████████▊| 75/76 [00:00<00:00, 684.48it/s]\n"
          ]
        },
        {
          "output_type": "stream",
          "name": "stdout",
          "text": [
            "[MoviePy] Done.\n",
            "[MoviePy] >>>> Video ready: bot14f.mp4 \n",
            "\n",
            "Resizing clipnow  60\n",
            "[MoviePy] >>>> Building video bot15f.mp4\n",
            "[MoviePy] Writing audio in bot15fTEMP_MPY_wvf_snd.mp3\n"
          ]
        },
        {
          "output_type": "stream",
          "name": "stderr",
          "text": [
            "100%|██████████| 221/221 [00:00<00:00, 938.48it/s]"
          ]
        },
        {
          "output_type": "stream",
          "name": "stdout",
          "text": [
            "[MoviePy] Done.\n",
            "[MoviePy] Writing video bot15f.mp4\n"
          ]
        },
        {
          "output_type": "stream",
          "name": "stderr",
          "text": [
            "\n",
            " 99%|█████████▊| 75/76 [00:00<00:00, 776.21it/s]\n"
          ]
        },
        {
          "output_type": "stream",
          "name": "stdout",
          "text": [
            "[MoviePy] Done.\n",
            "[MoviePy] >>>> Video ready: bot15f.mp4 \n",
            "\n",
            "Resizing clipnow  72\n",
            "[MoviePy] >>>> Building video bot16f.mp4\n",
            "[MoviePy] Writing audio in bot16fTEMP_MPY_wvf_snd.mp3\n"
          ]
        },
        {
          "output_type": "stream",
          "name": "stderr",
          "text": [
            "100%|██████████| 221/221 [00:00<00:00, 854.86it/s]"
          ]
        },
        {
          "output_type": "stream",
          "name": "stdout",
          "text": [
            "[MoviePy] Done.\n",
            "[MoviePy] Writing video bot16f.mp4\n"
          ]
        },
        {
          "output_type": "stream",
          "name": "stderr",
          "text": [
            "\n",
            " 99%|█████████▊| 75/76 [00:00<00:00, 1033.11it/s]\n"
          ]
        },
        {
          "output_type": "stream",
          "name": "stdout",
          "text": [
            "[MoviePy] Done.\n",
            "[MoviePy] >>>> Video ready: bot16f.mp4 \n",
            "\n",
            "Resizing clipnow  84\n",
            "[MoviePy] >>>> Building video bot17f.mp4\n",
            "[MoviePy] Writing audio in bot17fTEMP_MPY_wvf_snd.mp3\n"
          ]
        },
        {
          "output_type": "stream",
          "name": "stderr",
          "text": [
            "100%|██████████| 221/221 [00:00<00:00, 802.89it/s]"
          ]
        },
        {
          "output_type": "stream",
          "name": "stdout",
          "text": [
            "[MoviePy] Done.\n",
            "[MoviePy] Writing video bot17f.mp4\n"
          ]
        },
        {
          "output_type": "stream",
          "name": "stderr",
          "text": [
            "\n",
            " 99%|█████████▊| 75/76 [00:00<00:00, 990.20it/s]\n"
          ]
        },
        {
          "output_type": "stream",
          "name": "stdout",
          "text": [
            "[MoviePy] Done.\n",
            "[MoviePy] >>>> Video ready: bot17f.mp4 \n",
            "\n",
            "Resizing clipnow  96\n",
            "[MoviePy] >>>> Building video bot18f.mp4\n",
            "[MoviePy] Writing audio in bot18fTEMP_MPY_wvf_snd.mp3\n"
          ]
        },
        {
          "output_type": "stream",
          "name": "stderr",
          "text": [
            "100%|██████████| 221/221 [00:00<00:00, 755.58it/s]\n"
          ]
        },
        {
          "output_type": "stream",
          "name": "stdout",
          "text": [
            "[MoviePy] Done.\n",
            "[MoviePy] Writing video bot18f.mp4\n"
          ]
        },
        {
          "output_type": "stream",
          "name": "stderr",
          "text": [
            " 99%|█████████▊| 75/76 [00:00<00:00, 990.71it/s]"
          ]
        },
        {
          "output_type": "stream",
          "name": "stdout",
          "text": [
            "[MoviePy] Done.\n",
            "[MoviePy] >>>> Video ready: bot18f.mp4 \n",
            "\n",
            "Resizing clipnow  108\n",
            "[MoviePy] >>>> Building video bot19f.mp4\n",
            "[MoviePy] Writing audio in bot19fTEMP_MPY_wvf_snd.mp3\n"
          ]
        },
        {
          "output_type": "stream",
          "name": "stderr",
          "text": [
            "\n",
            "100%|██████████| 221/221 [00:00<00:00, 867.61it/s]"
          ]
        },
        {
          "output_type": "stream",
          "name": "stdout",
          "text": [
            "[MoviePy] Done.\n",
            "[MoviePy] Writing video bot19f.mp4\n"
          ]
        },
        {
          "output_type": "stream",
          "name": "stderr",
          "text": [
            "\n",
            " 99%|█████████▊| 75/76 [00:00<00:00, 1083.81it/s]\n"
          ]
        },
        {
          "output_type": "stream",
          "name": "stdout",
          "text": [
            "[MoviePy] Done.\n",
            "[MoviePy] >>>> Video ready: bot19f.mp4 \n",
            "\n",
            "Resizing clipnow  120\n",
            "[MoviePy] >>>> Building video bot110f.mp4\n",
            "[MoviePy] Writing audio in bot110fTEMP_MPY_wvf_snd.mp3\n"
          ]
        },
        {
          "output_type": "stream",
          "name": "stderr",
          "text": [
            "100%|██████████| 221/221 [00:00<00:00, 844.13it/s]"
          ]
        },
        {
          "output_type": "stream",
          "name": "stdout",
          "text": [
            "[MoviePy] Done.\n",
            "[MoviePy] Writing video bot110f.mp4\n"
          ]
        },
        {
          "output_type": "stream",
          "name": "stderr",
          "text": [
            "\n",
            " 99%|█████████▊| 75/76 [00:00<00:00, 1014.35it/s]\n"
          ]
        },
        {
          "output_type": "stream",
          "name": "stdout",
          "text": [
            "[MoviePy] Done.\n",
            "[MoviePy] >>>> Video ready: bot110f.mp4 \n",
            "\n",
            "Resizing clipnow  132\n",
            "[MoviePy] >>>> Building video bot111f.mp4\n",
            "[MoviePy] Writing audio in bot111fTEMP_MPY_wvf_snd.mp3\n"
          ]
        },
        {
          "output_type": "stream",
          "name": "stderr",
          "text": [
            "100%|██████████| 221/221 [00:00<00:00, 969.19it/s] "
          ]
        },
        {
          "output_type": "stream",
          "name": "stdout",
          "text": [
            "[MoviePy] Done.\n",
            "[MoviePy] Writing video bot111f.mp4\n"
          ]
        },
        {
          "output_type": "stream",
          "name": "stderr",
          "text": [
            "\n",
            " 99%|█████████▊| 75/76 [00:00<00:00, 776.45it/s]\n"
          ]
        },
        {
          "output_type": "stream",
          "name": "stdout",
          "text": [
            "[MoviePy] Done.\n",
            "[MoviePy] >>>> Video ready: bot111f.mp4 \n",
            "\n",
            "Resizing clipnow  144\n",
            "[MoviePy] >>>> Building video bot112f.mp4\n",
            "[MoviePy] Writing audio in bot112fTEMP_MPY_wvf_snd.mp3\n"
          ]
        },
        {
          "output_type": "stream",
          "name": "stderr",
          "text": [
            "100%|██████████| 221/221 [00:00<00:00, 850.54it/s]"
          ]
        },
        {
          "output_type": "stream",
          "name": "stdout",
          "text": [
            "[MoviePy] Done.\n",
            "[MoviePy] Writing video bot112f.mp4\n"
          ]
        },
        {
          "output_type": "stream",
          "name": "stderr",
          "text": [
            "\n",
            " 99%|█████████▊| 75/76 [00:00<00:00, 835.37it/s]\n"
          ]
        },
        {
          "output_type": "stream",
          "name": "stdout",
          "text": [
            "[MoviePy] Done.\n",
            "[MoviePy] >>>> Video ready: bot112f.mp4 \n",
            "\n",
            "Resizing clipnow  156\n",
            "[MoviePy] >>>> Building video bot113f.mp4\n",
            "[MoviePy] Writing audio in bot113fTEMP_MPY_wvf_snd.mp3\n"
          ]
        },
        {
          "output_type": "stream",
          "name": "stderr",
          "text": [
            "100%|██████████| 221/221 [00:00<00:00, 858.46it/s]"
          ]
        },
        {
          "output_type": "stream",
          "name": "stdout",
          "text": [
            "[MoviePy] Done.\n",
            "[MoviePy] Writing video bot113f.mp4\n"
          ]
        },
        {
          "output_type": "stream",
          "name": "stderr",
          "text": [
            "\n",
            " 99%|█████████▊| 75/76 [00:00<00:00, 1269.26it/s]\n"
          ]
        },
        {
          "output_type": "stream",
          "name": "stdout",
          "text": [
            "[MoviePy] Done.\n",
            "[MoviePy] >>>> Video ready: bot113f.mp4 \n",
            "\n",
            "Resizing clipnow  168\n",
            "[MoviePy] >>>> Building video bot114f.mp4\n",
            "[MoviePy] Writing audio in bot114fTEMP_MPY_wvf_snd.mp3\n"
          ]
        },
        {
          "output_type": "stream",
          "name": "stderr",
          "text": [
            "100%|██████████| 221/221 [00:00<00:00, 824.94it/s]"
          ]
        },
        {
          "output_type": "stream",
          "name": "stdout",
          "text": [
            "[MoviePy] Done.\n",
            "[MoviePy] Writing video bot114f.mp4\n"
          ]
        },
        {
          "output_type": "stream",
          "name": "stderr",
          "text": [
            "\n",
            " 99%|█████████▊| 75/76 [00:00<00:00, 1097.32it/s]\n"
          ]
        },
        {
          "output_type": "stream",
          "name": "stdout",
          "text": [
            "[MoviePy] Done.\n",
            "[MoviePy] >>>> Video ready: bot114f.mp4 \n",
            "\n",
            "Resizing clipnow  180\n",
            "[MoviePy] >>>> Building video bot115f.mp4\n",
            "[MoviePy] Writing audio in bot115fTEMP_MPY_wvf_snd.mp3\n"
          ]
        },
        {
          "output_type": "stream",
          "name": "stderr",
          "text": [
            "100%|██████████| 221/221 [00:00<00:00, 910.83it/s]"
          ]
        },
        {
          "output_type": "stream",
          "name": "stdout",
          "text": [
            "[MoviePy] Done.\n",
            "[MoviePy] Writing video bot115f.mp4\n"
          ]
        },
        {
          "output_type": "stream",
          "name": "stderr",
          "text": [
            "\n",
            " 99%|█████████▊| 75/76 [00:00<00:00, 1111.29it/s]\n"
          ]
        },
        {
          "output_type": "stream",
          "name": "stdout",
          "text": [
            "[MoviePy] Done.\n",
            "[MoviePy] >>>> Video ready: bot115f.mp4 \n",
            "\n",
            "Resizing clipnow  192\n",
            "[MoviePy] >>>> Building video bot116f.mp4\n",
            "[MoviePy] Writing audio in bot116fTEMP_MPY_wvf_snd.mp3\n"
          ]
        },
        {
          "output_type": "stream",
          "name": "stderr",
          "text": [
            "100%|██████████| 221/221 [00:00<00:00, 875.83it/s]"
          ]
        },
        {
          "output_type": "stream",
          "name": "stdout",
          "text": [
            "[MoviePy] Done.\n",
            "[MoviePy] Writing video bot116f.mp4\n"
          ]
        },
        {
          "output_type": "stream",
          "name": "stderr",
          "text": [
            "\n",
            " 99%|█████████▊| 75/76 [00:00<00:00, 979.53it/s]\n"
          ]
        },
        {
          "output_type": "stream",
          "name": "stdout",
          "text": [
            "[MoviePy] Done.\n",
            "[MoviePy] >>>> Video ready: bot116f.mp4 \n",
            "\n",
            "Resizing clipnow  204\n",
            "[MoviePy] >>>> Building video bot117f.mp4\n",
            "[MoviePy] Writing audio in bot117fTEMP_MPY_wvf_snd.mp3\n"
          ]
        },
        {
          "output_type": "stream",
          "name": "stderr",
          "text": [
            "100%|██████████| 221/221 [00:00<00:00, 846.17it/s]"
          ]
        },
        {
          "output_type": "stream",
          "name": "stdout",
          "text": [
            "[MoviePy] Done.\n",
            "[MoviePy] Writing video bot117f.mp4\n"
          ]
        },
        {
          "output_type": "stream",
          "name": "stderr",
          "text": [
            "\n",
            " 99%|█████████▊| 75/76 [00:00<00:00, 764.00it/s]\n"
          ]
        },
        {
          "output_type": "stream",
          "name": "stdout",
          "text": [
            "[MoviePy] Done.\n",
            "[MoviePy] >>>> Video ready: bot117f.mp4 \n",
            "\n",
            "Resizing clipnow  216\n",
            "[MoviePy] >>>> Building video bot118f.mp4\n",
            "[MoviePy] Writing audio in bot118fTEMP_MPY_wvf_snd.mp3\n"
          ]
        },
        {
          "output_type": "stream",
          "name": "stderr",
          "text": [
            "100%|██████████| 221/221 [00:00<00:00, 803.37it/s]"
          ]
        },
        {
          "output_type": "stream",
          "name": "stdout",
          "text": [
            "[MoviePy] Done.\n",
            "[MoviePy] Writing video bot118f.mp4\n"
          ]
        },
        {
          "output_type": "stream",
          "name": "stderr",
          "text": [
            "\n",
            " 99%|█████████▊| 75/76 [00:00<00:00, 887.71it/s]\n"
          ]
        },
        {
          "output_type": "stream",
          "name": "stdout",
          "text": [
            "[MoviePy] Done.\n",
            "[MoviePy] >>>> Video ready: bot118f.mp4 \n",
            "\n",
            "Resizing clipnow  228\n",
            "[MoviePy] >>>> Building video bot119f.mp4\n",
            "[MoviePy] Writing audio in bot119fTEMP_MPY_wvf_snd.mp3\n"
          ]
        },
        {
          "output_type": "stream",
          "name": "stderr",
          "text": [
            "100%|██████████| 221/221 [00:00<00:00, 809.98it/s]"
          ]
        },
        {
          "output_type": "stream",
          "name": "stdout",
          "text": [
            "[MoviePy] Done.\n",
            "[MoviePy] Writing video bot119f.mp4\n"
          ]
        },
        {
          "output_type": "stream",
          "name": "stderr",
          "text": [
            "\n",
            " 99%|█████████▊| 75/76 [00:00<00:00, 1199.75it/s]\n"
          ]
        },
        {
          "output_type": "stream",
          "name": "stdout",
          "text": [
            "[MoviePy] Done.\n",
            "[MoviePy] >>>> Video ready: bot119f.mp4 \n",
            "\n",
            "Resizing clipnow  240\n",
            "[MoviePy] >>>> Building video bot120f.mp4\n",
            "[MoviePy] Writing audio in bot120fTEMP_MPY_wvf_snd.mp3\n"
          ]
        },
        {
          "output_type": "stream",
          "name": "stderr",
          "text": [
            "100%|██████████| 221/221 [00:00<00:00, 813.41it/s]"
          ]
        },
        {
          "output_type": "stream",
          "name": "stdout",
          "text": [
            "[MoviePy] Done.\n",
            "[MoviePy] Writing video bot120f.mp4\n"
          ]
        },
        {
          "output_type": "stream",
          "name": "stderr",
          "text": [
            "\n",
            " 99%|█████████▊| 75/76 [00:00<00:00, 1077.75it/s]\n"
          ]
        },
        {
          "output_type": "stream",
          "name": "stdout",
          "text": [
            "[MoviePy] Done.\n",
            "[MoviePy] >>>> Video ready: bot120f.mp4 \n",
            "\n",
            "Resizing clipnow  252\n",
            "[MoviePy] >>>> Building video bot121f.mp4\n",
            "[MoviePy] Writing audio in bot121fTEMP_MPY_wvf_snd.mp3\n"
          ]
        },
        {
          "output_type": "stream",
          "name": "stderr",
          "text": [
            "100%|██████████| 221/221 [00:00<00:00, 860.64it/s]"
          ]
        },
        {
          "output_type": "stream",
          "name": "stdout",
          "text": [
            "[MoviePy] Done.\n",
            "[MoviePy] Writing video bot121f.mp4\n"
          ]
        },
        {
          "output_type": "stream",
          "name": "stderr",
          "text": [
            "\n",
            " 99%|█████████▊| 75/76 [00:00<00:00, 875.81it/s]\n"
          ]
        },
        {
          "output_type": "stream",
          "name": "stdout",
          "text": [
            "[MoviePy] Done.\n",
            "[MoviePy] >>>> Video ready: bot121f.mp4 \n",
            "\n",
            "Resizing clipnow  264\n",
            "[MoviePy] >>>> Building video bot122f.mp4\n",
            "[MoviePy] Writing audio in bot122fTEMP_MPY_wvf_snd.mp3\n"
          ]
        },
        {
          "output_type": "stream",
          "name": "stderr",
          "text": [
            "100%|██████████| 221/221 [00:00<00:00, 846.95it/s]"
          ]
        },
        {
          "output_type": "stream",
          "name": "stdout",
          "text": [
            "[MoviePy] Done.\n",
            "[MoviePy] Writing video bot122f.mp4\n"
          ]
        },
        {
          "output_type": "stream",
          "name": "stderr",
          "text": [
            "\n",
            " 99%|█████████▊| 75/76 [00:00<00:00, 1146.85it/s]\n"
          ]
        },
        {
          "output_type": "stream",
          "name": "stdout",
          "text": [
            "[MoviePy] Done.\n",
            "[MoviePy] >>>> Video ready: bot122f.mp4 \n",
            "\n",
            "Resizing clipnow  276\n",
            "[MoviePy] >>>> Building video bot123f.mp4\n",
            "[MoviePy] Writing audio in bot123fTEMP_MPY_wvf_snd.mp3\n"
          ]
        },
        {
          "output_type": "stream",
          "name": "stderr",
          "text": [
            "100%|██████████| 221/221 [00:00<00:00, 816.88it/s]"
          ]
        },
        {
          "output_type": "stream",
          "name": "stdout",
          "text": [
            "[MoviePy] Done.\n",
            "[MoviePy] Writing video bot123f.mp4\n"
          ]
        },
        {
          "output_type": "stream",
          "name": "stderr",
          "text": [
            "\n",
            " 99%|█████████▊| 75/76 [00:00<00:00, 1046.19it/s]\n"
          ]
        },
        {
          "output_type": "stream",
          "name": "stdout",
          "text": [
            "[MoviePy] Done.\n",
            "[MoviePy] >>>> Video ready: bot123f.mp4 \n",
            "\n",
            "Resizing clipnow  288\n",
            "[MoviePy] >>>> Building video bot124f.mp4\n",
            "[MoviePy] Writing audio in bot124fTEMP_MPY_wvf_snd.mp3\n"
          ]
        },
        {
          "output_type": "stream",
          "name": "stderr",
          "text": [
            "100%|██████████| 221/221 [00:00<00:00, 813.04it/s]"
          ]
        },
        {
          "output_type": "stream",
          "name": "stdout",
          "text": [
            "[MoviePy] Done.\n",
            "[MoviePy] Writing video bot124f.mp4\n"
          ]
        },
        {
          "output_type": "stream",
          "name": "stderr",
          "text": [
            "\n",
            " 99%|█████████▊| 75/76 [00:00<00:00, 1131.49it/s]\n"
          ]
        },
        {
          "output_type": "stream",
          "name": "stdout",
          "text": [
            "[MoviePy] Done.\n",
            "[MoviePy] >>>> Video ready: bot124f.mp4 \n",
            "\n",
            "Resizing clipnow  300\n",
            "[MoviePy] >>>> Building video bot125f.mp4\n",
            "[MoviePy] Writing audio in bot125fTEMP_MPY_wvf_snd.mp3\n"
          ]
        },
        {
          "output_type": "stream",
          "name": "stderr",
          "text": [
            "100%|██████████| 221/221 [00:00<00:00, 835.80it/s]"
          ]
        },
        {
          "output_type": "stream",
          "name": "stdout",
          "text": [
            "[MoviePy] Done.\n",
            "[MoviePy] Writing video bot125f.mp4\n"
          ]
        },
        {
          "output_type": "stream",
          "name": "stderr",
          "text": [
            "\n",
            " 99%|█████████▊| 75/76 [00:00<00:00, 766.23it/s]\n"
          ]
        },
        {
          "output_type": "stream",
          "name": "stdout",
          "text": [
            "[MoviePy] Done.\n",
            "[MoviePy] >>>> Video ready: bot125f.mp4 \n",
            "\n",
            "Resizing clipnow  312\n",
            "[MoviePy] >>>> Building video bot126f.mp4\n",
            "[MoviePy] Writing audio in bot126fTEMP_MPY_wvf_snd.mp3\n"
          ]
        },
        {
          "output_type": "stream",
          "name": "stderr",
          "text": [
            "100%|██████████| 221/221 [00:00<00:00, 852.96it/s]"
          ]
        },
        {
          "output_type": "stream",
          "name": "stdout",
          "text": [
            "[MoviePy] Done.\n",
            "[MoviePy] Writing video bot126f.mp4\n"
          ]
        },
        {
          "output_type": "stream",
          "name": "stderr",
          "text": [
            "\n",
            " 99%|█████████▊| 75/76 [00:00<00:00, 805.51it/s]\n"
          ]
        },
        {
          "output_type": "stream",
          "name": "stdout",
          "text": [
            "[MoviePy] Done.\n",
            "[MoviePy] >>>> Video ready: bot126f.mp4 \n",
            "\n",
            "Resizing clipnow  324\n",
            "[MoviePy] >>>> Building video bot127f.mp4\n",
            "[MoviePy] Writing audio in bot127fTEMP_MPY_wvf_snd.mp3\n"
          ]
        },
        {
          "output_type": "stream",
          "name": "stderr",
          "text": [
            "100%|██████████| 221/221 [00:00<00:00, 840.99it/s]"
          ]
        },
        {
          "output_type": "stream",
          "name": "stdout",
          "text": [
            "[MoviePy] Done.\n",
            "[MoviePy] Writing video bot127f.mp4\n"
          ]
        },
        {
          "output_type": "stream",
          "name": "stderr",
          "text": [
            "\n",
            " 99%|█████████▊| 75/76 [00:00<00:00, 825.74it/s]\n"
          ]
        },
        {
          "output_type": "stream",
          "name": "stdout",
          "text": [
            "[MoviePy] Done.\n",
            "[MoviePy] >>>> Video ready: bot127f.mp4 \n",
            "\n",
            "Resizing clipnow  336\n",
            "[MoviePy] >>>> Building video bot128f.mp4\n",
            "[MoviePy] Writing audio in bot128fTEMP_MPY_wvf_snd.mp3\n"
          ]
        },
        {
          "output_type": "stream",
          "name": "stderr",
          "text": [
            "100%|██████████| 221/221 [00:00<00:00, 844.05it/s]"
          ]
        },
        {
          "output_type": "stream",
          "name": "stdout",
          "text": [
            "[MoviePy] Done.\n",
            "[MoviePy] Writing video bot128f.mp4\n"
          ]
        },
        {
          "output_type": "stream",
          "name": "stderr",
          "text": [
            "\n",
            " 99%|█████████▊| 75/76 [00:00<00:00, 990.78it/s]\n"
          ]
        },
        {
          "output_type": "stream",
          "name": "stdout",
          "text": [
            "[MoviePy] Done.\n",
            "[MoviePy] >>>> Video ready: bot128f.mp4 \n",
            "\n",
            "Resizing clipnow  348\n",
            "[MoviePy] >>>> Building video bot129f.mp4\n",
            "[MoviePy] Writing audio in bot129fTEMP_MPY_wvf_snd.mp3\n"
          ]
        },
        {
          "output_type": "stream",
          "name": "stderr",
          "text": [
            "100%|██████████| 221/221 [00:00<00:00, 822.17it/s]"
          ]
        },
        {
          "output_type": "stream",
          "name": "stdout",
          "text": [
            "[MoviePy] Done.\n",
            "[MoviePy] Writing video bot129f.mp4\n"
          ]
        },
        {
          "output_type": "stream",
          "name": "stderr",
          "text": [
            "\n",
            " 99%|█████████▊| 75/76 [00:00<00:00, 893.51it/s]\n"
          ]
        },
        {
          "output_type": "stream",
          "name": "stdout",
          "text": [
            "[MoviePy] Done.\n",
            "[MoviePy] >>>> Video ready: bot129f.mp4 \n",
            "\n",
            "Resizing clipnow  360\n",
            "[MoviePy] >>>> Building video bot130f.mp4\n",
            "[MoviePy] Writing audio in bot130fTEMP_MPY_wvf_snd.mp3\n"
          ]
        },
        {
          "output_type": "stream",
          "name": "stderr",
          "text": [
            " 15%|█▍        | 33/221 [00:00<00:00, 724.70it/s]\n"
          ]
        },
        {
          "output_type": "stream",
          "name": "stdout",
          "text": [
            "200.99\n",
            "Resizing clipnow  0\n",
            "[MoviePy] >>>> Building video bot20f.mp4\n",
            "[MoviePy] Writing audio in bot20fTEMP_MPY_wvf_snd.mp3\n"
          ]
        },
        {
          "output_type": "stream",
          "name": "stderr",
          "text": [
            "100%|██████████| 221/221 [00:00<00:00, 1153.18it/s]\n"
          ]
        },
        {
          "output_type": "stream",
          "name": "stdout",
          "text": [
            "[MoviePy] Done.\n",
            "[MoviePy] Writing video bot20f.mp4\n"
          ]
        },
        {
          "output_type": "stream",
          "name": "stderr",
          "text": [
            "100%|██████████| 75/75 [00:00<00:00, 1052.77it/s]"
          ]
        },
        {
          "output_type": "stream",
          "name": "stdout",
          "text": [
            "[MoviePy] Done.\n",
            "[MoviePy] >>>> Video ready: bot20f.mp4 \n",
            "\n"
          ]
        },
        {
          "output_type": "stream",
          "name": "stderr",
          "text": [
            "\n"
          ]
        },
        {
          "output_type": "stream",
          "name": "stdout",
          "text": [
            "Resizing clipnow  12\n",
            "[MoviePy] >>>> Building video bot21f.mp4\n",
            "[MoviePy] Writing audio in bot21fTEMP_MPY_wvf_snd.mp3\n"
          ]
        },
        {
          "output_type": "stream",
          "name": "stderr",
          "text": [
            "100%|██████████| 221/221 [00:00<00:00, 840.98it/s]"
          ]
        },
        {
          "output_type": "stream",
          "name": "stdout",
          "text": [
            "[MoviePy] Done.\n",
            "[MoviePy] Writing video bot21f.mp4\n"
          ]
        },
        {
          "output_type": "stream",
          "name": "stderr",
          "text": [
            "\n",
            "100%|██████████| 75/75 [00:00<00:00, 954.98it/s]\n"
          ]
        },
        {
          "output_type": "stream",
          "name": "stdout",
          "text": [
            "[MoviePy] Done.\n",
            "[MoviePy] >>>> Video ready: bot21f.mp4 \n",
            "\n",
            "Resizing clipnow  24\n",
            "[MoviePy] >>>> Building video bot22f.mp4\n",
            "[MoviePy] Writing audio in bot22fTEMP_MPY_wvf_snd.mp3\n"
          ]
        },
        {
          "output_type": "stream",
          "name": "stderr",
          "text": [
            "100%|██████████| 221/221 [00:00<00:00, 847.66it/s]"
          ]
        },
        {
          "output_type": "stream",
          "name": "stdout",
          "text": [
            "[MoviePy] Done.\n",
            "[MoviePy] Writing video bot22f.mp4\n"
          ]
        },
        {
          "output_type": "stream",
          "name": "stderr",
          "text": [
            "\n",
            "100%|██████████| 75/75 [00:00<00:00, 779.61it/s]\n"
          ]
        },
        {
          "output_type": "stream",
          "name": "stdout",
          "text": [
            "[MoviePy] Done.\n",
            "[MoviePy] >>>> Video ready: bot22f.mp4 \n",
            "\n",
            "Resizing clipnow  36\n",
            "[MoviePy] >>>> Building video bot23f.mp4\n",
            "[MoviePy] Writing audio in bot23fTEMP_MPY_wvf_snd.mp3\n"
          ]
        },
        {
          "output_type": "stream",
          "name": "stderr",
          "text": [
            "100%|██████████| 221/221 [00:00<00:00, 794.92it/s]"
          ]
        },
        {
          "output_type": "stream",
          "name": "stdout",
          "text": [
            "[MoviePy] Done.\n",
            "[MoviePy] Writing video bot23f.mp4\n"
          ]
        },
        {
          "output_type": "stream",
          "name": "stderr",
          "text": [
            "\n",
            "100%|██████████| 75/75 [00:00<00:00, 844.55it/s]\n"
          ]
        },
        {
          "output_type": "stream",
          "name": "stdout",
          "text": [
            "[MoviePy] Done.\n",
            "[MoviePy] >>>> Video ready: bot23f.mp4 \n",
            "\n",
            "Resizing clipnow  48\n",
            "[MoviePy] >>>> Building video bot24f.mp4\n",
            "[MoviePy] Writing audio in bot24fTEMP_MPY_wvf_snd.mp3\n"
          ]
        },
        {
          "output_type": "stream",
          "name": "stderr",
          "text": [
            "100%|██████████| 221/221 [00:00<00:00, 834.87it/s]"
          ]
        },
        {
          "output_type": "stream",
          "name": "stdout",
          "text": [
            "[MoviePy] Done.\n",
            "[MoviePy] Writing video bot24f.mp4\n"
          ]
        },
        {
          "output_type": "stream",
          "name": "stderr",
          "text": [
            "\n",
            "100%|██████████| 75/75 [00:00<00:00, 761.02it/s]\n"
          ]
        },
        {
          "output_type": "stream",
          "name": "stdout",
          "text": [
            "[MoviePy] Done.\n",
            "[MoviePy] >>>> Video ready: bot24f.mp4 \n",
            "\n",
            "Resizing clipnow  60\n",
            "[MoviePy] >>>> Building video bot25f.mp4\n",
            "[MoviePy] Writing audio in bot25fTEMP_MPY_wvf_snd.mp3\n"
          ]
        },
        {
          "output_type": "stream",
          "name": "stderr",
          "text": [
            "100%|██████████| 221/221 [00:00<00:00, 844.18it/s]"
          ]
        },
        {
          "output_type": "stream",
          "name": "stdout",
          "text": [
            "[MoviePy] Done.\n",
            "[MoviePy] Writing video bot25f.mp4\n"
          ]
        },
        {
          "output_type": "stream",
          "name": "stderr",
          "text": [
            "\n",
            "100%|██████████| 75/75 [00:00<00:00, 818.75it/s]\n"
          ]
        },
        {
          "output_type": "stream",
          "name": "stdout",
          "text": [
            "[MoviePy] Done.\n",
            "[MoviePy] >>>> Video ready: bot25f.mp4 \n",
            "\n",
            "Resizing clipnow  72\n",
            "[MoviePy] >>>> Building video bot26f.mp4\n",
            "[MoviePy] Writing audio in bot26fTEMP_MPY_wvf_snd.mp3\n"
          ]
        },
        {
          "output_type": "stream",
          "name": "stderr",
          "text": [
            "100%|██████████| 221/221 [00:00<00:00, 857.05it/s]"
          ]
        },
        {
          "output_type": "stream",
          "name": "stdout",
          "text": [
            "[MoviePy] Done.\n",
            "[MoviePy] Writing video bot26f.mp4\n"
          ]
        },
        {
          "output_type": "stream",
          "name": "stderr",
          "text": [
            "\n",
            "100%|██████████| 75/75 [00:00<00:00, 606.65it/s]\n"
          ]
        },
        {
          "output_type": "stream",
          "name": "stdout",
          "text": [
            "[MoviePy] Done.\n",
            "[MoviePy] >>>> Video ready: bot26f.mp4 \n",
            "\n",
            "Resizing clipnow  84\n",
            "[MoviePy] >>>> Building video bot27f.mp4\n",
            "[MoviePy] Writing audio in bot27fTEMP_MPY_wvf_snd.mp3\n"
          ]
        },
        {
          "output_type": "stream",
          "name": "stderr",
          "text": [
            "100%|██████████| 221/221 [00:00<00:00, 870.26it/s]"
          ]
        },
        {
          "output_type": "stream",
          "name": "stdout",
          "text": [
            "[MoviePy] Done.\n",
            "[MoviePy] Writing video bot27f.mp4\n"
          ]
        },
        {
          "output_type": "stream",
          "name": "stderr",
          "text": [
            "\n",
            "100%|██████████| 75/75 [00:00<00:00, 650.42it/s]\n"
          ]
        },
        {
          "output_type": "stream",
          "name": "stdout",
          "text": [
            "[MoviePy] Done.\n",
            "[MoviePy] >>>> Video ready: bot27f.mp4 \n",
            "\n",
            "Resizing clipnow  96\n",
            "[MoviePy] >>>> Building video bot28f.mp4\n",
            "[MoviePy] Writing audio in bot28fTEMP_MPY_wvf_snd.mp3\n"
          ]
        },
        {
          "output_type": "stream",
          "name": "stderr",
          "text": [
            "100%|██████████| 221/221 [00:00<00:00, 775.42it/s]"
          ]
        },
        {
          "output_type": "stream",
          "name": "stdout",
          "text": [
            "[MoviePy] Done.\n",
            "[MoviePy] Writing video bot28f.mp4\n"
          ]
        },
        {
          "output_type": "stream",
          "name": "stderr",
          "text": [
            "\n",
            "100%|██████████| 75/75 [00:00<00:00, 730.33it/s]\n"
          ]
        },
        {
          "output_type": "stream",
          "name": "stdout",
          "text": [
            "[MoviePy] Done.\n",
            "[MoviePy] >>>> Video ready: bot28f.mp4 \n",
            "\n",
            "Resizing clipnow  108\n",
            "[MoviePy] >>>> Building video bot29f.mp4\n",
            "[MoviePy] Writing audio in bot29fTEMP_MPY_wvf_snd.mp3\n"
          ]
        },
        {
          "output_type": "stream",
          "name": "stderr",
          "text": [
            "100%|██████████| 221/221 [00:00<00:00, 781.67it/s]"
          ]
        },
        {
          "output_type": "stream",
          "name": "stdout",
          "text": [
            "[MoviePy] Done.\n",
            "[MoviePy] Writing video bot29f.mp4\n"
          ]
        },
        {
          "output_type": "stream",
          "name": "stderr",
          "text": [
            "\n",
            "100%|██████████| 75/75 [00:00<00:00, 819.28it/s]\n"
          ]
        },
        {
          "output_type": "stream",
          "name": "stdout",
          "text": [
            "[MoviePy] Done.\n",
            "[MoviePy] >>>> Video ready: bot29f.mp4 \n",
            "\n",
            "Resizing clipnow  120\n",
            "[MoviePy] >>>> Building video bot210f.mp4\n",
            "[MoviePy] Writing audio in bot210fTEMP_MPY_wvf_snd.mp3\n"
          ]
        },
        {
          "output_type": "stream",
          "name": "stderr",
          "text": [
            "100%|██████████| 221/221 [00:00<00:00, 807.18it/s]"
          ]
        },
        {
          "output_type": "stream",
          "name": "stdout",
          "text": [
            "[MoviePy] Done.\n",
            "[MoviePy] Writing video bot210f.mp4\n"
          ]
        },
        {
          "output_type": "stream",
          "name": "stderr",
          "text": [
            "\n",
            "100%|██████████| 75/75 [00:00<00:00, 680.48it/s]\n"
          ]
        },
        {
          "output_type": "stream",
          "name": "stdout",
          "text": [
            "[MoviePy] Done.\n",
            "[MoviePy] >>>> Video ready: bot210f.mp4 \n",
            "\n",
            "Resizing clipnow  132\n",
            "[MoviePy] >>>> Building video bot211f.mp4\n",
            "[MoviePy] Writing audio in bot211fTEMP_MPY_wvf_snd.mp3\n"
          ]
        },
        {
          "output_type": "stream",
          "name": "stderr",
          "text": [
            "100%|██████████| 221/221 [00:00<00:00, 1080.70it/s]"
          ]
        },
        {
          "output_type": "stream",
          "name": "stdout",
          "text": [
            "[MoviePy] Done.\n",
            "[MoviePy] Writing video bot211f.mp4\n"
          ]
        },
        {
          "output_type": "stream",
          "name": "stderr",
          "text": [
            "\n",
            "100%|██████████| 75/75 [00:00<00:00, 878.52it/s]"
          ]
        },
        {
          "output_type": "stream",
          "name": "stdout",
          "text": [
            "[MoviePy] Done.\n",
            "[MoviePy] >>>> Video ready: bot211f.mp4 \n",
            "\n"
          ]
        },
        {
          "output_type": "stream",
          "name": "stderr",
          "text": [
            "\n"
          ]
        },
        {
          "output_type": "stream",
          "name": "stdout",
          "text": [
            "Resizing clipnow  144\n",
            "[MoviePy] >>>> Building video bot212f.mp4\n",
            "[MoviePy] Writing audio in bot212fTEMP_MPY_wvf_snd.mp3\n"
          ]
        },
        {
          "output_type": "stream",
          "name": "stderr",
          "text": [
            "100%|██████████| 221/221 [00:00<00:00, 898.32it/s]"
          ]
        },
        {
          "output_type": "stream",
          "name": "stdout",
          "text": [
            "[MoviePy] Done.\n",
            "[MoviePy] Writing video bot212f.mp4\n"
          ]
        },
        {
          "output_type": "stream",
          "name": "stderr",
          "text": [
            "\n",
            "100%|██████████| 75/75 [00:00<00:00, 966.84it/s]\n"
          ]
        },
        {
          "output_type": "stream",
          "name": "stdout",
          "text": [
            "[MoviePy] Done.\n",
            "[MoviePy] >>>> Video ready: bot212f.mp4 \n",
            "\n",
            "Resizing clipnow  156\n",
            "[MoviePy] >>>> Building video bot213f.mp4\n",
            "[MoviePy] Writing audio in bot213fTEMP_MPY_wvf_snd.mp3\n"
          ]
        },
        {
          "output_type": "stream",
          "name": "stderr",
          "text": [
            "100%|██████████| 221/221 [00:00<00:00, 842.94it/s]"
          ]
        },
        {
          "output_type": "stream",
          "name": "stdout",
          "text": [
            "[MoviePy] Done.\n",
            "[MoviePy] Writing video bot213f.mp4\n"
          ]
        },
        {
          "output_type": "stream",
          "name": "stderr",
          "text": [
            "\n",
            "100%|██████████| 75/75 [00:00<00:00, 820.63it/s]\n"
          ]
        },
        {
          "output_type": "stream",
          "name": "stdout",
          "text": [
            "[MoviePy] Done.\n",
            "[MoviePy] >>>> Video ready: bot213f.mp4 \n",
            "\n",
            "Resizing clipnow  168\n",
            "[MoviePy] >>>> Building video bot214f.mp4\n",
            "[MoviePy] Writing audio in bot214fTEMP_MPY_wvf_snd.mp3\n"
          ]
        },
        {
          "output_type": "stream",
          "name": "stderr",
          "text": [
            "100%|██████████| 221/221 [00:00<00:00, 858.65it/s]"
          ]
        },
        {
          "output_type": "stream",
          "name": "stdout",
          "text": [
            "[MoviePy] Done.\n",
            "[MoviePy] Writing video bot214f.mp4\n"
          ]
        },
        {
          "output_type": "stream",
          "name": "stderr",
          "text": [
            "\n",
            "100%|██████████| 75/75 [00:00<00:00, 977.55it/s]\n"
          ]
        },
        {
          "output_type": "stream",
          "name": "stdout",
          "text": [
            "[MoviePy] Done.\n",
            "[MoviePy] >>>> Video ready: bot214f.mp4 \n",
            "\n",
            "Resizing clipnow  180\n",
            "[MoviePy] >>>> Building video bot215f.mp4\n",
            "[MoviePy] Writing audio in bot215fTEMP_MPY_wvf_snd.mp3\n"
          ]
        },
        {
          "output_type": "stream",
          "name": "stderr",
          "text": [
            "100%|██████████| 221/221 [00:00<00:00, 891.85it/s]"
          ]
        },
        {
          "output_type": "stream",
          "name": "stdout",
          "text": [
            "[MoviePy] Done.\n",
            "[MoviePy] Writing video bot215f.mp4\n"
          ]
        },
        {
          "output_type": "stream",
          "name": "stderr",
          "text": [
            "\n",
            "100%|██████████| 75/75 [00:00<00:00, 662.51it/s]\n"
          ]
        },
        {
          "output_type": "stream",
          "name": "stdout",
          "text": [
            "[MoviePy] Done.\n",
            "[MoviePy] >>>> Video ready: bot215f.mp4 \n",
            "\n",
            "Resizing clipnow  192\n",
            "[MoviePy] >>>> Building video bot216f.mp4\n",
            "[MoviePy] Writing audio in bot216fTEMP_MPY_wvf_snd.mp3\n"
          ]
        },
        {
          "output_type": "stream",
          "name": "stderr",
          "text": [
            " 90%|█████████ | 199/221 [00:00<00:00, 809.14it/s]\n"
          ]
        },
        {
          "output_type": "stream",
          "name": "stdout",
          "text": [
            "82.48\n",
            "Resizing clipnow  0\n",
            "[MoviePy] >>>> Building video bot30f.mp4\n",
            "[MoviePy] Writing audio in bot30fTEMP_MPY_wvf_snd.mp3\n"
          ]
        },
        {
          "output_type": "stream",
          "name": "stderr",
          "text": [
            "100%|██████████| 221/221 [00:00<00:00, 816.35it/s]"
          ]
        },
        {
          "output_type": "stream",
          "name": "stdout",
          "text": [
            "[MoviePy] Done.\n",
            "[MoviePy] Writing video bot30f.mp4\n"
          ]
        },
        {
          "output_type": "stream",
          "name": "stderr",
          "text": [
            "\n",
            "100%|██████████| 100/100 [00:00<00:00, 725.01it/s]\n"
          ]
        },
        {
          "output_type": "stream",
          "name": "stdout",
          "text": [
            "[MoviePy] Done.\n",
            "[MoviePy] >>>> Video ready: bot30f.mp4 \n",
            "\n",
            "Resizing clipnow  12\n",
            "[MoviePy] >>>> Building video bot31f.mp4\n",
            "[MoviePy] Writing audio in bot31fTEMP_MPY_wvf_snd.mp3\n"
          ]
        },
        {
          "output_type": "stream",
          "name": "stderr",
          "text": [
            "100%|██████████| 221/221 [00:00<00:00, 805.34it/s]"
          ]
        },
        {
          "output_type": "stream",
          "name": "stdout",
          "text": [
            "[MoviePy] Done.\n",
            "[MoviePy] Writing video bot31f.mp4\n"
          ]
        },
        {
          "output_type": "stream",
          "name": "stderr",
          "text": [
            "\n",
            "100%|██████████| 100/100 [00:00<00:00, 791.56it/s]\n"
          ]
        },
        {
          "output_type": "stream",
          "name": "stdout",
          "text": [
            "[MoviePy] Done.\n",
            "[MoviePy] >>>> Video ready: bot31f.mp4 \n",
            "\n",
            "Resizing clipnow  24\n",
            "[MoviePy] >>>> Building video bot32f.mp4\n",
            "[MoviePy] Writing audio in bot32fTEMP_MPY_wvf_snd.mp3\n"
          ]
        },
        {
          "output_type": "stream",
          "name": "stderr",
          "text": [
            "100%|██████████| 221/221 [00:00<00:00, 776.75it/s]"
          ]
        },
        {
          "output_type": "stream",
          "name": "stdout",
          "text": [
            "[MoviePy] Done.\n",
            "[MoviePy] Writing video bot32f.mp4\n"
          ]
        },
        {
          "output_type": "stream",
          "name": "stderr",
          "text": [
            "\n",
            "100%|██████████| 100/100 [00:00<00:00, 594.74it/s]\n"
          ]
        },
        {
          "output_type": "stream",
          "name": "stdout",
          "text": [
            "[MoviePy] Done.\n",
            "[MoviePy] >>>> Video ready: bot32f.mp4 \n",
            "\n",
            "Resizing clipnow  36\n",
            "[MoviePy] >>>> Building video bot33f.mp4\n",
            "[MoviePy] Writing audio in bot33fTEMP_MPY_wvf_snd.mp3\n"
          ]
        },
        {
          "output_type": "stream",
          "name": "stderr",
          "text": [
            "100%|██████████| 221/221 [00:00<00:00, 781.68it/s]"
          ]
        },
        {
          "output_type": "stream",
          "name": "stdout",
          "text": [
            "[MoviePy] Done.\n",
            "[MoviePy] Writing video bot33f.mp4\n"
          ]
        },
        {
          "output_type": "stream",
          "name": "stderr",
          "text": [
            "\n",
            "100%|██████████| 100/100 [00:00<00:00, 790.48it/s]\n"
          ]
        },
        {
          "output_type": "stream",
          "name": "stdout",
          "text": [
            "[MoviePy] Done.\n",
            "[MoviePy] >>>> Video ready: bot33f.mp4 \n",
            "\n",
            "Resizing clipnow  48\n",
            "[MoviePy] >>>> Building video bot34f.mp4\n",
            "[MoviePy] Writing audio in bot34fTEMP_MPY_wvf_snd.mp3\n"
          ]
        },
        {
          "output_type": "stream",
          "name": "stderr",
          "text": [
            "100%|██████████| 221/221 [00:00<00:00, 763.64it/s]"
          ]
        },
        {
          "output_type": "stream",
          "name": "stdout",
          "text": [
            "[MoviePy] Done.\n",
            "[MoviePy] Writing video bot34f.mp4\n"
          ]
        },
        {
          "output_type": "stream",
          "name": "stderr",
          "text": [
            "\n",
            "100%|██████████| 100/100 [00:00<00:00, 715.25it/s]\n"
          ]
        },
        {
          "output_type": "stream",
          "name": "stdout",
          "text": [
            "[MoviePy] Done.\n",
            "[MoviePy] >>>> Video ready: bot34f.mp4 \n",
            "\n",
            "Resizing clipnow  60\n",
            "[MoviePy] >>>> Building video bot35f.mp4\n",
            "[MoviePy] Writing audio in bot35fTEMP_MPY_wvf_snd.mp3\n"
          ]
        },
        {
          "output_type": "stream",
          "name": "stderr",
          "text": [
            "100%|██████████| 221/221 [00:00<00:00, 839.61it/s]"
          ]
        },
        {
          "output_type": "stream",
          "name": "stdout",
          "text": [
            "[MoviePy] Done.\n",
            "[MoviePy] Writing video bot35f.mp4\n"
          ]
        },
        {
          "output_type": "stream",
          "name": "stderr",
          "text": [
            "\n",
            "100%|██████████| 100/100 [00:00<00:00, 727.44it/s]\n"
          ]
        },
        {
          "output_type": "stream",
          "name": "stdout",
          "text": [
            "[MoviePy] Done.\n",
            "[MoviePy] >>>> Video ready: bot35f.mp4 \n",
            "\n",
            "Resizing clipnow  72\n",
            "[MoviePy] >>>> Building video bot36f.mp4\n",
            "[MoviePy] Writing audio in bot36fTEMP_MPY_wvf_snd.mp3\n"
          ]
        },
        {
          "output_type": "stream",
          "name": "stderr",
          "text": [
            "100%|██████████| 221/221 [00:00<00:00, 821.94it/s]"
          ]
        },
        {
          "output_type": "stream",
          "name": "stdout",
          "text": [
            "[MoviePy] Done.\n",
            "[MoviePy] Writing video bot36f.mp4\n"
          ]
        },
        {
          "output_type": "stream",
          "name": "stderr",
          "text": [
            "\n",
            "100%|██████████| 100/100 [00:00<00:00, 777.58it/s]\n"
          ]
        },
        {
          "output_type": "stream",
          "name": "stdout",
          "text": [
            "[MoviePy] Done.\n",
            "[MoviePy] >>>> Video ready: bot36f.mp4 \n",
            "\n",
            "14.03\n",
            "Resizing clipnow  0\n",
            "[MoviePy] >>>> Building video huma0f.mp4\n",
            "[MoviePy] Writing audio in huma0fTEMP_MPY_wvf_snd.mp3\n"
          ]
        },
        {
          "output_type": "stream",
          "name": "stderr",
          "text": [
            "100%|██████████| 221/221 [00:00<00:00, 882.59it/s]"
          ]
        },
        {
          "output_type": "stream",
          "name": "stdout",
          "text": [
            "[MoviePy] Done.\n",
            "[MoviePy] Writing video huma0f.mp4\n"
          ]
        },
        {
          "output_type": "stream",
          "name": "stderr",
          "text": [
            "\n",
            " 99%|█████████▊| 75/76 [00:00<00:00, 634.76it/s]\n"
          ]
        },
        {
          "output_type": "stream",
          "name": "stdout",
          "text": [
            "[MoviePy] Done.\n",
            "[MoviePy] >>>> Video ready: huma0f.mp4 \n",
            "\n",
            "Resizing clipnow  12\n",
            "[MoviePy] >>>> Building video huma1f.mp4\n",
            "[MoviePy] Writing audio in huma1fTEMP_MPY_wvf_snd.mp3\n"
          ]
        },
        {
          "output_type": "stream",
          "name": "stderr",
          "text": [
            " 20%|██        | 45/221 [00:00<00:00, 720.72it/s]\n"
          ]
        },
        {
          "output_type": "stream",
          "name": "stdout",
          "text": [
            "406.4\n",
            "Resizing clipnow  0\n",
            "[MoviePy] >>>> Building video bot40f.mp4\n",
            "[MoviePy] Writing audio in bot40fTEMP_MPY_wvf_snd.mp3\n"
          ]
        },
        {
          "output_type": "stream",
          "name": "stderr",
          "text": [
            "100%|██████████| 221/221 [00:00<00:00, 864.59it/s]"
          ]
        },
        {
          "output_type": "stream",
          "name": "stdout",
          "text": [
            "[MoviePy] Done.\n",
            "[MoviePy] Writing video bot40f.mp4\n"
          ]
        },
        {
          "output_type": "stream",
          "name": "stderr",
          "text": [
            "\n",
            " 99%|█████████▊| 75/76 [00:00<00:00, 567.67it/s]\n"
          ]
        },
        {
          "output_type": "stream",
          "name": "stdout",
          "text": [
            "[MoviePy] Done.\n",
            "[MoviePy] >>>> Video ready: bot40f.mp4 \n",
            "\n",
            "Resizing clipnow  12\n",
            "[MoviePy] >>>> Building video bot41f.mp4\n",
            "[MoviePy] Writing audio in bot41fTEMP_MPY_wvf_snd.mp3\n"
          ]
        },
        {
          "output_type": "stream",
          "name": "stderr",
          "text": [
            "100%|██████████| 221/221 [00:00<00:00, 847.62it/s]"
          ]
        },
        {
          "output_type": "stream",
          "name": "stdout",
          "text": [
            "[MoviePy] Done.\n",
            "[MoviePy] Writing video bot41f.mp4\n"
          ]
        },
        {
          "output_type": "stream",
          "name": "stderr",
          "text": [
            "\n",
            " 99%|█████████▊| 75/76 [00:00<00:00, 665.76it/s]\n"
          ]
        },
        {
          "output_type": "stream",
          "name": "stdout",
          "text": [
            "[MoviePy] Done.\n",
            "[MoviePy] >>>> Video ready: bot41f.mp4 \n",
            "\n",
            "Resizing clipnow  24\n",
            "[MoviePy] >>>> Building video bot42f.mp4\n",
            "[MoviePy] Writing audio in bot42fTEMP_MPY_wvf_snd.mp3\n"
          ]
        },
        {
          "output_type": "stream",
          "name": "stderr",
          "text": [
            "100%|██████████| 221/221 [00:00<00:00, 787.11it/s]"
          ]
        },
        {
          "output_type": "stream",
          "name": "stdout",
          "text": [
            "[MoviePy] Done.\n",
            "[MoviePy] Writing video bot42f.mp4\n"
          ]
        },
        {
          "output_type": "stream",
          "name": "stderr",
          "text": [
            "\n",
            " 99%|█████████▊| 75/76 [00:00<00:00, 771.66it/s]\n"
          ]
        },
        {
          "output_type": "stream",
          "name": "stdout",
          "text": [
            "[MoviePy] Done.\n",
            "[MoviePy] >>>> Video ready: bot42f.mp4 \n",
            "\n",
            "Resizing clipnow  36\n",
            "[MoviePy] >>>> Building video bot43f.mp4\n",
            "[MoviePy] Writing audio in bot43fTEMP_MPY_wvf_snd.mp3\n"
          ]
        },
        {
          "output_type": "stream",
          "name": "stderr",
          "text": [
            "100%|██████████| 221/221 [00:00<00:00, 906.24it/s]"
          ]
        },
        {
          "output_type": "stream",
          "name": "stdout",
          "text": [
            "[MoviePy] Done.\n",
            "[MoviePy] Writing video bot43f.mp4\n"
          ]
        },
        {
          "output_type": "stream",
          "name": "stderr",
          "text": [
            "\n",
            " 99%|█████████▊| 75/76 [00:00<00:00, 789.74it/s]\n"
          ]
        },
        {
          "output_type": "stream",
          "name": "stdout",
          "text": [
            "[MoviePy] Done.\n",
            "[MoviePy] >>>> Video ready: bot43f.mp4 \n",
            "\n",
            "Resizing clipnow  48\n",
            "[MoviePy] >>>> Building video bot44f.mp4\n",
            "[MoviePy] Writing audio in bot44fTEMP_MPY_wvf_snd.mp3\n"
          ]
        },
        {
          "output_type": "stream",
          "name": "stderr",
          "text": [
            "100%|██████████| 221/221 [00:00<00:00, 911.98it/s]"
          ]
        },
        {
          "output_type": "stream",
          "name": "stdout",
          "text": [
            "[MoviePy] Done.\n",
            "[MoviePy] Writing video bot44f.mp4\n"
          ]
        },
        {
          "output_type": "stream",
          "name": "stderr",
          "text": [
            "\n",
            " 99%|█████████▊| 75/76 [00:00<00:00, 654.93it/s]\n"
          ]
        },
        {
          "output_type": "stream",
          "name": "stdout",
          "text": [
            "[MoviePy] Done.\n",
            "[MoviePy] >>>> Video ready: bot44f.mp4 \n",
            "\n",
            "Resizing clipnow  60\n",
            "[MoviePy] >>>> Building video bot45f.mp4\n",
            "[MoviePy] Writing audio in bot45fTEMP_MPY_wvf_snd.mp3\n"
          ]
        },
        {
          "output_type": "stream",
          "name": "stderr",
          "text": [
            "100%|██████████| 221/221 [00:00<00:00, 861.51it/s]"
          ]
        },
        {
          "output_type": "stream",
          "name": "stdout",
          "text": [
            "[MoviePy] Done.\n",
            "[MoviePy] Writing video bot45f.mp4\n"
          ]
        },
        {
          "output_type": "stream",
          "name": "stderr",
          "text": [
            "\n",
            " 99%|█████████▊| 75/76 [00:00<00:00, 1016.08it/s]\n"
          ]
        },
        {
          "output_type": "stream",
          "name": "stdout",
          "text": [
            "[MoviePy] Done.\n",
            "[MoviePy] >>>> Video ready: bot45f.mp4 \n",
            "\n",
            "Resizing clipnow  72\n",
            "[MoviePy] >>>> Building video bot46f.mp4\n",
            "[MoviePy] Writing audio in bot46fTEMP_MPY_wvf_snd.mp3\n"
          ]
        },
        {
          "output_type": "stream",
          "name": "stderr",
          "text": [
            "100%|██████████| 221/221 [00:00<00:00, 851.21it/s]"
          ]
        },
        {
          "output_type": "stream",
          "name": "stdout",
          "text": [
            "[MoviePy] Done.\n",
            "[MoviePy] Writing video bot46f.mp4\n"
          ]
        },
        {
          "output_type": "stream",
          "name": "stderr",
          "text": [
            "\n",
            " 99%|█████████▊| 75/76 [00:00<00:00, 714.23it/s]\n"
          ]
        },
        {
          "output_type": "stream",
          "name": "stdout",
          "text": [
            "[MoviePy] Done.\n",
            "[MoviePy] >>>> Video ready: bot46f.mp4 \n",
            "\n",
            "Resizing clipnow  84\n",
            "[MoviePy] >>>> Building video bot47f.mp4\n",
            "[MoviePy] Writing audio in bot47fTEMP_MPY_wvf_snd.mp3\n"
          ]
        },
        {
          "output_type": "stream",
          "name": "stderr",
          "text": [
            "100%|██████████| 221/221 [00:00<00:00, 903.67it/s]"
          ]
        },
        {
          "output_type": "stream",
          "name": "stdout",
          "text": [
            "[MoviePy] Done.\n",
            "[MoviePy] Writing video bot47f.mp4\n"
          ]
        },
        {
          "output_type": "stream",
          "name": "stderr",
          "text": [
            "\n",
            " 99%|█████████▊| 75/76 [00:00<00:00, 541.07it/s]\n"
          ]
        },
        {
          "output_type": "stream",
          "name": "stdout",
          "text": [
            "[MoviePy] Done.\n",
            "[MoviePy] >>>> Video ready: bot47f.mp4 \n",
            "\n",
            "Resizing clipnow  96\n",
            "[MoviePy] >>>> Building video bot48f.mp4\n",
            "[MoviePy] Writing audio in bot48fTEMP_MPY_wvf_snd.mp3\n"
          ]
        },
        {
          "output_type": "stream",
          "name": "stderr",
          "text": [
            "100%|██████████| 221/221 [00:00<00:00, 919.81it/s]"
          ]
        },
        {
          "output_type": "stream",
          "name": "stdout",
          "text": [
            "[MoviePy] Done.\n",
            "[MoviePy] Writing video bot48f.mp4\n"
          ]
        },
        {
          "output_type": "stream",
          "name": "stderr",
          "text": [
            "\n",
            " 99%|█████████▊| 75/76 [00:00<00:00, 845.01it/s]\n"
          ]
        },
        {
          "output_type": "stream",
          "name": "stdout",
          "text": [
            "[MoviePy] Done.\n",
            "[MoviePy] >>>> Video ready: bot48f.mp4 \n",
            "\n",
            "Resizing clipnow  108\n",
            "[MoviePy] >>>> Building video bot49f.mp4\n",
            "[MoviePy] Writing audio in bot49fTEMP_MPY_wvf_snd.mp3\n"
          ]
        },
        {
          "output_type": "stream",
          "name": "stderr",
          "text": [
            "100%|██████████| 221/221 [00:00<00:00, 747.33it/s]\n"
          ]
        },
        {
          "output_type": "stream",
          "name": "stdout",
          "text": [
            "[MoviePy] Done.\n",
            "[MoviePy] Writing video bot49f.mp4\n"
          ]
        },
        {
          "output_type": "stream",
          "name": "stderr",
          "text": [
            " 99%|█████████▊| 75/76 [00:00<00:00, 887.53it/s]\n"
          ]
        },
        {
          "output_type": "stream",
          "name": "stdout",
          "text": [
            "[MoviePy] Done.\n",
            "[MoviePy] >>>> Video ready: bot49f.mp4 \n",
            "\n",
            "Resizing clipnow  120\n",
            "[MoviePy] >>>> Building video bot410f.mp4\n",
            "[MoviePy] Writing audio in bot410fTEMP_MPY_wvf_snd.mp3\n"
          ]
        },
        {
          "output_type": "stream",
          "name": "stderr",
          "text": [
            "100%|██████████| 221/221 [00:00<00:00, 862.11it/s]"
          ]
        },
        {
          "output_type": "stream",
          "name": "stdout",
          "text": [
            "[MoviePy] Done.\n",
            "[MoviePy] Writing video bot410f.mp4\n"
          ]
        },
        {
          "output_type": "stream",
          "name": "stderr",
          "text": [
            "\n",
            " 99%|█████████▊| 75/76 [00:00<00:00, 793.24it/s]\n"
          ]
        },
        {
          "output_type": "stream",
          "name": "stdout",
          "text": [
            "[MoviePy] Done.\n",
            "[MoviePy] >>>> Video ready: bot410f.mp4 \n",
            "\n",
            "Resizing clipnow  132\n",
            "[MoviePy] >>>> Building video bot411f.mp4\n",
            "[MoviePy] Writing audio in bot411fTEMP_MPY_wvf_snd.mp3\n"
          ]
        },
        {
          "output_type": "stream",
          "name": "stderr",
          "text": [
            "100%|██████████| 221/221 [00:00<00:00, 890.23it/s]"
          ]
        },
        {
          "output_type": "stream",
          "name": "stdout",
          "text": [
            "[MoviePy] Done.\n",
            "[MoviePy] Writing video bot411f.mp4\n"
          ]
        },
        {
          "output_type": "stream",
          "name": "stderr",
          "text": [
            "\n",
            " 99%|█████████▊| 75/76 [00:00<00:00, 846.91it/s]\n"
          ]
        },
        {
          "output_type": "stream",
          "name": "stdout",
          "text": [
            "[MoviePy] Done.\n",
            "[MoviePy] >>>> Video ready: bot411f.mp4 \n",
            "\n",
            "Resizing clipnow  144\n",
            "[MoviePy] >>>> Building video bot412f.mp4\n",
            "[MoviePy] Writing audio in bot412fTEMP_MPY_wvf_snd.mp3\n"
          ]
        },
        {
          "output_type": "stream",
          "name": "stderr",
          "text": [
            "100%|██████████| 221/221 [00:00<00:00, 889.50it/s]"
          ]
        },
        {
          "output_type": "stream",
          "name": "stdout",
          "text": [
            "[MoviePy] Done.\n",
            "[MoviePy] Writing video bot412f.mp4\n"
          ]
        },
        {
          "output_type": "stream",
          "name": "stderr",
          "text": [
            "\n",
            " 99%|█████████▊| 75/76 [00:00<00:00, 784.16it/s]\n"
          ]
        },
        {
          "output_type": "stream",
          "name": "stdout",
          "text": [
            "[MoviePy] Done.\n",
            "[MoviePy] >>>> Video ready: bot412f.mp4 \n",
            "\n",
            "Resizing clipnow  156\n",
            "[MoviePy] >>>> Building video bot413f.mp4\n",
            "[MoviePy] Writing audio in bot413fTEMP_MPY_wvf_snd.mp3\n"
          ]
        },
        {
          "output_type": "stream",
          "name": "stderr",
          "text": [
            "100%|██████████| 221/221 [00:00<00:00, 857.19it/s]"
          ]
        },
        {
          "output_type": "stream",
          "name": "stdout",
          "text": [
            "[MoviePy] Done.\n",
            "[MoviePy] Writing video bot413f.mp4\n"
          ]
        },
        {
          "output_type": "stream",
          "name": "stderr",
          "text": [
            "\n",
            " 99%|█████████▊| 75/76 [00:00<00:00, 558.49it/s]\n"
          ]
        },
        {
          "output_type": "stream",
          "name": "stdout",
          "text": [
            "[MoviePy] Done.\n",
            "[MoviePy] >>>> Video ready: bot413f.mp4 \n",
            "\n",
            "Resizing clipnow  168\n",
            "[MoviePy] >>>> Building video bot414f.mp4\n",
            "[MoviePy] Writing audio in bot414fTEMP_MPY_wvf_snd.mp3\n"
          ]
        },
        {
          "output_type": "stream",
          "name": "stderr",
          "text": [
            "100%|██████████| 221/221 [00:00<00:00, 858.96it/s]"
          ]
        },
        {
          "output_type": "stream",
          "name": "stdout",
          "text": [
            "[MoviePy] Done.\n",
            "[MoviePy] Writing video bot414f.mp4\n"
          ]
        },
        {
          "output_type": "stream",
          "name": "stderr",
          "text": [
            "\n",
            " 99%|█████████▊| 75/76 [00:00<00:00, 825.75it/s]\n"
          ]
        },
        {
          "output_type": "stream",
          "name": "stdout",
          "text": [
            "[MoviePy] Done.\n",
            "[MoviePy] >>>> Video ready: bot414f.mp4 \n",
            "\n",
            "Resizing clipnow  180\n",
            "[MoviePy] >>>> Building video bot415f.mp4\n",
            "[MoviePy] Writing audio in bot415fTEMP_MPY_wvf_snd.mp3\n"
          ]
        },
        {
          "output_type": "stream",
          "name": "stderr",
          "text": [
            "100%|██████████| 221/221 [00:00<00:00, 886.35it/s]"
          ]
        },
        {
          "output_type": "stream",
          "name": "stdout",
          "text": [
            "[MoviePy] Done.\n",
            "[MoviePy] Writing video bot415f.mp4\n"
          ]
        },
        {
          "output_type": "stream",
          "name": "stderr",
          "text": [
            "\n",
            " 99%|█████████▊| 75/76 [00:00<00:00, 921.37it/s]\n"
          ]
        },
        {
          "output_type": "stream",
          "name": "stdout",
          "text": [
            "[MoviePy] Done.\n",
            "[MoviePy] >>>> Video ready: bot415f.mp4 \n",
            "\n",
            "Resizing clipnow  192\n",
            "[MoviePy] >>>> Building video bot416f.mp4\n",
            "[MoviePy] Writing audio in bot416fTEMP_MPY_wvf_snd.mp3\n"
          ]
        },
        {
          "output_type": "stream",
          "name": "stderr",
          "text": [
            "100%|██████████| 221/221 [00:00<00:00, 998.71it/s] "
          ]
        },
        {
          "output_type": "stream",
          "name": "stdout",
          "text": [
            "[MoviePy] Done.\n",
            "[MoviePy] Writing video bot416f.mp4\n"
          ]
        },
        {
          "output_type": "stream",
          "name": "stderr",
          "text": [
            "\n",
            " 99%|█████████▊| 75/76 [00:00<00:00, 858.72it/s]\n"
          ]
        },
        {
          "output_type": "stream",
          "name": "stdout",
          "text": [
            "[MoviePy] Done.\n",
            "[MoviePy] >>>> Video ready: bot416f.mp4 \n",
            "\n",
            "Resizing clipnow  204\n",
            "[MoviePy] >>>> Building video bot417f.mp4\n",
            "[MoviePy] Writing audio in bot417fTEMP_MPY_wvf_snd.mp3\n"
          ]
        },
        {
          "output_type": "stream",
          "name": "stderr",
          "text": [
            "100%|██████████| 221/221 [00:00<00:00, 835.94it/s]"
          ]
        },
        {
          "output_type": "stream",
          "name": "stdout",
          "text": [
            "[MoviePy] Done.\n",
            "[MoviePy] Writing video bot417f.mp4\n"
          ]
        },
        {
          "output_type": "stream",
          "name": "stderr",
          "text": [
            "\n",
            " 99%|█████████▊| 75/76 [00:00<00:00, 1166.64it/s]\n"
          ]
        },
        {
          "output_type": "stream",
          "name": "stdout",
          "text": [
            "[MoviePy] Done.\n",
            "[MoviePy] >>>> Video ready: bot417f.mp4 \n",
            "\n",
            "Resizing clipnow  216\n",
            "[MoviePy] >>>> Building video bot418f.mp4\n",
            "[MoviePy] Writing audio in bot418fTEMP_MPY_wvf_snd.mp3\n"
          ]
        },
        {
          "output_type": "stream",
          "name": "stderr",
          "text": [
            "100%|██████████| 221/221 [00:00<00:00, 867.67it/s]"
          ]
        },
        {
          "output_type": "stream",
          "name": "stdout",
          "text": [
            "[MoviePy] Done.\n",
            "[MoviePy] Writing video bot418f.mp4\n"
          ]
        },
        {
          "output_type": "stream",
          "name": "stderr",
          "text": [
            "\n",
            " 99%|█████████▊| 75/76 [00:00<00:00, 775.39it/s]\n"
          ]
        },
        {
          "output_type": "stream",
          "name": "stdout",
          "text": [
            "[MoviePy] Done.\n",
            "[MoviePy] >>>> Video ready: bot418f.mp4 \n",
            "\n",
            "Resizing clipnow  228\n",
            "[MoviePy] >>>> Building video bot419f.mp4\n",
            "[MoviePy] Writing audio in bot419fTEMP_MPY_wvf_snd.mp3\n"
          ]
        },
        {
          "output_type": "stream",
          "name": "stderr",
          "text": [
            "100%|██████████| 221/221 [00:00<00:00, 871.46it/s]"
          ]
        },
        {
          "output_type": "stream",
          "name": "stdout",
          "text": [
            "[MoviePy] Done.\n",
            "[MoviePy] Writing video bot419f.mp4\n"
          ]
        },
        {
          "output_type": "stream",
          "name": "stderr",
          "text": [
            "\n",
            " 99%|█████████▊| 75/76 [00:00<00:00, 935.26it/s]\n"
          ]
        },
        {
          "output_type": "stream",
          "name": "stdout",
          "text": [
            "[MoviePy] Done.\n",
            "[MoviePy] >>>> Video ready: bot419f.mp4 \n",
            "\n",
            "Resizing clipnow  240\n",
            "[MoviePy] >>>> Building video bot420f.mp4\n",
            "[MoviePy] Writing audio in bot420fTEMP_MPY_wvf_snd.mp3\n"
          ]
        },
        {
          "output_type": "stream",
          "name": "stderr",
          "text": [
            "100%|██████████| 221/221 [00:00<00:00, 907.51it/s]"
          ]
        },
        {
          "output_type": "stream",
          "name": "stdout",
          "text": [
            "[MoviePy] Done.\n",
            "[MoviePy] Writing video bot420f.mp4\n"
          ]
        },
        {
          "output_type": "stream",
          "name": "stderr",
          "text": [
            "\n",
            " 99%|█████████▊| 75/76 [00:00<00:00, 807.98it/s]\n"
          ]
        },
        {
          "output_type": "stream",
          "name": "stdout",
          "text": [
            "[MoviePy] Done.\n",
            "[MoviePy] >>>> Video ready: bot420f.mp4 \n",
            "\n",
            "Resizing clipnow  252\n",
            "[MoviePy] >>>> Building video bot421f.mp4\n",
            "[MoviePy] Writing audio in bot421fTEMP_MPY_wvf_snd.mp3\n"
          ]
        },
        {
          "output_type": "stream",
          "name": "stderr",
          "text": [
            "100%|██████████| 221/221 [00:00<00:00, 847.29it/s]"
          ]
        },
        {
          "output_type": "stream",
          "name": "stdout",
          "text": [
            "[MoviePy] Done.\n",
            "[MoviePy] Writing video bot421f.mp4\n"
          ]
        },
        {
          "output_type": "stream",
          "name": "stderr",
          "text": [
            "\n",
            " 99%|█████████▊| 75/76 [00:00<00:00, 904.02it/s]\n"
          ]
        },
        {
          "output_type": "stream",
          "name": "stdout",
          "text": [
            "[MoviePy] Done.\n",
            "[MoviePy] >>>> Video ready: bot421f.mp4 \n",
            "\n",
            "Resizing clipnow  264\n",
            "[MoviePy] >>>> Building video bot422f.mp4\n",
            "[MoviePy] Writing audio in bot422fTEMP_MPY_wvf_snd.mp3\n"
          ]
        },
        {
          "output_type": "stream",
          "name": "stderr",
          "text": [
            "100%|██████████| 221/221 [00:00<00:00, 862.86it/s]"
          ]
        },
        {
          "output_type": "stream",
          "name": "stdout",
          "text": [
            "[MoviePy] Done.\n",
            "[MoviePy] Writing video bot422f.mp4\n"
          ]
        },
        {
          "output_type": "stream",
          "name": "stderr",
          "text": [
            "\n",
            " 99%|█████████▊| 75/76 [00:00<00:00, 763.12it/s]\n"
          ]
        },
        {
          "output_type": "stream",
          "name": "stdout",
          "text": [
            "[MoviePy] Done.\n",
            "[MoviePy] >>>> Video ready: bot422f.mp4 \n",
            "\n",
            "Resizing clipnow  276\n",
            "[MoviePy] >>>> Building video bot423f.mp4\n",
            "[MoviePy] Writing audio in bot423fTEMP_MPY_wvf_snd.mp3\n"
          ]
        },
        {
          "output_type": "stream",
          "name": "stderr",
          "text": [
            "100%|██████████| 221/221 [00:00<00:00, 886.78it/s]"
          ]
        },
        {
          "output_type": "stream",
          "name": "stdout",
          "text": [
            "[MoviePy] Done.\n",
            "[MoviePy] Writing video bot423f.mp4\n"
          ]
        },
        {
          "output_type": "stream",
          "name": "stderr",
          "text": [
            "\n",
            " 99%|█████████▊| 75/76 [00:00<00:00, 653.39it/s]\n"
          ]
        },
        {
          "output_type": "stream",
          "name": "stdout",
          "text": [
            "[MoviePy] Done.\n",
            "[MoviePy] >>>> Video ready: bot423f.mp4 \n",
            "\n",
            "Resizing clipnow  288\n",
            "[MoviePy] >>>> Building video bot424f.mp4\n",
            "[MoviePy] Writing audio in bot424fTEMP_MPY_wvf_snd.mp3\n"
          ]
        },
        {
          "output_type": "stream",
          "name": "stderr",
          "text": [
            "100%|██████████| 221/221 [00:00<00:00, 910.49it/s]"
          ]
        },
        {
          "output_type": "stream",
          "name": "stdout",
          "text": [
            "[MoviePy] Done.\n",
            "[MoviePy] Writing video bot424f.mp4\n"
          ]
        },
        {
          "output_type": "stream",
          "name": "stderr",
          "text": [
            "\n",
            " 99%|█████████▊| 75/76 [00:00<00:00, 784.67it/s]\n"
          ]
        },
        {
          "output_type": "stream",
          "name": "stdout",
          "text": [
            "[MoviePy] Done.\n",
            "[MoviePy] >>>> Video ready: bot424f.mp4 \n",
            "\n",
            "Resizing clipnow  300\n",
            "[MoviePy] >>>> Building video bot425f.mp4\n",
            "[MoviePy] Writing audio in bot425fTEMP_MPY_wvf_snd.mp3\n"
          ]
        },
        {
          "output_type": "stream",
          "name": "stderr",
          "text": [
            "100%|██████████| 221/221 [00:00<00:00, 918.08it/s]"
          ]
        },
        {
          "output_type": "stream",
          "name": "stdout",
          "text": [
            "[MoviePy] Done.\n",
            "[MoviePy] Writing video bot425f.mp4\n"
          ]
        },
        {
          "output_type": "stream",
          "name": "stderr",
          "text": [
            "\n",
            " 99%|█████████▊| 75/76 [00:00<00:00, 640.04it/s]\n"
          ]
        },
        {
          "output_type": "stream",
          "name": "stdout",
          "text": [
            "[MoviePy] Done.\n",
            "[MoviePy] >>>> Video ready: bot425f.mp4 \n",
            "\n",
            "Resizing clipnow  312\n",
            "[MoviePy] >>>> Building video bot426f.mp4\n",
            "[MoviePy] Writing audio in bot426fTEMP_MPY_wvf_snd.mp3\n"
          ]
        },
        {
          "output_type": "stream",
          "name": "stderr",
          "text": [
            "100%|██████████| 221/221 [00:00<00:00, 827.60it/s]"
          ]
        },
        {
          "output_type": "stream",
          "name": "stdout",
          "text": [
            "[MoviePy] Done.\n",
            "[MoviePy] Writing video bot426f.mp4\n"
          ]
        },
        {
          "output_type": "stream",
          "name": "stderr",
          "text": [
            "\n",
            " 99%|█████████▊| 75/76 [00:00<00:00, 1104.47it/s]\n"
          ]
        },
        {
          "output_type": "stream",
          "name": "stdout",
          "text": [
            "[MoviePy] Done.\n",
            "[MoviePy] >>>> Video ready: bot426f.mp4 \n",
            "\n",
            "Resizing clipnow  324\n",
            "[MoviePy] >>>> Building video bot427f.mp4\n",
            "[MoviePy] Writing audio in bot427fTEMP_MPY_wvf_snd.mp3\n"
          ]
        },
        {
          "output_type": "stream",
          "name": "stderr",
          "text": [
            "100%|██████████| 221/221 [00:00<00:00, 903.76it/s]"
          ]
        },
        {
          "output_type": "stream",
          "name": "stdout",
          "text": [
            "[MoviePy] Done.\n",
            "[MoviePy] Writing video bot427f.mp4\n"
          ]
        },
        {
          "output_type": "stream",
          "name": "stderr",
          "text": [
            "\n",
            " 99%|█████████▊| 75/76 [00:00<00:00, 996.00it/s]\n"
          ]
        },
        {
          "output_type": "stream",
          "name": "stdout",
          "text": [
            "[MoviePy] Done.\n",
            "[MoviePy] >>>> Video ready: bot427f.mp4 \n",
            "\n",
            "Resizing clipnow  336\n",
            "[MoviePy] >>>> Building video bot428f.mp4\n",
            "[MoviePy] Writing audio in bot428fTEMP_MPY_wvf_snd.mp3\n"
          ]
        },
        {
          "output_type": "stream",
          "name": "stderr",
          "text": [
            "100%|██████████| 221/221 [00:00<00:00, 815.43it/s]"
          ]
        },
        {
          "output_type": "stream",
          "name": "stdout",
          "text": [
            "[MoviePy] Done.\n",
            "[MoviePy] Writing video bot428f.mp4\n"
          ]
        },
        {
          "output_type": "stream",
          "name": "stderr",
          "text": [
            "\n",
            " 99%|█████████▊| 75/76 [00:00<00:00, 875.40it/s]\n"
          ]
        },
        {
          "output_type": "stream",
          "name": "stdout",
          "text": [
            "[MoviePy] Done.\n",
            "[MoviePy] >>>> Video ready: bot428f.mp4 \n",
            "\n",
            "Resizing clipnow  348\n",
            "[MoviePy] >>>> Building video bot429f.mp4\n",
            "[MoviePy] Writing audio in bot429fTEMP_MPY_wvf_snd.mp3\n"
          ]
        },
        {
          "output_type": "stream",
          "name": "stderr",
          "text": [
            "100%|██████████| 221/221 [00:00<00:00, 798.79it/s]"
          ]
        },
        {
          "output_type": "stream",
          "name": "stdout",
          "text": [
            "[MoviePy] Done.\n",
            "[MoviePy] Writing video bot429f.mp4\n"
          ]
        },
        {
          "output_type": "stream",
          "name": "stderr",
          "text": [
            "\n",
            " 99%|█████████▊| 75/76 [00:00<00:00, 938.92it/s]\n"
          ]
        },
        {
          "output_type": "stream",
          "name": "stdout",
          "text": [
            "[MoviePy] Done.\n",
            "[MoviePy] >>>> Video ready: bot429f.mp4 \n",
            "\n",
            "Resizing clipnow  360\n",
            "[MoviePy] >>>> Building video bot430f.mp4\n",
            "[MoviePy] Writing audio in bot430fTEMP_MPY_wvf_snd.mp3\n"
          ]
        },
        {
          "output_type": "stream",
          "name": "stderr",
          "text": [
            "100%|██████████| 221/221 [00:00<00:00, 828.67it/s]"
          ]
        },
        {
          "output_type": "stream",
          "name": "stdout",
          "text": [
            "[MoviePy] Done.\n",
            "[MoviePy] Writing video bot430f.mp4\n"
          ]
        },
        {
          "output_type": "stream",
          "name": "stderr",
          "text": [
            "\n",
            " 99%|█████████▊| 75/76 [00:00<00:00, 879.21it/s]\n"
          ]
        },
        {
          "output_type": "stream",
          "name": "stdout",
          "text": [
            "[MoviePy] Done.\n",
            "[MoviePy] >>>> Video ready: bot430f.mp4 \n",
            "\n",
            "Resizing clipnow  372\n",
            "[MoviePy] >>>> Building video bot431f.mp4\n",
            "[MoviePy] Writing audio in bot431fTEMP_MPY_wvf_snd.mp3\n"
          ]
        },
        {
          "output_type": "stream",
          "name": "stderr",
          "text": [
            "100%|██████████| 221/221 [00:00<00:00, 830.04it/s]"
          ]
        },
        {
          "output_type": "stream",
          "name": "stdout",
          "text": [
            "[MoviePy] Done.\n",
            "[MoviePy] Writing video bot431f.mp4\n"
          ]
        },
        {
          "output_type": "stream",
          "name": "stderr",
          "text": [
            "\n",
            " 99%|█████████▊| 75/76 [00:00<00:00, 808.93it/s]\n"
          ]
        },
        {
          "output_type": "stream",
          "name": "stdout",
          "text": [
            "[MoviePy] Done.\n",
            "[MoviePy] >>>> Video ready: bot431f.mp4 \n",
            "\n",
            "Resizing clipnow  384\n",
            "[MoviePy] >>>> Building video bot432f.mp4\n",
            "[MoviePy] Writing audio in bot432fTEMP_MPY_wvf_snd.mp3\n"
          ]
        },
        {
          "output_type": "stream",
          "name": "stderr",
          "text": [
            "100%|██████████| 221/221 [00:00<00:00, 844.77it/s]"
          ]
        },
        {
          "output_type": "stream",
          "name": "stdout",
          "text": [
            "[MoviePy] Done.\n",
            "[MoviePy] Writing video bot432f.mp4\n"
          ]
        },
        {
          "output_type": "stream",
          "name": "stderr",
          "text": [
            "\n",
            " 99%|█████████▊| 75/76 [00:00<00:00, 780.35it/s]\n"
          ]
        },
        {
          "output_type": "stream",
          "name": "stdout",
          "text": [
            "[MoviePy] Done.\n",
            "[MoviePy] >>>> Video ready: bot432f.mp4 \n",
            "\n",
            "Resizing clipnow  396\n",
            "[MoviePy] >>>> Building video bot433f.mp4\n",
            "[MoviePy] Writing audio in bot433fTEMP_MPY_wvf_snd.mp3\n"
          ]
        },
        {
          "output_type": "stream",
          "name": "stderr",
          "text": [
            "100%|██████████| 221/221 [00:00<00:00, 850.16it/s]"
          ]
        },
        {
          "output_type": "stream",
          "name": "stdout",
          "text": [
            "[MoviePy] Done.\n",
            "[MoviePy] Writing video bot433f.mp4\n"
          ]
        },
        {
          "output_type": "stream",
          "name": "stderr",
          "text": [
            "\n",
            " 99%|█████████▊| 75/76 [00:00<00:00, 611.74it/s]\n"
          ]
        },
        {
          "output_type": "stream",
          "name": "stdout",
          "text": [
            "[MoviePy] Done.\n",
            "[MoviePy] >>>> Video ready: bot433f.mp4 \n",
            "\n",
            "44.82\n",
            "Resizing clipnow  0\n",
            "[MoviePy] >>>> Building video huma0f.mp4\n",
            "[MoviePy] Writing audio in huma0fTEMP_MPY_wvf_snd.mp3\n"
          ]
        },
        {
          "output_type": "stream",
          "name": "stderr",
          "text": [
            "100%|██████████| 221/221 [00:00<00:00, 875.27it/s]"
          ]
        },
        {
          "output_type": "stream",
          "name": "stdout",
          "text": [
            "[MoviePy] Done.\n",
            "[MoviePy] Writing video huma0f.mp4\n"
          ]
        },
        {
          "output_type": "stream",
          "name": "stderr",
          "text": [
            "\n",
            " 99%|█████████▊| 75/76 [00:00<00:00, 638.56it/s]\n"
          ]
        },
        {
          "output_type": "stream",
          "name": "stdout",
          "text": [
            "[MoviePy] Done.\n",
            "[MoviePy] >>>> Video ready: huma0f.mp4 \n",
            "\n",
            "Resizing clipnow  12\n",
            "[MoviePy] >>>> Building video huma1f.mp4\n",
            "[MoviePy] Writing audio in huma1fTEMP_MPY_wvf_snd.mp3\n"
          ]
        },
        {
          "output_type": "stream",
          "name": "stderr",
          "text": [
            "100%|██████████| 221/221 [00:00<00:00, 792.17it/s]"
          ]
        },
        {
          "output_type": "stream",
          "name": "stdout",
          "text": [
            "[MoviePy] Done.\n",
            "[MoviePy] Writing video huma1f.mp4\n"
          ]
        },
        {
          "output_type": "stream",
          "name": "stderr",
          "text": [
            "\n",
            " 99%|█████████▊| 75/76 [00:00<00:00, 714.60it/s]\n"
          ]
        },
        {
          "output_type": "stream",
          "name": "stdout",
          "text": [
            "[MoviePy] Done.\n",
            "[MoviePy] >>>> Video ready: huma1f.mp4 \n",
            "\n",
            "Resizing clipnow  24\n",
            "[MoviePy] >>>> Building video huma2f.mp4\n",
            "[MoviePy] Writing audio in huma2fTEMP_MPY_wvf_snd.mp3\n"
          ]
        },
        {
          "output_type": "stream",
          "name": "stderr",
          "text": [
            "100%|██████████| 221/221 [00:00<00:00, 770.64it/s]"
          ]
        },
        {
          "output_type": "stream",
          "name": "stdout",
          "text": [
            "[MoviePy] Done.\n",
            "[MoviePy] Writing video huma2f.mp4\n"
          ]
        },
        {
          "output_type": "stream",
          "name": "stderr",
          "text": [
            "\n",
            " 99%|█████████▊| 75/76 [00:00<00:00, 889.01it/s]\n"
          ]
        },
        {
          "output_type": "stream",
          "name": "stdout",
          "text": [
            "[MoviePy] Done.\n",
            "[MoviePy] >>>> Video ready: huma2f.mp4 \n",
            "\n",
            "Resizing clipnow  36\n",
            "[MoviePy] >>>> Building video huma3f.mp4\n",
            "[MoviePy] Writing audio in huma3fTEMP_MPY_wvf_snd.mp3\n"
          ]
        },
        {
          "output_type": "stream",
          "name": "stderr",
          "text": [
            " 88%|████████▊ | 195/221 [00:00<00:00, 851.68it/s]\n"
          ]
        }
      ]
    },
    {
      "cell_type": "code",
      "source": [
        "!rm -rf *TEMP*\n",
        "%cd .."
      ],
      "metadata": {
        "colab": {
          "base_uri": "https://localhost:8080/"
        },
        "id": "mfr_FCSIp0uZ",
        "outputId": "80265dde-a98e-407d-b2ec-4a6c12ca27d0"
      },
      "execution_count": null,
      "outputs": [
        {
          "output_type": "stream",
          "name": "stdout",
          "text": [
            "/content\n"
          ]
        }
      ]
    },
    {
      "cell_type": "markdown",
      "source": [
        "LOADING DATASET\n"
      ],
      "metadata": {
        "id": "IjRq1zN0B7am"
      }
    },
    {
      "cell_type": "code",
      "execution_count": null,
      "metadata": {
        "deletable": true,
        "editable": true,
        "colab": {
          "base_uri": "https://localhost:8080/",
          "height": 143
        },
        "id": "6UPgkqNzHmsa",
        "outputId": "a4f73179-daf0-4ba0-8884-f6b1fe32239d"
      },
      "outputs": [
        {
          "output_type": "execute_result",
          "data": {
            "text/plain": [
              "        video_name\n",
              "labels            \n",
              "0               14\n",
              "1               91"
            ],
            "text/html": [
              "\n",
              "  <div id=\"df-befe81e9-413b-4db6-a24f-bd7aa538a3ac\">\n",
              "    <div class=\"colab-df-container\">\n",
              "      <div>\n",
              "<style scoped>\n",
              "    .dataframe tbody tr th:only-of-type {\n",
              "        vertical-align: middle;\n",
              "    }\n",
              "\n",
              "    .dataframe tbody tr th {\n",
              "        vertical-align: top;\n",
              "    }\n",
              "\n",
              "    .dataframe thead th {\n",
              "        text-align: right;\n",
              "    }\n",
              "</style>\n",
              "<table border=\"1\" class=\"dataframe\">\n",
              "  <thead>\n",
              "    <tr style=\"text-align: right;\">\n",
              "      <th></th>\n",
              "      <th>video_name</th>\n",
              "    </tr>\n",
              "    <tr>\n",
              "      <th>labels</th>\n",
              "      <th></th>\n",
              "    </tr>\n",
              "  </thead>\n",
              "  <tbody>\n",
              "    <tr>\n",
              "      <th>0</th>\n",
              "      <td>14</td>\n",
              "    </tr>\n",
              "    <tr>\n",
              "      <th>1</th>\n",
              "      <td>91</td>\n",
              "    </tr>\n",
              "  </tbody>\n",
              "</table>\n",
              "</div>\n",
              "      <button class=\"colab-df-convert\" onclick=\"convertToInteractive('df-befe81e9-413b-4db6-a24f-bd7aa538a3ac')\"\n",
              "              title=\"Convert this dataframe to an interactive table.\"\n",
              "              style=\"display:none;\">\n",
              "        \n",
              "  <svg xmlns=\"http://www.w3.org/2000/svg\" height=\"24px\"viewBox=\"0 0 24 24\"\n",
              "       width=\"24px\">\n",
              "    <path d=\"M0 0h24v24H0V0z\" fill=\"none\"/>\n",
              "    <path d=\"M18.56 5.44l.94 2.06.94-2.06 2.06-.94-2.06-.94-.94-2.06-.94 2.06-2.06.94zm-11 1L8.5 8.5l.94-2.06 2.06-.94-2.06-.94L8.5 2.5l-.94 2.06-2.06.94zm10 10l.94 2.06.94-2.06 2.06-.94-2.06-.94-.94-2.06-.94 2.06-2.06.94z\"/><path d=\"M17.41 7.96l-1.37-1.37c-.4-.4-.92-.59-1.43-.59-.52 0-1.04.2-1.43.59L10.3 9.45l-7.72 7.72c-.78.78-.78 2.05 0 2.83L4 21.41c.39.39.9.59 1.41.59.51 0 1.02-.2 1.41-.59l7.78-7.78 2.81-2.81c.8-.78.8-2.07 0-2.86zM5.41 20L4 18.59l7.72-7.72 1.47 1.35L5.41 20z\"/>\n",
              "  </svg>\n",
              "      </button>\n",
              "      \n",
              "  <style>\n",
              "    .colab-df-container {\n",
              "      display:flex;\n",
              "      flex-wrap:wrap;\n",
              "      gap: 12px;\n",
              "    }\n",
              "\n",
              "    .colab-df-convert {\n",
              "      background-color: #E8F0FE;\n",
              "      border: none;\n",
              "      border-radius: 50%;\n",
              "      cursor: pointer;\n",
              "      display: none;\n",
              "      fill: #1967D2;\n",
              "      height: 32px;\n",
              "      padding: 0 0 0 0;\n",
              "      width: 32px;\n",
              "    }\n",
              "\n",
              "    .colab-df-convert:hover {\n",
              "      background-color: #E2EBFA;\n",
              "      box-shadow: 0px 1px 2px rgba(60, 64, 67, 0.3), 0px 1px 3px 1px rgba(60, 64, 67, 0.15);\n",
              "      fill: #174EA6;\n",
              "    }\n",
              "\n",
              "    [theme=dark] .colab-df-convert {\n",
              "      background-color: #3B4455;\n",
              "      fill: #D2E3FC;\n",
              "    }\n",
              "\n",
              "    [theme=dark] .colab-df-convert:hover {\n",
              "      background-color: #434B5C;\n",
              "      box-shadow: 0px 1px 3px 1px rgba(0, 0, 0, 0.15);\n",
              "      filter: drop-shadow(0px 1px 2px rgba(0, 0, 0, 0.3));\n",
              "      fill: #FFFFFF;\n",
              "    }\n",
              "  </style>\n",
              "\n",
              "      <script>\n",
              "        const buttonEl =\n",
              "          document.querySelector('#df-befe81e9-413b-4db6-a24f-bd7aa538a3ac button.colab-df-convert');\n",
              "        buttonEl.style.display =\n",
              "          google.colab.kernel.accessAllowed ? 'block' : 'none';\n",
              "\n",
              "        async function convertToInteractive(key) {\n",
              "          const element = document.querySelector('#df-befe81e9-413b-4db6-a24f-bd7aa538a3ac');\n",
              "          const dataTable =\n",
              "            await google.colab.kernel.invokeFunction('convertToInteractive',\n",
              "                                                     [key], {});\n",
              "          if (!dataTable) return;\n",
              "\n",
              "          const docLinkHtml = 'Like what you see? Visit the ' +\n",
              "            '<a target=\"_blank\" href=https://colab.research.google.com/notebooks/data_table.ipynb>data table notebook</a>'\n",
              "            + ' to learn more about interactive tables.';\n",
              "          element.innerHTML = '';\n",
              "          dataTable['output_type'] = 'display_data';\n",
              "          await google.colab.output.renderOutput(dataTable, element);\n",
              "          const docLink = document.createElement('div');\n",
              "          docLink.innerHTML = docLinkHtml;\n",
              "          element.appendChild(docLink);\n",
              "        }\n",
              "      </script>\n",
              "    </div>\n",
              "  </div>\n",
              "  "
            ]
          },
          "metadata": {},
          "execution_count": 11
        }
      ],
      "source": [
        "# Loading video names in a column and labels:\n",
        "\n",
        "path=os.getcwd()\n",
        "video_directory=os.path.join(path,\"Videos_folder\")\n",
        "videos=os.listdir(video_directory)\n",
        "\n",
        "label=[]\n",
        "for i in videos:\n",
        "    if \"huma\" in i:\n",
        "        label.append(0)\n",
        "    elif \"bot\" in i:\n",
        "        label.append(1)\n",
        "    else:\n",
        "        print(i)\n",
        "        label.append(\"file_name_incorrect\")\n",
        "        \n",
        "videos=pd.DataFrame(videos,label).reset_index()\n",
        "videos.columns=[\"labels\",\"video_name\"]\n",
        "\n",
        "videos.groupby('labels').count()"
      ]
    },
    {
      "cell_type": "code",
      "execution_count": null,
      "metadata": {
        "collapsed": true,
        "deletable": true,
        "editable": true,
        "id": "wtV-6EodHmsj"
      },
      "outputs": [],
      "source": [
        "# Splitting the videos into Train and Test Videos:\n",
        "no_st=videos.loc[videos[\"labels\"]==0,]\n",
        "st=videos.loc[videos[\"labels\"]==1,]\n",
        "\n",
        "no_st_range=np.arange(len(no_st))\n",
        "st_range=np.arange(len(st))\n",
        "np.random.seed(14)\n",
        "np.random.shuffle(no_st_range)\n",
        "np.random.shuffle(st_range)\n",
        "\n",
        "st=st.iloc[st_range,]\n",
        "no_st=no_st.iloc[no_st_range,]\n",
        "\n",
        "train_st=st.iloc[:3,]\n",
        "train_no_st=no_st.iloc[:3,]\n",
        "test_st=st.iloc[3:,]\n",
        "test_no_st=no_st.iloc[3:,]\n",
        "\n",
        "train_set=train_st.append(train_no_st)\n",
        "test_set=test_st.append(test_no_st)\n",
        "\n",
        "train_set=train_set.reset_index().drop(\"index\",axis=1)\n",
        "test_set=test_set.reset_index().drop(\"index\",axis=1)"
      ]
    },
    {
      "cell_type": "code",
      "source": [
        "# Video Data count by label\n",
        "\n",
        "print(train_set.groupby('labels').count())\n",
        "print(test_set.groupby('labels').count())\n",
        "df = train_set.groupby('labels').count()\n",
        "\n",
        "data = {\n",
        "    \"label\" : [0,1],\n",
        "    \"count\" : [14,91]\n",
        "}"
      ],
      "metadata": {
        "id": "BAox3tIT2tyC",
        "colab": {
          "base_uri": "https://localhost:8080/"
        },
        "outputId": "c32b7917-c900-4bf3-c46e-6f9fc6283aa8"
      },
      "execution_count": null,
      "outputs": [
        {
          "output_type": "stream",
          "name": "stdout",
          "text": [
            "        video_name\n",
            "labels            \n",
            "0                3\n",
            "1                3\n",
            "        video_name\n",
            "labels            \n",
            "0               11\n",
            "1               88\n"
          ]
        }
      ]
    },
    {
      "cell_type": "code",
      "source": [
        "\n",
        "# plot of DATA by label\n",
        "\n",
        "import seaborn as sns\n",
        "\n",
        "sns.set_style(\"darkgrid\")\n",
        "\n",
        "plt.figure(figsize=(6,4))\n",
        "\n",
        "\n",
        "\n",
        "\n",
        "sns.barplot(x='label',y='count',data=data)\n",
        "plt.show()"
      ],
      "metadata": {
        "colab": {
          "base_uri": "https://localhost:8080/",
          "height": 265
        },
        "id": "GeStI_-30mvQ",
        "outputId": "d10185a9-a92f-4f93-8948-cf10435c6018"
      },
      "execution_count": null,
      "outputs": [
        {
          "output_type": "display_data",
          "data": {
            "text/plain": [
              "<Figure size 432x288 with 1 Axes>"
            ],
            "image/png": "[encoded data removed]"
          },
          "metadata": {}
        }
      ]
    },
    {
      "cell_type": "code",
      "execution_count": null,
      "metadata": {
        "id": "yw_XjzUrHmst"
      },
      "outputs": [],
      "source": [
        "stretches_dir_path=os.path.join(path,'Stretches')\n",
        "train_videos_dir=os.path.join(stretches_dir_path,\"Train_Videos\")\n",
        "test_videos_dir=os.path.join(stretches_dir_path,\"Test_Videos\")\n",
        "try:\n",
        "    os.mkdir(stretches_dir_path)\n",
        "except FileExistsError as ae:\n",
        "    print(\"Folder Already Created\")\n",
        "\n",
        "try:\n",
        "    os.mkdir(train_videos_dir)\n",
        "except FileExistsError as ae:\n",
        "    print(\"Folder Already Created\")\n",
        "    \n",
        "try:\n",
        "    os.mkdir(test_videos_dir)\n",
        "except FileExistsError as ae:\n",
        "    print(\"Folder Already Created\")\n"
      ]
    },
    {
      "cell_type": "code",
      "execution_count": null,
      "metadata": {
        "colab": {
          "base_uri": "https://localhost:8080/"
        },
        "id": "2x28cvkQHms1",
        "outputId": "61d522ae-2bac-4954-ba9c-4db099643051"
      },
      "outputs": [
        {
          "output_type": "stream",
          "name": "stdout",
          "text": [
            "All frames written in the: Train_Videos Folder\n",
            "All frames written in the: Test_Videos Folder\n"
          ]
        }
      ],
      "source": [
        "stretches_path=os.path.join(path,\"Stretches\")\n",
        "def video_capturing_function(dataset,folder_name):\n",
        "    for i in np.arange(len(dataset)):\n",
        "        video_name=dataset.video_name[i]\n",
        "        video_read_path=os.path.join(video_directory,video_name)\n",
        "        cap=cv2.VideoCapture(video_read_path)\n",
        "        try:\n",
        "            os.mkdir(os.path.join(os.path.join(stretches_path,folder_name),\n",
        "                                  video_name.split(\".\")[0]))\n",
        "        except:\n",
        "            print(\"File Already Created\")\n",
        "        \n",
        "        train_write_file=os.path.join(os.path.join(stretches_path,folder_name),\n",
        "                                  video_name.split(\".\")[0])\n",
        "        cap.set(cv2.CAP_PROP_FPS, 20)\n",
        "        frameRate=cap.get(5)\n",
        "        x=1\n",
        "        count=0\n",
        "        while(cap.isOpened()):\n",
        "            frameId = cap.get(1) #current frame number\n",
        "            ret, frame = cap.read()\n",
        "            if (ret != True):\n",
        "                break\n",
        "            if (frameId % math.floor(frameRate) == 0):\n",
        "                filename =\"frame%d.jpg\" % count;count+=1\n",
        "                frame_grey=cv2.cvtColor(frame, cv2.COLOR_BGR2GRAY)\n",
        "                cv2.imwrite(os.path.join(train_write_file,filename), frame_grey)\n",
        "        cap.release()\n",
        "    return print(\"All frames written in the: \"+folder_name+\" Folder\")\n",
        "    \n",
        "video_capturing_function(train_set,\"Train_Videos\")\n",
        "video_capturing_function(test_set,\"Test_Videos\")"
      ]
    },
    {
      "cell_type": "code",
      "execution_count": null,
      "metadata": {
        "collapsed": true,
        "deletable": true,
        "editable": true,
        "id": "9siFqabIHms3"
      },
      "outputs": [],
      "source": [
        "# Code to see how many frames are captured for each video:\n",
        "import os \n",
        "train_dir_path=os.getcwd()+'/Stretches/Train_Videos'\n",
        "test_dir_path=os.getcwd()+'/Stretches/Test_Videos'\n",
        "\n",
        "vid_file_name=train_set.video_name[0].split('.')[0]\n",
        "\n",
        "train_frames=[]\n",
        "for i in np.arange(len(train_set.video_name)):\n",
        "    vid_file_name=train_set.video_name[i].split('.')[0]\n",
        "    train_frames.append(len(os.listdir(os.path.join(train_dir_path,vid_file_name))))\n",
        "\n",
        "test_frames=[]\n",
        "for i in np.arange(len(test_set.video_name)):\n",
        "    vid_file_name=test_set.video_name[i].split('.')[0]\n",
        "    test_frames.append(len(os.listdir(os.path.join(test_dir_path,vid_file_name))))\n"
      ]
    },
    {
      "cell_type": "markdown",
      "metadata": {
        "id": "3foUGApwHms6"
      },
      "source": [
        "Making sure that each video has atleast 10 frames:\n"
      ]
    },
    {
      "cell_type": "code",
      "execution_count": null,
      "metadata": {
        "colab": {
          "base_uri": "https://localhost:8080/"
        },
        "id": "z-DH0nCOHms8",
        "outputId": "17e62dbf-6137-4e39-ac20-8ad2bf1432c2"
      },
      "outputs": [
        {
          "output_type": "stream",
          "name": "stdout",
          "text": [
            "Frame Generation Done!\n",
            "Frame Generation Done!\n"
          ]
        }
      ],
      "source": [
        "def frame_generating_function(dataset,dir_path):\n",
        "    for i in np.arange(len(dataset.video_name)):\n",
        "        vid_namu=dataset.video_name[i]\n",
        "        vid_path=os.path.join(dir_path,vid_namu.split(\".\")[0])\n",
        "        len_frame=len(os.listdir(vid_path))\n",
        "        j=10-len(os.listdir(vid_path))\n",
        "        if j>0:\n",
        "            list_frames=os.listdir(vid_path)\n",
        "            c=0\n",
        "            for k in np.arange(j):\n",
        "                list_frames=os.listdir(vid_path)\n",
        "                print(vid_path)\n",
        "                frame=os.path.join(vid_path,list_frames[c])\n",
        "                countu=k+len_frame\n",
        "                new_frame=\"frame%d.jpg\" % countu\n",
        "                shutil.copy2(frame,os.path.join(vid_path,new_frame))\n",
        "                c+=1\n",
        "        else:\n",
        "            pass\n",
        "    return print(\"Frame Generation Done!\")\n",
        "    \n",
        "frame_generating_function(train_set,train_dir_path)\n",
        "frame_generating_function(test_set,test_dir_path)"
      ]
    },
    {
      "cell_type": "markdown",
      "metadata": {
        "id": "uyHzx5bDHmtA"
      },
      "source": [
        "Data Preparation\n"
      ]
    },
    {
      "cell_type": "code",
      "execution_count": null,
      "metadata": {
        "collapsed": true,
        "deletable": true,
        "editable": true,
        "id": "0Fn8DsylHmtC"
      },
      "outputs": [],
      "source": [
        "# Train and Validation Splitting:\n",
        "label_1_dat=train_set.loc[train_set[\"labels\"]==1,]\n",
        "label_0_dat=train_set.loc[train_set[\"labels\"]==0,]\n",
        "\n",
        "train_len_label1=math.floor(len(label_1_dat)*0.80)\n",
        "train_len_label0=math.floor(len(label_0_dat)*0.80)\n",
        "\n",
        "train_dat_label1=label_1_dat.iloc[:train_len_label1,]\n",
        "train_dat_label0=label_0_dat.iloc[:train_len_label0,]\n",
        "\n",
        "validation_dat_label1=label_1_dat.iloc[train_len_label1:,]\n",
        "validation_dat_label0=label_0_dat.iloc[train_len_label0:,]\n",
        "\n",
        "train_vid_dat=train_dat_label1.append(train_dat_label0,ignore_index=True)\n",
        "validation_vid_dat=validation_dat_label1.append(validation_dat_label0,ignore_index=True)\n"
      ]
    },
    {
      "cell_type": "code",
      "execution_count": null,
      "metadata": {
        "id": "T2nA6linHmtE"
      },
      "outputs": [],
      "source": [
        "# Data load function for 10 frames:\n",
        "\n",
        "def data_load_function_10frames(dataset,directory):\n",
        "    frames=[]\n",
        "    for i in np.arange(len(dataset)):\n",
        "        vid_name=dataset.video_name[i].split(\".\")[0]\n",
        "        vid_dir_path=os.path.join(directory,vid_name)\n",
        "        frames_to_select=[]\n",
        "        for l in np.arange(0,10):\n",
        "            frames_to_select.append('frame%d.jpg' % l)\n",
        "        vid_data=[]\n",
        "        for frame in frames_to_select:\n",
        "            image=Image.open(os.path.join(vid_dir_path,frame))\n",
        "            image=image.resize((250, 250), Image.ANTIALIAS) \n",
        "            datu=np.asarray(image)\n",
        "            normu_dat=datu/255\n",
        "            vid_data.append(normu_dat)\n",
        "        vid_data=np.array(vid_data)\n",
        "        frames.append(vid_data)\n",
        "    return np.array(frames)"
      ]
    },
    {
      "cell_type": "code",
      "execution_count": null,
      "metadata": {
        "id": "OW8JxU3rHmtH"
      },
      "outputs": [],
      "source": [
        "# 10 frames train,validation and test data:\n",
        "\n",
        "test_dataset_new=data_load_function_10frames(test_set,test_dir_path)\n",
        "train_dataset_new=data_load_function_10frames(train_vid_dat,train_dir_path)\n",
        "validation_dataset_new=data_load_function_10frames(validation_vid_dat,train_dir_path)\n",
        "\n",
        "test_labels=np.array(test_set.labels)\n",
        "train_labels=np.array(train_vid_dat.labels)\n",
        "validation_labels=np.array(validation_vid_dat.labels)"
      ]
    },
    {
      "cell_type": "code",
      "source": [
        "len(train_labels)"
      ],
      "metadata": {
        "colab": {
          "base_uri": "https://localhost:8080/"
        },
        "id": "ovYoMI157yzz",
        "outputId": "6e58fa1f-ac9c-41b8-cc5d-78347096d142"
      },
      "execution_count": null,
      "outputs": [
        {
          "output_type": "execute_result",
          "data": {
            "text/plain": [
              "4"
            ]
          },
          "metadata": {},
          "execution_count": 22
        }
      ]
    },
    {
      "cell_type": "code",
      "execution_count": null,
      "metadata": {
        "id": "CKMVOb1HHmtJ"
      },
      "outputs": [],
      "source": [
        "# Reshaping tensors to confirm with the model we are going to train:\n",
        "test_dataset_new=test_dataset_new.reshape((len(test_dataset_new),10,250,250,1))\n",
        "train_dataset_new=train_dataset_new.reshape((len(train_dataset_new),10,250,250,1))\n",
        "validation_dataset_new=validation_dataset_new.reshape((len(validation_dataset_new),10,250,250,1))\n"
      ]
    },
    {
      "cell_type": "markdown",
      "metadata": {
        "id": "jX6kLvA4HmtP"
      },
      "source": [
        "CNN and LSTM Layer architecture\n"
      ]
    },
    {
      "cell_type": "code",
      "execution_count": null,
      "metadata": {
        "colab": {
          "base_uri": "https://localhost:8080/"
        },
        "id": "bWCTaSV4HmtT",
        "outputId": "2605e428-ab1d-440f-945d-4dcdc2df6f5c"
      },
      "outputs": [
        {
          "output_type": "stream",
          "name": "stdout",
          "text": [
            "Model: \"sequential\"\n",
            "_________________________________________________________________\n",
            " Layer (type)                Output Shape              Param #   \n",
            "=================================================================\n",
            " time_distributed (TimeDistr  (None, 10, 248, 248, 128  1280     \n",
            " ibuted)                     )                                   \n",
            "                                                                 \n",
            " time_distributed_1 (TimeDis  (None, 10, 246, 246, 64)  73792    \n",
            " tributed)                                                       \n",
            "                                                                 \n",
            " time_distributed_2 (TimeDis  (None, 10, 123, 123, 64)  0        \n",
            " tributed)                                                       \n",
            "                                                                 \n",
            " time_distributed_3 (TimeDis  (None, 10, 121, 121, 64)  36928    \n",
            " tributed)                                                       \n",
            "                                                                 \n",
            " time_distributed_4 (TimeDis  (None, 10, 119, 119, 32)  18464    \n",
            " tributed)                                                       \n",
            "                                                                 \n",
            " time_distributed_5 (TimeDis  (None, 10, 59, 59, 32)   0         \n",
            " tributed)                                                       \n",
            "                                                                 \n",
            " time_distributed_6 (TimeDis  (None, 10, 59, 59, 32)   128       \n",
            " tributed)                                                       \n",
            "                                                                 \n",
            " time_distributed_7 (TimeDis  (None, 10, 111392)       0         \n",
            " tributed)                                                       \n",
            "                                                                 \n",
            " dropout (Dropout)           (None, 10, 111392)        0         \n",
            "                                                                 \n",
            " lstm (LSTM)                 (None, 32)                14262400  \n",
            "                                                                 \n",
            " dense (Dense)               (None, 64)                2112      \n",
            "                                                                 \n",
            " dense_1 (Dense)             (None, 32)                2080      \n",
            "                                                                 \n",
            " dropout_1 (Dropout)         (None, 32)                0         \n",
            "                                                                 \n",
            " dense_2 (Dense)             (None, 1)                 33        \n",
            "                                                                 \n",
            "=================================================================\n",
            "Total params: 14,397,217\n",
            "Trainable params: 14,397,153\n",
            "Non-trainable params: 64\n",
            "_________________________________________________________________\n"
          ]
        }
      ],
      "source": [
        "from keras.layers import TimeDistributed, Conv2D, Dense, MaxPooling2D, Flatten, LSTM, Dropout, BatchNormalization\n",
        "from keras import models\n",
        "model = models.Sequential()\n",
        "model.add(TimeDistributed(Conv2D(128, (3, 3), strides=(1,1),activation='relu'),input_shape=(10, 250, 250, 1)))\n",
        "model.add(TimeDistributed(Conv2D(64, (3, 3), strides=(1,1),activation='relu')))\n",
        "model.add(TimeDistributed(MaxPooling2D(2,2)))\n",
        "model.add(TimeDistributed(Conv2D(64, (3, 3), strides=(1,1),activation='relu')))\n",
        "model.add(TimeDistributed(Conv2D(32, (3, 3), strides=(1,1),activation='relu')))\n",
        "model.add(TimeDistributed(MaxPooling2D(2,2)))\n",
        "model.add(TimeDistributed(BatchNormalization()))\n",
        "model.add(TimeDistributed(Flatten()))\n",
        "model.add(Dropout(0.2))\n",
        "model.add(LSTM(32,return_sequences=False,dropout=0.2)) # used 32 units\n",
        "model.add(Dense(64,activation='relu'))\n",
        "model.add(Dense(32,activation='relu'))\n",
        "model.add(Dropout(0.2))\n",
        "model.add(Dense(1, activation='sigmoid'))\n",
        "model.summary()"
      ]
    },
    {
      "cell_type": "markdown",
      "metadata": {
        "id": "uqM5hvO0HmtV"
      },
      "source": [
        "Model Compilation"
      ]
    },
    {
      "cell_type": "code",
      "execution_count": null,
      "metadata": {
        "id": "NgTCOev6HmtY"
      },
      "outputs": [],
      "source": [
        "# 'cnn_lstm_model_new5.h5'\n",
        "from tensorflow import keras\n",
        "from keras import optimizers\n",
        "from keras import optimizers\n",
        "callbacks_list_cnlst=[keras.callbacks.EarlyStopping(\n",
        "monitor='acc',patience=3),\n",
        "               keras.callbacks.ModelCheckpoint(\n",
        "               filepath='cnn_lstm_model_new3.h5',\n",
        "               monitor='val_loss',\n",
        "               save_best_only=True),\n",
        "                keras.callbacks.ReduceLROnPlateau(monitor = \"val_loss\", factor = 0.1, patience = 3)\n",
        "               ]\n",
        "\n",
        "from keras import optimizers\n",
        "optimizer_new=keras.optimizers.RMSprop(learning_rate=0.01)\n",
        "model.compile(optimizer=optimizer_new,loss='binary_crossentropy',metrics=['acc'])"
      ]
    },
    {
      "cell_type": "code",
      "source": [],
      "metadata": {
        "id": "iiAKuKJFR9UR"
      },
      "execution_count": null,
      "outputs": []
    },
    {
      "cell_type": "markdown",
      "source": [
        "Training our Final Model , Data Fitting"
      ],
      "metadata": {
        "id": "Yw5BwLc4R9tq"
      }
    },
    {
      "cell_type": "code",
      "execution_count": null,
      "metadata": {
        "colab": {
          "base_uri": "https://localhost:8080/"
        },
        "id": "NvCM4fmPHmta",
        "outputId": "94c35ee9-2e63-45c1-d4e2-68ce5e639170"
      },
      "outputs": [
        {
          "output_type": "stream",
          "name": "stdout",
          "text": [
            "Epoch 1/5\n",
            "1/1 [==============================] - 48s 48s/step - loss: 0.3135 - acc: 1.0000 - val_loss: 0.7253 - val_acc: 0.5000 - lr: 0.0100\n",
            "Epoch 2/5\n",
            "1/1 [==============================] - 40s 40s/step - loss: 0.0185 - acc: 1.0000 - val_loss: 0.8166 - val_acc: 0.5000 - lr: 0.0100\n",
            "Epoch 3/5\n",
            "1/1 [==============================] - 40s 40s/step - loss: 0.0103 - acc: 1.0000 - val_loss: 0.7845 - val_acc: 0.5000 - lr: 0.0100\n",
            "Epoch 4/5\n",
            "1/1 [==============================] - 41s 41s/step - loss: 0.0063 - acc: 1.0000 - val_loss: 0.7898 - val_acc: 0.5000 - lr: 0.0100\n"
          ]
        }
      ],
      "source": [
        "history_new_cnlst=model.fit(train_dataset_new,train_labels,epochs=5,batch_size=5,\n",
        "               validation_data=(validation_dataset_new,validation_labels),\n",
        "               callbacks=callbacks_list_cnlst)"
      ]
    },
    {
      "cell_type": "code",
      "source": [
        "res = model.predict(train_dataset_new)"
      ],
      "metadata": {
        "id": "kuVCuLpGFdSn"
      },
      "execution_count": null,
      "outputs": []
    },
    {
      "cell_type": "code",
      "source": [
        "train_labels"
      ],
      "metadata": {
        "colab": {
          "base_uri": "https://localhost:8080/"
        },
        "id": "zNNO9k1F5DzE",
        "outputId": "7c468b9a-53f2-4172-8fb8-9bbd412aba31"
      },
      "execution_count": null,
      "outputs": [
        {
          "output_type": "execute_result",
          "data": {
            "text/plain": [
              "array([1, 1, 0, 0])"
            ]
          },
          "metadata": {},
          "execution_count": 29
        }
      ]
    },
    {
      "cell_type": "code",
      "execution_count": null,
      "metadata": {
        "id": "qP5mw5kQHmte",
        "outputId": "f291737e-27fd-4119-d93e-aee10e769438",
        "colab": {
          "base_uri": "https://localhost:8080/",
          "height": 297
        }
      },
      "outputs": [
        {
          "output_type": "display_data",
          "data": {
            "text/plain": [
              "<Figure size 432x288 with 4 Axes>"
            ],
            "image/png": "[encoded data removed]"
          },
          "metadata": {}
        }
      ],
      "source": [
        "acc=history_new_cnlst.history[\"acc\"]\n",
        "val_acc=history_new_cnlst.history[\"val_acc\"]\n",
        "loss=history_new_cnlst.history[\"loss\"]\n",
        "val_loss=history_new_cnlst.history[\"val_loss\"]\n",
        "epochs=np.arange(1,10)\n",
        "\n",
        "plt.figure()\n",
        "plt.subplot(2,2,1)\n",
        "plt.plot(epochs[:4],val_acc,'-o')\n",
        "plt.title('Validation Accuracy')\n",
        "\n",
        "plt.subplot(2,2,2)\n",
        "plt.plot(epochs[:4],acc,'-o')\n",
        "plt.title('Train Accuracy')\n",
        "\n",
        "plt.subplot(2,2,3)\n",
        "plt.plot(epochs[:4],val_loss,'-o')\n",
        "plt.title('Validation Loss')\n",
        "\n",
        "plt.subplot(2,2,4)\n",
        "plt.plot(epochs[:4],loss,'-o')\n",
        "plt.title('Training Loss')\n",
        "\n",
        "\n",
        "plt.tight_layout()"
      ]
    },
    {
      "cell_type": "code",
      "source": [
        "epochs"
      ],
      "metadata": {
        "colab": {
          "base_uri": "https://localhost:8080/"
        },
        "id": "VTy9YGYWy2x9",
        "outputId": "202ced3c-987e-403d-baf0-838eb7c05d52"
      },
      "execution_count": null,
      "outputs": [
        {
          "output_type": "execute_result",
          "data": {
            "text/plain": [
              "array([1, 2, 3, 4, 5, 6, 7, 8, 9])"
            ]
          },
          "metadata": {},
          "execution_count": 31
        }
      ]
    },
    {
      "cell_type": "markdown",
      "metadata": {
        "id": "JyH0BvknHmtg"
      },
      "source": [
        "Model Testing on Test Dataset:\n"
      ]
    },
    {
      "cell_type": "code",
      "execution_count": null,
      "metadata": {
        "id": "1RPzmoSwHmth"
      },
      "outputs": [],
      "source": [
        "modelu_5=load_model('cnn_lstm_model_new3.h5')\n",
        "modelu_5.evaluate(test_dataset_new,test_labels)"
      ]
    },
    {
      "cell_type": "code",
      "source": [
        "import matplotlib.pyplot as plt"
      ],
      "metadata": {
        "id": "2nJV9MUox0TC"
      },
      "execution_count": null,
      "outputs": []
    },
    {
      "cell_type": "code",
      "source": [
        "fig, ax = plt.subplots()\n",
        "\n",
        "\n",
        "\n",
        "ax.scatter(df['margin'],df['orders'] )\n",
        "# set a title and labels\n",
        "ax.set_title('PLT')\n",
        "ax.set_xlabel('margin')\n",
        "ax.set_ylabel('orders')\n",
        "\n",
        "\n",
        "import seaborn as sns\n",
        "\n",
        "sns.set_style(\"darkgrid\")\n",
        "plt.figure(figsize=(10,4))\n",
        "\n",
        "\n",
        "\n",
        "\n",
        "sns.barplot( x=df.voucher_group ,y=df.margin)\n",
        "plt.show()"
      ],
      "metadata": {
        "id": "JVv1xqazx0Vo"
      },
      "execution_count": null,
      "outputs": []
    },
    {
      "cell_type": "code",
      "source": [
        "videos"
      ],
      "metadata": {
        "colab": {
          "base_uri": "https://localhost:8080/",
          "height": 423
        },
        "id": "ZCk5cdl9x0YQ",
        "outputId": "82e09247-d235-4bdb-fb5d-0f10530b01a6"
      },
      "execution_count": null,
      "outputs": [
        {
          "output_type": "execute_result",
          "data": {
            "text/plain": [
              "    labels   video_name\n",
              "0        1   bot21f.mp4\n",
              "1        1   bot12f.mp4\n",
              "2        1     bot2.mp4\n",
              "3        1  bot111f.mp4\n",
              "4        1   bot27f.mp4\n",
              "..     ...          ...\n",
              "73       1   bot34f.mp4\n",
              "74       1  bot315f.mp4\n",
              "75       1   bot14f.mp4\n",
              "76       1  bot112f.mp4\n",
              "77       1  bot110f.mp4\n",
              "\n",
              "[78 rows x 2 columns]"
            ],
            "text/html": [
              "\n",
              "  <div id=\"df-ee5abdb3-051e-4530-a565-9d0f6cbcc24a\">\n",
              "    <div class=\"colab-df-container\">\n",
              "      <div>\n",
              "<style scoped>\n",
              "    .dataframe tbody tr th:only-of-type {\n",
              "        vertical-align: middle;\n",
              "    }\n",
              "\n",
              "    .dataframe tbody tr th {\n",
              "        vertical-align: top;\n",
              "    }\n",
              "\n",
              "    .dataframe thead th {\n",
              "        text-align: right;\n",
              "    }\n",
              "</style>\n",
              "<table border=\"1\" class=\"dataframe\">\n",
              "  <thead>\n",
              "    <tr style=\"text-align: right;\">\n",
              "      <th></th>\n",
              "      <th>labels</th>\n",
              "      <th>video_name</th>\n",
              "    </tr>\n",
              "  </thead>\n",
              "  <tbody>\n",
              "    <tr>\n",
              "      <th>0</th>\n",
              "      <td>1</td>\n",
              "      <td>bot21f.mp4</td>\n",
              "    </tr>\n",
              "    <tr>\n",
              "      <th>1</th>\n",
              "      <td>1</td>\n",
              "      <td>bot12f.mp4</td>\n",
              "    </tr>\n",
              "    <tr>\n",
              "      <th>2</th>\n",
              "      <td>1</td>\n",
              "      <td>bot2.mp4</td>\n",
              "    </tr>\n",
              "    <tr>\n",
              "      <th>3</th>\n",
              "      <td>1</td>\n",
              "      <td>bot111f.mp4</td>\n",
              "    </tr>\n",
              "    <tr>\n",
              "      <th>4</th>\n",
              "      <td>1</td>\n",
              "      <td>bot27f.mp4</td>\n",
              "    </tr>\n",
              "    <tr>\n",
              "      <th>...</th>\n",
              "      <td>...</td>\n",
              "      <td>...</td>\n",
              "    </tr>\n",
              "    <tr>\n",
              "      <th>73</th>\n",
              "      <td>1</td>\n",
              "      <td>bot34f.mp4</td>\n",
              "    </tr>\n",
              "    <tr>\n",
              "      <th>74</th>\n",
              "      <td>1</td>\n",
              "      <td>bot315f.mp4</td>\n",
              "    </tr>\n",
              "    <tr>\n",
              "      <th>75</th>\n",
              "      <td>1</td>\n",
              "      <td>bot14f.mp4</td>\n",
              "    </tr>\n",
              "    <tr>\n",
              "      <th>76</th>\n",
              "      <td>1</td>\n",
              "      <td>bot112f.mp4</td>\n",
              "    </tr>\n",
              "    <tr>\n",
              "      <th>77</th>\n",
              "      <td>1</td>\n",
              "      <td>bot110f.mp4</td>\n",
              "    </tr>\n",
              "  </tbody>\n",
              "</table>\n",
              "<p>78 rows × 2 columns</p>\n",
              "</div>\n",
              "      <button class=\"colab-df-convert\" onclick=\"convertToInteractive('df-ee5abdb3-051e-4530-a565-9d0f6cbcc24a')\"\n",
              "              title=\"Convert this dataframe to an interactive table.\"\n",
              "              style=\"display:none;\">\n",
              "        \n",
              "  <svg xmlns=\"http://www.w3.org/2000/svg\" height=\"24px\"viewBox=\"0 0 24 24\"\n",
              "       width=\"24px\">\n",
              "    <path d=\"M0 0h24v24H0V0z\" fill=\"none\"/>\n",
              "    <path d=\"M18.56 5.44l.94 2.06.94-2.06 2.06-.94-2.06-.94-.94-2.06-.94 2.06-2.06.94zm-11 1L8.5 8.5l.94-2.06 2.06-.94-2.06-.94L8.5 2.5l-.94 2.06-2.06.94zm10 10l.94 2.06.94-2.06 2.06-.94-2.06-.94-.94-2.06-.94 2.06-2.06.94z\"/><path d=\"M17.41 7.96l-1.37-1.37c-.4-.4-.92-.59-1.43-.59-.52 0-1.04.2-1.43.59L10.3 9.45l-7.72 7.72c-.78.78-.78 2.05 0 2.83L4 21.41c.39.39.9.59 1.41.59.51 0 1.02-.2 1.41-.59l7.78-7.78 2.81-2.81c.8-.78.8-2.07 0-2.86zM5.41 20L4 18.59l7.72-7.72 1.47 1.35L5.41 20z\"/>\n",
              "  </svg>\n",
              "      </button>\n",
              "      \n",
              "  <style>\n",
              "    .colab-df-container {\n",
              "      display:flex;\n",
              "      flex-wrap:wrap;\n",
              "      gap: 12px;\n",
              "    }\n",
              "\n",
              "    .colab-df-convert {\n",
              "      background-color: #E8F0FE;\n",
              "      border: none;\n",
              "      border-radius: 50%;\n",
              "      cursor: pointer;\n",
              "      display: none;\n",
              "      fill: #1967D2;\n",
              "      height: 32px;\n",
              "      padding: 0 0 0 0;\n",
              "      width: 32px;\n",
              "    }\n",
              "\n",
              "    .colab-df-convert:hover {\n",
              "      background-color: #E2EBFA;\n",
              "      box-shadow: 0px 1px 2px rgba(60, 64, 67, 0.3), 0px 1px 3px 1px rgba(60, 64, 67, 0.15);\n",
              "      fill: #174EA6;\n",
              "    }\n",
              "\n",
              "    [theme=dark] .colab-df-convert {\n",
              "      background-color: #3B4455;\n",
              "      fill: #D2E3FC;\n",
              "    }\n",
              "\n",
              "    [theme=dark] .colab-df-convert:hover {\n",
              "      background-color: #434B5C;\n",
              "      box-shadow: 0px 1px 3px 1px rgba(0, 0, 0, 0.15);\n",
              "      filter: drop-shadow(0px 1px 2px rgba(0, 0, 0, 0.3));\n",
              "      fill: #FFFFFF;\n",
              "    }\n",
              "  </style>\n",
              "\n",
              "      <script>\n",
              "        const buttonEl =\n",
              "          document.querySelector('#df-ee5abdb3-051e-4530-a565-9d0f6cbcc24a button.colab-df-convert');\n",
              "        buttonEl.style.display =\n",
              "          google.colab.kernel.accessAllowed ? 'block' : 'none';\n",
              "\n",
              "        async function convertToInteractive(key) {\n",
              "          const element = document.querySelector('#df-ee5abdb3-051e-4530-a565-9d0f6cbcc24a');\n",
              "          const dataTable =\n",
              "            await google.colab.kernel.invokeFunction('convertToInteractive',\n",
              "                                                     [key], {});\n",
              "          if (!dataTable) return;\n",
              "\n",
              "          const docLinkHtml = 'Like what you see? Visit the ' +\n",
              "            '<a target=\"_blank\" href=https://colab.research.google.com/notebooks/data_table.ipynb>data table notebook</a>'\n",
              "            + ' to learn more about interactive tables.';\n",
              "          element.innerHTML = '';\n",
              "          dataTable['output_type'] = 'display_data';\n",
              "          await google.colab.output.renderOutput(dataTable, element);\n",
              "          const docLink = document.createElement('div');\n",
              "          docLink.innerHTML = docLinkHtml;\n",
              "          element.appendChild(docLink);\n",
              "        }\n",
              "      </script>\n",
              "    </div>\n",
              "  </div>\n",
              "  "
            ]
          },
          "metadata": {},
          "execution_count": 23
        }
      ]
    },
    {
      "cell_type": "code",
      "source": [
        "label = [1, 1, 1,0]\n",
        "result = [1, 1, 1, 1]"
      ],
      "metadata": {
        "id": "IoUEQPsZnnd0"
      },
      "execution_count": null,
      "outputs": []
    },
    {
      "cell_type": "code",
      "source": [
        "res = model.predict(train_dataset_new)"
      ],
      "metadata": {
        "colab": {
          "base_uri": "https://localhost:8080/"
        },
        "outputId": "b4b11411-5458-48cf-cc2d-eaceb4d29225",
        "id": "BdyLa0iY5QA_"
      },
      "execution_count": null,
      "outputs": [
        {
          "output_type": "execute_result",
          "data": {
            "text/plain": [
              "array([[0.9938028 ],\n",
              "       [0.99380285],\n",
              "       [0.99380285]], dtype=float32)"
            ]
          },
          "metadata": {},
          "execution_count": 24
        }
      ]
    },
    {
      "cell_type": "code",
      "source": [
        "train_labels"
      ],
      "metadata": {
        "colab": {
          "base_uri": "https://localhost:8080/"
        },
        "outputId": "fa544443-58b9-4c37-efb4-aa08ca78a6b6",
        "id": "ME5yQ3zQ5QBA"
      },
      "execution_count": null,
      "outputs": [
        {
          "output_type": "execute_result",
          "data": {
            "text/plain": [
              "array([1, 1, 0])"
            ]
          },
          "metadata": {},
          "execution_count": 25
        }
      ]
    },
    {
      "cell_type": "code",
      "source": [
        "from sklearn.metrics import accuracy_score, recall_score, precision_score, f1_score\n",
        "\n",
        "\n",
        "print(\"Accuracy \" , accuracy_score(label, result))\n",
        "print(\"Recall \" , recall_score(label, result))\n",
        "print(\"Precision\" , precision_score(label, result))\n",
        "print(\"F1_Score\",f1_score(label, result))"
      ],
      "metadata": {
        "id": "IfiwvtZlx0bf",
        "colab": {
          "base_uri": "https://localhost:8080/"
        },
        "outputId": "757cf940-7b97-4fdc-e615-e1ee30fdf039"
      },
      "execution_count": null,
      "outputs": [
        {
          "output_type": "stream",
          "name": "stdout",
          "text": [
            "Accuracy  0.75\n",
            "Recall  1.0\n",
            "Precision 0.75\n",
            "F1_Score 0.8571428571428571\n"
          ]
        }
      ]
    }
  ],
  "metadata": {
    "kernelspec": {
      "display_name": "Python 3",
      "language": "python",
      "name": "python3"
    },
    "language_info": {
      "codemirror_mode": {
        "name": "ipython",
        "version": 3
      },
      "file_extension": ".py",
      "mimetype": "text/x-python",
      "name": "python",
      "nbconvert_exporter": "python",
      "pygments_lexer": "ipython3",
      "version": "3.7.3"
    },
    "colab": {
      "provenance": []
    }
  },
  "nbformat": 4,
  "nbformat_minor": 0
}