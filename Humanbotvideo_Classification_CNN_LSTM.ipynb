{
  "cells": [
    {
      "cell_type": "markdown",
      "metadata": {
        "id": "XwpzZphK2qEX"
      },
      "source": [
        "General Libraries:\n",
        "---\n",
        "Below are the classes available in python that are used and some corresponding functions used from them."
      ]
    },
    {
      "cell_type": "code",
      "execution_count": null,
      "metadata": {
        "deletable": true,
        "editable": true,
        "id": "uYSSD2652qEY"
      },
      "outputs": [],
      "source": [
        "import cv2\n",
        "import math\n",
        "import matplotlib.pyplot as plt\n",
        "%matplotlib inline\n",
        "import pandas as pd\n",
        "import numpy as np\n",
        "from keras.preprocessing import image\n",
        "import numpy as np\n",
        "from keras.utils import np_utils\n",
        "from skimage.transform import resize\n",
        "from PIL import Image\n",
        "import re\n",
        "import os\n",
        "import random\n",
        "import shutil\n",
        "import keras\n",
        "from keras.models import load_model"
      ]
    },
    {
      "cell_type": "markdown",
      "metadata": {
        "id": "ZJRdOu3E2qEa"
      },
      "source": [
        "Data Gathering and Generation:\n",
        "\n"
      ]
    },
    {
      "cell_type": "code",
      "source": [],
      "metadata": {
        "id": "hMkBcfUme6Cb"
      },
      "execution_count": null,
      "outputs": []
    },
    {
      "cell_type": "code",
      "source": [
        "'''\n",
        "import pytube\n",
        "link = \"https://youtu.be/OHXf7wEpBPI\"\n",
        "yt = pytube.YouTube(link)\n",
        "stream = yt.streams.first()\n",
        "stream.download()\n",
        "'''\n"
      ],
      "metadata": {
        "id": "iUfSPN_Od5aR"
      },
      "execution_count": null,
      "outputs": []
    },
    {
      "cell_type": "code",
      "source": [
        "!pip install imageio==2.4.1"
      ],
      "metadata": {
        "colab": {
          "base_uri": "https://localhost:8080/",
          "height": 418
        },
        "id": "HeZu4iWfqLhQ",
        "outputId": "501b81bf-b482-4ef9-9e7c-566cefe0df0a"
      },
      "execution_count": null,
      "outputs": [
        {
          "output_type": "stream",
          "name": "stdout",
          "text": [
            "Looking in indexes: https://pypi.org/simple, https://us-python.pkg.dev/colab-wheels/public/simple/\n",
            "Collecting imageio==2.4.1\n",
            "  Downloading imageio-2.4.1.tar.gz (3.3 MB)\n",
            "\u001b[K     |████████████████████████████████| 3.3 MB 9.7 MB/s \n",
            "\u001b[?25hRequirement already satisfied: numpy in /usr/local/lib/python3.7/dist-packages (from imageio==2.4.1) (1.21.6)\n",
            "Requirement already satisfied: pillow in /usr/local/lib/python3.7/dist-packages (from imageio==2.4.1) (7.1.2)\n",
            "Building wheels for collected packages: imageio\n",
            "  Building wheel for imageio (setup.py) ... \u001b[?25l\u001b[?25hdone\n",
            "  Created wheel for imageio: filename=imageio-2.4.1-py3-none-any.whl size=3303885 sha256=422a554ea073f313c233c2735553ee557c76b8190180e1052a434505dfa4bab8\n",
            "  Stored in directory: /root/.cache/pip/wheels/46/20/07/7bb9c8c44e6ec2efa60fd0e6280094f53f65f41767ef69a5ee\n",
            "Successfully built imageio\n",
            "Installing collected packages: imageio\n",
            "  Attempting uninstall: imageio\n",
            "    Found existing installation: imageio 2.9.0\n",
            "    Uninstalling imageio-2.9.0:\n",
            "      Successfully uninstalled imageio-2.9.0\n",
            "Successfully installed imageio-2.4.1\n"
          ]
        },
        {
          "output_type": "display_data",
          "data": {
            "application/vnd.colab-display-data+json": {
              "pip_warning": {
                "packages": [
                  "imageio"
                ]
              }
            }
          },
          "metadata": {}
        }
      ]
    },
    {
      "cell_type": "code",
      "source": [
        "# Import everything needed to edit video clips\n",
        "from moviepy.editor import *\n",
        "\n",
        "# loading video dsa gfg intro video\n",
        "def divide_clips(name):\n",
        "\n",
        "  #name = \"bot1.mp4\"\n",
        "  clip = VideoFileClip(name)\n",
        "  duration = clip.duration\n",
        "  print(duration)\n",
        "  cnt=0\n",
        "  i=0\n",
        "  j = 0\n",
        "\n",
        "  while cnt==0 :\n",
        "    print(\"dping it now \",i)\n",
        "    try:\n",
        "      sclip = clip.subclip(i, i+10)\n",
        "    except:\n",
        "      cnt =1\n",
        "    if i+12 < duration :\n",
        "      i+=12\n",
        "    else :\n",
        "      cnt=1\n",
        "    sclip.write_videofile(name[:4]+str(j)+\"f.mp4\")\n",
        "    j+=1\n",
        "\n"
      ],
      "metadata": {
        "id": "Vd3LABQEndwa"
      },
      "execution_count": null,
      "outputs": []
    },
    {
      "cell_type": "code",
      "source": [
        "ls =  ['bot1.mp4',\n",
        " 'bot4.mp4',\n",
        " 'bot3.mp4',\n",
        " 'human5.mp4',\n",
        " 'human4.mp4',\n",
        " 'human3.mp4']\n",
        "\n",
        "for k in ls :\n",
        "  try:\n",
        "    divide_clips(k)\n",
        "  except:\n",
        "    continue\n"
      ],
      "metadata": {
        "colab": {
          "base_uri": "https://localhost:8080/"
        },
        "id": "8WMUqT-3shhC",
        "outputId": "22512409-6caa-4ce3-a158-9fe8f4920d1a"
      },
      "execution_count": null,
      "outputs": [
        {
          "output_type": "stream",
          "name": "stdout",
          "text": [
            "82.48\n",
            "dping it now  0\n",
            "[MoviePy] >>>> Building video bot10f.mp4\n",
            "[MoviePy] Writing audio in bot10fTEMP_MPY_wvf_snd.mp3\n"
          ]
        },
        {
          "output_type": "stream",
          "name": "stderr",
          "text": [
            "100%|██████████| 221/221 [00:00<00:00, 495.70it/s]"
          ]
        },
        {
          "output_type": "stream",
          "name": "stdout",
          "text": [
            "[MoviePy] Done.\n",
            "[MoviePy] Writing video bot10f.mp4\n"
          ]
        },
        {
          "output_type": "stream",
          "name": "stderr",
          "text": [
            "\n",
            "100%|██████████| 100/100 [00:00<00:00, 614.80it/s]\n"
          ]
        },
        {
          "output_type": "stream",
          "name": "stdout",
          "text": [
            "[MoviePy] Done.\n",
            "[MoviePy] >>>> Video ready: bot10f.mp4 \n",
            "\n",
            "dping it now  12\n",
            "[MoviePy] >>>> Building video bot11f.mp4\n",
            "[MoviePy] Writing audio in bot11fTEMP_MPY_wvf_snd.mp3\n"
          ]
        },
        {
          "output_type": "stream",
          "name": "stderr",
          "text": [
            "100%|██████████| 221/221 [00:00<00:00, 896.90it/s]"
          ]
        },
        {
          "output_type": "stream",
          "name": "stdout",
          "text": [
            "[MoviePy] Done.\n",
            "[MoviePy] Writing video bot11f.mp4\n"
          ]
        },
        {
          "output_type": "stream",
          "name": "stderr",
          "text": [
            "\n",
            "100%|██████████| 100/100 [00:00<00:00, 755.87it/s]\n"
          ]
        },
        {
          "output_type": "stream",
          "name": "stdout",
          "text": [
            "[MoviePy] Done.\n",
            "[MoviePy] >>>> Video ready: bot11f.mp4 \n",
            "\n",
            "dping it now  24\n",
            "[MoviePy] >>>> Building video bot12f.mp4\n",
            "[MoviePy] Writing audio in bot12fTEMP_MPY_wvf_snd.mp3\n"
          ]
        },
        {
          "output_type": "stream",
          "name": "stderr",
          "text": [
            "100%|██████████| 221/221 [00:00<00:00, 882.64it/s]"
          ]
        },
        {
          "output_type": "stream",
          "name": "stdout",
          "text": [
            "[MoviePy] Done.\n",
            "[MoviePy] Writing video bot12f.mp4\n"
          ]
        },
        {
          "output_type": "stream",
          "name": "stderr",
          "text": [
            "\n",
            "100%|██████████| 100/100 [00:00<00:00, 639.67it/s]\n"
          ]
        },
        {
          "output_type": "stream",
          "name": "stdout",
          "text": [
            "[MoviePy] Done.\n",
            "[MoviePy] >>>> Video ready: bot12f.mp4 \n",
            "\n",
            "dping it now  36\n",
            "[MoviePy] >>>> Building video bot13f.mp4\n",
            "[MoviePy] Writing audio in bot13fTEMP_MPY_wvf_snd.mp3\n"
          ]
        },
        {
          "output_type": "stream",
          "name": "stderr",
          "text": [
            "100%|██████████| 221/221 [00:00<00:00, 861.67it/s]"
          ]
        },
        {
          "output_type": "stream",
          "name": "stdout",
          "text": [
            "[MoviePy] Done.\n",
            "[MoviePy] Writing video bot13f.mp4\n"
          ]
        },
        {
          "output_type": "stream",
          "name": "stderr",
          "text": [
            "\n",
            "100%|██████████| 100/100 [00:00<00:00, 860.57it/s]\n"
          ]
        },
        {
          "output_type": "stream",
          "name": "stdout",
          "text": [
            "[MoviePy] Done.\n",
            "[MoviePy] >>>> Video ready: bot13f.mp4 \n",
            "\n",
            "dping it now  48\n",
            "[MoviePy] >>>> Building video bot14f.mp4\n",
            "[MoviePy] Writing audio in bot14fTEMP_MPY_wvf_snd.mp3\n"
          ]
        },
        {
          "output_type": "stream",
          "name": "stderr",
          "text": [
            "100%|██████████| 221/221 [00:00<00:00, 880.87it/s]"
          ]
        },
        {
          "output_type": "stream",
          "name": "stdout",
          "text": [
            "[MoviePy] Done.\n",
            "[MoviePy] Writing video bot14f.mp4\n"
          ]
        },
        {
          "output_type": "stream",
          "name": "stderr",
          "text": [
            "\n",
            "100%|██████████| 100/100 [00:00<00:00, 701.99it/s]\n"
          ]
        },
        {
          "output_type": "stream",
          "name": "stdout",
          "text": [
            "[MoviePy] Done.\n",
            "[MoviePy] >>>> Video ready: bot14f.mp4 \n",
            "\n",
            "dping it now  60\n",
            "[MoviePy] >>>> Building video bot15f.mp4\n",
            "[MoviePy] Writing audio in bot15fTEMP_MPY_wvf_snd.mp3\n"
          ]
        },
        {
          "output_type": "stream",
          "name": "stderr",
          "text": [
            "100%|██████████| 221/221 [00:00<00:00, 922.31it/s]"
          ]
        },
        {
          "output_type": "stream",
          "name": "stdout",
          "text": [
            "[MoviePy] Done.\n",
            "[MoviePy] Writing video bot15f.mp4\n"
          ]
        },
        {
          "output_type": "stream",
          "name": "stderr",
          "text": [
            "\n",
            "100%|██████████| 100/100 [00:00<00:00, 802.20it/s]\n"
          ]
        },
        {
          "output_type": "stream",
          "name": "stdout",
          "text": [
            "[MoviePy] Done.\n",
            "[MoviePy] >>>> Video ready: bot15f.mp4 \n",
            "\n",
            "dping it now  72\n",
            "[MoviePy] >>>> Building video bot16f.mp4\n",
            "[MoviePy] Writing audio in bot16fTEMP_MPY_wvf_snd.mp3\n"
          ]
        },
        {
          "output_type": "stream",
          "name": "stderr",
          "text": [
            "100%|██████████| 221/221 [00:00<00:00, 910.04it/s]"
          ]
        },
        {
          "output_type": "stream",
          "name": "stdout",
          "text": [
            "[MoviePy] Done.\n",
            "[MoviePy] Writing video bot16f.mp4\n"
          ]
        },
        {
          "output_type": "stream",
          "name": "stderr",
          "text": [
            "\n",
            "100%|██████████| 100/100 [00:00<00:00, 998.17it/s]\n"
          ]
        },
        {
          "output_type": "stream",
          "name": "stdout",
          "text": [
            "[MoviePy] Done.\n",
            "[MoviePy] >>>> Video ready: bot16f.mp4 \n",
            "\n",
            "200.99\n",
            "dping it now  0\n",
            "[MoviePy] >>>> Building video bot40f.mp4\n",
            "[MoviePy] Writing audio in bot40fTEMP_MPY_wvf_snd.mp3\n"
          ]
        },
        {
          "output_type": "stream",
          "name": "stderr",
          "text": [
            "100%|██████████| 221/221 [00:00<00:00, 1275.63it/s]"
          ]
        },
        {
          "output_type": "stream",
          "name": "stdout",
          "text": [
            "[MoviePy] Done.\n",
            "[MoviePy] Writing video bot40f.mp4\n"
          ]
        },
        {
          "output_type": "stream",
          "name": "stderr",
          "text": [
            "\n",
            "100%|██████████| 75/75 [00:00<00:00, 1017.50it/s]\n"
          ]
        },
        {
          "output_type": "stream",
          "name": "stdout",
          "text": [
            "[MoviePy] Done.\n",
            "[MoviePy] >>>> Video ready: bot40f.mp4 \n",
            "\n",
            "dping it now  12\n",
            "[MoviePy] >>>> Building video bot41f.mp4\n",
            "[MoviePy] Writing audio in bot41fTEMP_MPY_wvf_snd.mp3\n"
          ]
        },
        {
          "output_type": "stream",
          "name": "stderr",
          "text": [
            "100%|██████████| 221/221 [00:00<00:00, 918.72it/s]"
          ]
        },
        {
          "output_type": "stream",
          "name": "stdout",
          "text": [
            "[MoviePy] Done.\n",
            "[MoviePy] Writing video bot41f.mp4\n"
          ]
        },
        {
          "output_type": "stream",
          "name": "stderr",
          "text": [
            "\n",
            "100%|██████████| 75/75 [00:00<00:00, 970.77it/s]\n"
          ]
        },
        {
          "output_type": "stream",
          "name": "stdout",
          "text": [
            "[MoviePy] Done.\n",
            "[MoviePy] >>>> Video ready: bot41f.mp4 \n",
            "\n",
            "dping it now  24\n",
            "[MoviePy] >>>> Building video bot42f.mp4\n",
            "[MoviePy] Writing audio in bot42fTEMP_MPY_wvf_snd.mp3\n"
          ]
        },
        {
          "output_type": "stream",
          "name": "stderr",
          "text": [
            "100%|██████████| 221/221 [00:00<00:00, 938.66it/s]"
          ]
        },
        {
          "output_type": "stream",
          "name": "stdout",
          "text": [
            "[MoviePy] Done.\n",
            "[MoviePy] Writing video bot42f.mp4\n"
          ]
        },
        {
          "output_type": "stream",
          "name": "stderr",
          "text": [
            "\n",
            "100%|██████████| 75/75 [00:00<00:00, 814.51it/s]\n"
          ]
        },
        {
          "output_type": "stream",
          "name": "stdout",
          "text": [
            "[MoviePy] Done.\n",
            "[MoviePy] >>>> Video ready: bot42f.mp4 \n",
            "\n",
            "dping it now  36\n",
            "[MoviePy] >>>> Building video bot43f.mp4\n",
            "[MoviePy] Writing audio in bot43fTEMP_MPY_wvf_snd.mp3\n"
          ]
        },
        {
          "output_type": "stream",
          "name": "stderr",
          "text": [
            "100%|██████████| 221/221 [00:00<00:00, 977.65it/s]"
          ]
        },
        {
          "output_type": "stream",
          "name": "stdout",
          "text": [
            "[MoviePy] Done.\n",
            "[MoviePy] Writing video bot43f.mp4\n"
          ]
        },
        {
          "output_type": "stream",
          "name": "stderr",
          "text": [
            "\n",
            "100%|██████████| 75/75 [00:00<00:00, 927.37it/s]"
          ]
        },
        {
          "output_type": "stream",
          "name": "stdout",
          "text": [
            "[MoviePy] Done.\n",
            "[MoviePy] >>>> Video ready: bot43f.mp4 \n",
            "\n"
          ]
        },
        {
          "output_type": "stream",
          "name": "stderr",
          "text": [
            "\n"
          ]
        },
        {
          "output_type": "stream",
          "name": "stdout",
          "text": [
            "dping it now  48\n",
            "[MoviePy] >>>> Building video bot44f.mp4\n",
            "[MoviePy] Writing audio in bot44fTEMP_MPY_wvf_snd.mp3\n"
          ]
        },
        {
          "output_type": "stream",
          "name": "stderr",
          "text": [
            "100%|██████████| 221/221 [00:00<00:00, 976.88it/s] "
          ]
        },
        {
          "output_type": "stream",
          "name": "stdout",
          "text": [
            "[MoviePy] Done.\n",
            "[MoviePy] Writing video bot44f.mp4\n"
          ]
        },
        {
          "output_type": "stream",
          "name": "stderr",
          "text": [
            "\n",
            "100%|██████████| 75/75 [00:00<00:00, 919.85it/s]\n"
          ]
        },
        {
          "output_type": "stream",
          "name": "stdout",
          "text": [
            "[MoviePy] Done.\n",
            "[MoviePy] >>>> Video ready: bot44f.mp4 \n",
            "\n",
            "dping it now  60\n",
            "[MoviePy] >>>> Building video bot45f.mp4\n",
            "[MoviePy] Writing audio in bot45fTEMP_MPY_wvf_snd.mp3\n"
          ]
        },
        {
          "output_type": "stream",
          "name": "stderr",
          "text": [
            "100%|██████████| 221/221 [00:00<00:00, 966.75it/s] "
          ]
        },
        {
          "output_type": "stream",
          "name": "stdout",
          "text": [
            "[MoviePy] Done.\n",
            "[MoviePy] Writing video bot45f.mp4\n"
          ]
        },
        {
          "output_type": "stream",
          "name": "stderr",
          "text": [
            "\n",
            "100%|██████████| 75/75 [00:00<00:00, 915.41it/s]\n"
          ]
        },
        {
          "output_type": "stream",
          "name": "stdout",
          "text": [
            "[MoviePy] Done.\n",
            "[MoviePy] >>>> Video ready: bot45f.mp4 \n",
            "\n",
            "dping it now  72\n",
            "[MoviePy] >>>> Building video bot46f.mp4\n",
            "[MoviePy] Writing audio in bot46fTEMP_MPY_wvf_snd.mp3\n"
          ]
        },
        {
          "output_type": "stream",
          "name": "stderr",
          "text": [
            "100%|██████████| 221/221 [00:00<00:00, 975.37it/s] "
          ]
        },
        {
          "output_type": "stream",
          "name": "stdout",
          "text": [
            "[MoviePy] Done.\n",
            "[MoviePy] Writing video bot46f.mp4\n"
          ]
        },
        {
          "output_type": "stream",
          "name": "stderr",
          "text": [
            "\n",
            "100%|██████████| 75/75 [00:00<00:00, 870.86it/s]\n"
          ]
        },
        {
          "output_type": "stream",
          "name": "stdout",
          "text": [
            "[MoviePy] Done.\n",
            "[MoviePy] >>>> Video ready: bot46f.mp4 \n",
            "\n",
            "dping it now  84\n",
            "[MoviePy] >>>> Building video bot47f.mp4\n",
            "[MoviePy] Writing audio in bot47fTEMP_MPY_wvf_snd.mp3\n"
          ]
        },
        {
          "output_type": "stream",
          "name": "stderr",
          "text": [
            "100%|██████████| 221/221 [00:00<00:00, 1047.35it/s]"
          ]
        },
        {
          "output_type": "stream",
          "name": "stdout",
          "text": [
            "[MoviePy] Done.\n",
            "[MoviePy] Writing video bot47f.mp4\n"
          ]
        },
        {
          "output_type": "stream",
          "name": "stderr",
          "text": [
            "\n",
            "100%|██████████| 75/75 [00:00<00:00, 844.60it/s]\n"
          ]
        },
        {
          "output_type": "stream",
          "name": "stdout",
          "text": [
            "[MoviePy] Done.\n",
            "[MoviePy] >>>> Video ready: bot47f.mp4 \n",
            "\n",
            "dping it now  96\n",
            "[MoviePy] >>>> Building video bot48f.mp4\n",
            "[MoviePy] Writing audio in bot48fTEMP_MPY_wvf_snd.mp3\n"
          ]
        },
        {
          "output_type": "stream",
          "name": "stderr",
          "text": [
            "100%|██████████| 221/221 [00:00<00:00, 909.14it/s]"
          ]
        },
        {
          "output_type": "stream",
          "name": "stdout",
          "text": [
            "[MoviePy] Done.\n",
            "[MoviePy] Writing video bot48f.mp4\n"
          ]
        },
        {
          "output_type": "stream",
          "name": "stderr",
          "text": [
            "\n",
            "100%|██████████| 75/75 [00:00<00:00, 912.79it/s]\n"
          ]
        },
        {
          "output_type": "stream",
          "name": "stdout",
          "text": [
            "[MoviePy] Done.\n",
            "[MoviePy] >>>> Video ready: bot48f.mp4 \n",
            "\n",
            "dping it now  108\n",
            "[MoviePy] >>>> Building video bot49f.mp4\n",
            "[MoviePy] Writing audio in bot49fTEMP_MPY_wvf_snd.mp3\n"
          ]
        },
        {
          "output_type": "stream",
          "name": "stderr",
          "text": [
            "100%|██████████| 221/221 [00:00<00:00, 910.60it/s]"
          ]
        },
        {
          "output_type": "stream",
          "name": "stdout",
          "text": [
            "[MoviePy] Done.\n",
            "[MoviePy] Writing video bot49f.mp4\n"
          ]
        },
        {
          "output_type": "stream",
          "name": "stderr",
          "text": [
            "\n",
            "100%|██████████| 75/75 [00:00<00:00, 825.29it/s]\n"
          ]
        },
        {
          "output_type": "stream",
          "name": "stdout",
          "text": [
            "[MoviePy] Done.\n",
            "[MoviePy] >>>> Video ready: bot49f.mp4 \n",
            "\n",
            "dping it now  120\n",
            "[MoviePy] >>>> Building video bot410f.mp4\n",
            "[MoviePy] Writing audio in bot410fTEMP_MPY_wvf_snd.mp3\n"
          ]
        },
        {
          "output_type": "stream",
          "name": "stderr",
          "text": [
            "100%|██████████| 221/221 [00:00<00:00, 926.88it/s]"
          ]
        },
        {
          "output_type": "stream",
          "name": "stdout",
          "text": [
            "[MoviePy] Done.\n",
            "[MoviePy] Writing video bot410f.mp4\n"
          ]
        },
        {
          "output_type": "stream",
          "name": "stderr",
          "text": [
            "\n",
            "100%|██████████| 75/75 [00:00<00:00, 730.04it/s]\n"
          ]
        },
        {
          "output_type": "stream",
          "name": "stdout",
          "text": [
            "[MoviePy] Done.\n",
            "[MoviePy] >>>> Video ready: bot410f.mp4 \n",
            "\n",
            "dping it now  132\n",
            "[MoviePy] >>>> Building video bot411f.mp4\n",
            "[MoviePy] Writing audio in bot411fTEMP_MPY_wvf_snd.mp3\n"
          ]
        },
        {
          "output_type": "stream",
          "name": "stderr",
          "text": [
            "100%|██████████| 221/221 [00:00<00:00, 1203.13it/s]"
          ]
        },
        {
          "output_type": "stream",
          "name": "stdout",
          "text": [
            "[MoviePy] Done.\n",
            "[MoviePy] Writing video bot411f.mp4\n"
          ]
        },
        {
          "output_type": "stream",
          "name": "stderr",
          "text": [
            "\n",
            "100%|██████████| 75/75 [00:00<00:00, 976.73it/s]"
          ]
        },
        {
          "output_type": "stream",
          "name": "stdout",
          "text": [
            "[MoviePy] Done.\n",
            "[MoviePy] >>>> Video ready: bot411f.mp4 \n",
            "\n"
          ]
        },
        {
          "output_type": "stream",
          "name": "stderr",
          "text": [
            "\n"
          ]
        },
        {
          "output_type": "stream",
          "name": "stdout",
          "text": [
            "dping it now  144\n",
            "[MoviePy] >>>> Building video bot412f.mp4\n",
            "[MoviePy] Writing audio in bot412fTEMP_MPY_wvf_snd.mp3\n"
          ]
        },
        {
          "output_type": "stream",
          "name": "stderr",
          "text": [
            "100%|██████████| 221/221 [00:00<00:00, 875.80it/s]"
          ]
        },
        {
          "output_type": "stream",
          "name": "stdout",
          "text": [
            "[MoviePy] Done.\n",
            "[MoviePy] Writing video bot412f.mp4\n"
          ]
        },
        {
          "output_type": "stream",
          "name": "stderr",
          "text": [
            "\n",
            "100%|██████████| 75/75 [00:00<00:00, 1023.97it/s]\n"
          ]
        },
        {
          "output_type": "stream",
          "name": "stdout",
          "text": [
            "[MoviePy] Done.\n",
            "[MoviePy] >>>> Video ready: bot412f.mp4 \n",
            "\n",
            "dping it now  156\n",
            "[MoviePy] >>>> Building video bot413f.mp4\n",
            "[MoviePy] Writing audio in bot413fTEMP_MPY_wvf_snd.mp3\n"
          ]
        },
        {
          "output_type": "stream",
          "name": "stderr",
          "text": [
            "100%|██████████| 221/221 [00:00<00:00, 980.83it/s]"
          ]
        },
        {
          "output_type": "stream",
          "name": "stdout",
          "text": [
            "[MoviePy] Done.\n",
            "[MoviePy] Writing video bot413f.mp4\n"
          ]
        },
        {
          "output_type": "stream",
          "name": "stderr",
          "text": [
            "\n",
            "100%|██████████| 75/75 [00:00<00:00, 667.32it/s]\n"
          ]
        },
        {
          "output_type": "stream",
          "name": "stdout",
          "text": [
            "[MoviePy] Done.\n",
            "[MoviePy] >>>> Video ready: bot413f.mp4 \n",
            "\n",
            "dping it now  168\n",
            "[MoviePy] >>>> Building video bot414f.mp4\n",
            "[MoviePy] Writing audio in bot414fTEMP_MPY_wvf_snd.mp3\n"
          ]
        },
        {
          "output_type": "stream",
          "name": "stderr",
          "text": [
            "100%|██████████| 221/221 [00:00<00:00, 961.77it/s] "
          ]
        },
        {
          "output_type": "stream",
          "name": "stdout",
          "text": [
            "[MoviePy] Done.\n",
            "[MoviePy] Writing video bot414f.mp4\n"
          ]
        },
        {
          "output_type": "stream",
          "name": "stderr",
          "text": [
            "\n",
            "100%|██████████| 75/75 [00:00<00:00, 956.43it/s]\n"
          ]
        },
        {
          "output_type": "stream",
          "name": "stdout",
          "text": [
            "[MoviePy] Done.\n",
            "[MoviePy] >>>> Video ready: bot414f.mp4 \n",
            "\n",
            "dping it now  180\n",
            "[MoviePy] >>>> Building video bot415f.mp4\n",
            "[MoviePy] Writing audio in bot415fTEMP_MPY_wvf_snd.mp3\n"
          ]
        },
        {
          "output_type": "stream",
          "name": "stderr",
          "text": [
            "100%|██████████| 221/221 [00:00<00:00, 919.45it/s]"
          ]
        },
        {
          "output_type": "stream",
          "name": "stdout",
          "text": [
            "[MoviePy] Done.\n",
            "[MoviePy] Writing video bot415f.mp4\n"
          ]
        },
        {
          "output_type": "stream",
          "name": "stderr",
          "text": [
            "\n",
            "100%|██████████| 75/75 [00:00<00:00, 759.61it/s]\n"
          ]
        },
        {
          "output_type": "stream",
          "name": "stdout",
          "text": [
            "[MoviePy] Done.\n",
            "[MoviePy] >>>> Video ready: bot415f.mp4 \n",
            "\n",
            "dping it now  192\n",
            "[MoviePy] >>>> Building video bot416f.mp4\n",
            "[MoviePy] Writing audio in bot416fTEMP_MPY_wvf_snd.mp3\n"
          ]
        },
        {
          "output_type": "stream",
          "name": "stderr",
          "text": [
            " 90%|█████████ | 199/221 [00:00<00:00, 940.66it/s]\n"
          ]
        },
        {
          "output_type": "stream",
          "name": "stdout",
          "text": [
            "406.4\n",
            "dping it now  0\n",
            "[MoviePy] >>>> Building video bot30f.mp4\n",
            "[MoviePy] Writing audio in bot30fTEMP_MPY_wvf_snd.mp3\n"
          ]
        },
        {
          "output_type": "stream",
          "name": "stderr",
          "text": [
            "100%|██████████| 221/221 [00:00<00:00, 997.23it/s] "
          ]
        },
        {
          "output_type": "stream",
          "name": "stdout",
          "text": [
            "[MoviePy] Done.\n",
            "[MoviePy] Writing video bot30f.mp4\n"
          ]
        },
        {
          "output_type": "stream",
          "name": "stderr",
          "text": [
            "\n",
            " 99%|█████████▊| 75/76 [00:00<00:00, 796.01it/s]\n"
          ]
        },
        {
          "output_type": "stream",
          "name": "stdout",
          "text": [
            "[MoviePy] Done.\n",
            "[MoviePy] >>>> Video ready: bot30f.mp4 \n",
            "\n",
            "dping it now  12\n",
            "[MoviePy] >>>> Building video bot31f.mp4\n",
            "[MoviePy] Writing audio in bot31fTEMP_MPY_wvf_snd.mp3\n"
          ]
        },
        {
          "output_type": "stream",
          "name": "stderr",
          "text": [
            "100%|██████████| 221/221 [00:00<00:00, 985.24it/s]"
          ]
        },
        {
          "output_type": "stream",
          "name": "stdout",
          "text": [
            "[MoviePy] Done.\n",
            "[MoviePy] Writing video bot31f.mp4\n"
          ]
        },
        {
          "output_type": "stream",
          "name": "stderr",
          "text": [
            "\n",
            " 99%|█████████▊| 75/76 [00:00<00:00, 762.37it/s]\n"
          ]
        },
        {
          "output_type": "stream",
          "name": "stdout",
          "text": [
            "[MoviePy] Done.\n",
            "[MoviePy] >>>> Video ready: bot31f.mp4 \n",
            "\n",
            "dping it now  24\n",
            "[MoviePy] >>>> Building video bot32f.mp4\n",
            "[MoviePy] Writing audio in bot32fTEMP_MPY_wvf_snd.mp3\n"
          ]
        },
        {
          "output_type": "stream",
          "name": "stderr",
          "text": [
            "100%|██████████| 221/221 [00:00<00:00, 935.75it/s]"
          ]
        },
        {
          "output_type": "stream",
          "name": "stdout",
          "text": [
            "[MoviePy] Done.\n",
            "[MoviePy] Writing video bot32f.mp4\n"
          ]
        },
        {
          "output_type": "stream",
          "name": "stderr",
          "text": [
            "\n",
            " 99%|█████████▊| 75/76 [00:00<00:00, 642.62it/s]\n"
          ]
        },
        {
          "output_type": "stream",
          "name": "stdout",
          "text": [
            "[MoviePy] Done.\n",
            "[MoviePy] >>>> Video ready: bot32f.mp4 \n",
            "\n",
            "dping it now  36\n",
            "[MoviePy] >>>> Building video bot33f.mp4\n",
            "[MoviePy] Writing audio in bot33fTEMP_MPY_wvf_snd.mp3\n"
          ]
        },
        {
          "output_type": "stream",
          "name": "stderr",
          "text": [
            "100%|██████████| 221/221 [00:00<00:00, 1022.70it/s]"
          ]
        },
        {
          "output_type": "stream",
          "name": "stdout",
          "text": [
            "[MoviePy] Done.\n",
            "[MoviePy] Writing video bot33f.mp4\n"
          ]
        },
        {
          "output_type": "stream",
          "name": "stderr",
          "text": [
            "\n",
            " 99%|█████████▊| 75/76 [00:00<00:00, 894.77it/s]\n"
          ]
        },
        {
          "output_type": "stream",
          "name": "stdout",
          "text": [
            "[MoviePy] Done.\n",
            "[MoviePy] >>>> Video ready: bot33f.mp4 \n",
            "\n",
            "dping it now  48\n",
            "[MoviePy] >>>> Building video bot34f.mp4\n",
            "[MoviePy] Writing audio in bot34fTEMP_MPY_wvf_snd.mp3\n"
          ]
        },
        {
          "output_type": "stream",
          "name": "stderr",
          "text": [
            "100%|██████████| 221/221 [00:00<00:00, 1066.84it/s]"
          ]
        },
        {
          "output_type": "stream",
          "name": "stdout",
          "text": [
            "[MoviePy] Done.\n",
            "[MoviePy] Writing video bot34f.mp4\n"
          ]
        },
        {
          "output_type": "stream",
          "name": "stderr",
          "text": [
            "\n",
            " 99%|█████████▊| 75/76 [00:00<00:00, 824.96it/s]\n"
          ]
        },
        {
          "output_type": "stream",
          "name": "stdout",
          "text": [
            "[MoviePy] Done.\n",
            "[MoviePy] >>>> Video ready: bot34f.mp4 \n",
            "\n",
            "dping it now  60\n",
            "[MoviePy] >>>> Building video bot35f.mp4\n",
            "[MoviePy] Writing audio in bot35fTEMP_MPY_wvf_snd.mp3\n"
          ]
        },
        {
          "output_type": "stream",
          "name": "stderr",
          "text": [
            "100%|██████████| 221/221 [00:00<00:00, 964.69it/s] "
          ]
        },
        {
          "output_type": "stream",
          "name": "stdout",
          "text": [
            "[MoviePy] Done.\n",
            "[MoviePy] Writing video bot35f.mp4\n"
          ]
        },
        {
          "output_type": "stream",
          "name": "stderr",
          "text": [
            "\n",
            " 99%|█████████▊| 75/76 [00:00<00:00, 1001.79it/s]\n"
          ]
        },
        {
          "output_type": "stream",
          "name": "stdout",
          "text": [
            "[MoviePy] Done.\n",
            "[MoviePy] >>>> Video ready: bot35f.mp4 \n",
            "\n",
            "dping it now  72\n",
            "[MoviePy] >>>> Building video bot36f.mp4\n",
            "[MoviePy] Writing audio in bot36fTEMP_MPY_wvf_snd.mp3\n"
          ]
        },
        {
          "output_type": "stream",
          "name": "stderr",
          "text": [
            "100%|██████████| 221/221 [00:00<00:00, 950.24it/s] "
          ]
        },
        {
          "output_type": "stream",
          "name": "stdout",
          "text": [
            "[MoviePy] Done.\n",
            "[MoviePy] Writing video bot36f.mp4\n"
          ]
        },
        {
          "output_type": "stream",
          "name": "stderr",
          "text": [
            "\n",
            " 99%|█████████▊| 75/76 [00:00<00:00, 786.45it/s]\n"
          ]
        },
        {
          "output_type": "stream",
          "name": "stdout",
          "text": [
            "[MoviePy] Done.\n",
            "[MoviePy] >>>> Video ready: bot36f.mp4 \n",
            "\n",
            "dping it now  84\n",
            "[MoviePy] >>>> Building video bot37f.mp4\n",
            "[MoviePy] Writing audio in bot37fTEMP_MPY_wvf_snd.mp3\n"
          ]
        },
        {
          "output_type": "stream",
          "name": "stderr",
          "text": [
            "100%|██████████| 221/221 [00:00<00:00, 1074.80it/s]"
          ]
        },
        {
          "output_type": "stream",
          "name": "stdout",
          "text": [
            "[MoviePy] Done.\n",
            "[MoviePy] Writing video bot37f.mp4\n"
          ]
        },
        {
          "output_type": "stream",
          "name": "stderr",
          "text": [
            "\n",
            " 99%|█████████▊| 75/76 [00:00<00:00, 855.33it/s]\n"
          ]
        },
        {
          "output_type": "stream",
          "name": "stdout",
          "text": [
            "[MoviePy] Done.\n",
            "[MoviePy] >>>> Video ready: bot37f.mp4 \n",
            "\n",
            "dping it now  96\n",
            "[MoviePy] >>>> Building video bot38f.mp4\n",
            "[MoviePy] Writing audio in bot38fTEMP_MPY_wvf_snd.mp3\n"
          ]
        },
        {
          "output_type": "stream",
          "name": "stderr",
          "text": [
            "100%|██████████| 221/221 [00:00<00:00, 408.49it/s]"
          ]
        },
        {
          "output_type": "stream",
          "name": "stdout",
          "text": [
            "[MoviePy] Done.\n",
            "[MoviePy] Writing video bot38f.mp4\n"
          ]
        },
        {
          "output_type": "stream",
          "name": "stderr",
          "text": [
            "\n",
            " 99%|█████████▊| 75/76 [00:00<00:00, 344.38it/s]\n"
          ]
        },
        {
          "output_type": "stream",
          "name": "stdout",
          "text": [
            "[MoviePy] Done.\n",
            "[MoviePy] >>>> Video ready: bot38f.mp4 \n",
            "\n",
            "dping it now  108\n",
            "[MoviePy] >>>> Building video bot39f.mp4\n",
            "[MoviePy] Writing audio in bot39fTEMP_MPY_wvf_snd.mp3\n"
          ]
        },
        {
          "output_type": "stream",
          "name": "stderr",
          "text": [
            "100%|██████████| 221/221 [00:00<00:00, 921.65it/s]"
          ]
        },
        {
          "output_type": "stream",
          "name": "stdout",
          "text": [
            "[MoviePy] Done.\n",
            "[MoviePy] Writing video bot39f.mp4\n"
          ]
        },
        {
          "output_type": "stream",
          "name": "stderr",
          "text": [
            "\n",
            " 99%|█████████▊| 75/76 [00:00<00:00, 917.22it/s]\n"
          ]
        },
        {
          "output_type": "stream",
          "name": "stdout",
          "text": [
            "[MoviePy] Done.\n",
            "[MoviePy] >>>> Video ready: bot39f.mp4 \n",
            "\n",
            "dping it now  120\n",
            "[MoviePy] >>>> Building video bot310f.mp4\n",
            "[MoviePy] Writing audio in bot310fTEMP_MPY_wvf_snd.mp3\n"
          ]
        },
        {
          "output_type": "stream",
          "name": "stderr",
          "text": [
            "100%|██████████| 221/221 [00:00<00:00, 897.50it/s]"
          ]
        },
        {
          "output_type": "stream",
          "name": "stdout",
          "text": [
            "[MoviePy] Done.\n",
            "[MoviePy] Writing video bot310f.mp4\n"
          ]
        },
        {
          "output_type": "stream",
          "name": "stderr",
          "text": [
            "\n",
            " 99%|█████████▊| 75/76 [00:00<00:00, 826.22it/s]\n"
          ]
        },
        {
          "output_type": "stream",
          "name": "stdout",
          "text": [
            "[MoviePy] Done.\n",
            "[MoviePy] >>>> Video ready: bot310f.mp4 \n",
            "\n",
            "dping it now  132\n",
            "[MoviePy] >>>> Building video bot311f.mp4\n",
            "[MoviePy] Writing audio in bot311fTEMP_MPY_wvf_snd.mp3\n"
          ]
        },
        {
          "output_type": "stream",
          "name": "stderr",
          "text": [
            "100%|██████████| 221/221 [00:00<00:00, 1121.73it/s]"
          ]
        },
        {
          "output_type": "stream",
          "name": "stdout",
          "text": [
            "[MoviePy] Done.\n",
            "[MoviePy] Writing video bot311f.mp4\n"
          ]
        },
        {
          "output_type": "stream",
          "name": "stderr",
          "text": [
            "\n",
            " 99%|█████████▊| 75/76 [00:00<00:00, 906.21it/s]\n"
          ]
        },
        {
          "output_type": "stream",
          "name": "stdout",
          "text": [
            "[MoviePy] Done.\n",
            "[MoviePy] >>>> Video ready: bot311f.mp4 \n",
            "\n",
            "dping it now  144\n",
            "[MoviePy] >>>> Building video bot312f.mp4\n",
            "[MoviePy] Writing audio in bot312fTEMP_MPY_wvf_snd.mp3\n"
          ]
        },
        {
          "output_type": "stream",
          "name": "stderr",
          "text": [
            "100%|██████████| 221/221 [00:00<00:00, 1002.31it/s]"
          ]
        },
        {
          "output_type": "stream",
          "name": "stdout",
          "text": [
            "[MoviePy] Done.\n",
            "[MoviePy] Writing video bot312f.mp4\n"
          ]
        },
        {
          "output_type": "stream",
          "name": "stderr",
          "text": [
            "\n",
            " 99%|█████████▊| 75/76 [00:00<00:00, 777.34it/s]\n"
          ]
        },
        {
          "output_type": "stream",
          "name": "stdout",
          "text": [
            "[MoviePy] Done.\n",
            "[MoviePy] >>>> Video ready: bot312f.mp4 \n",
            "\n",
            "dping it now  156\n",
            "[MoviePy] >>>> Building video bot313f.mp4\n",
            "[MoviePy] Writing audio in bot313fTEMP_MPY_wvf_snd.mp3\n"
          ]
        },
        {
          "output_type": "stream",
          "name": "stderr",
          "text": [
            "100%|██████████| 221/221 [00:00<00:00, 975.51it/s] "
          ]
        },
        {
          "output_type": "stream",
          "name": "stdout",
          "text": [
            "[MoviePy] Done.\n",
            "[MoviePy] Writing video bot313f.mp4\n"
          ]
        },
        {
          "output_type": "stream",
          "name": "stderr",
          "text": [
            "\n",
            " 99%|█████████▊| 75/76 [00:00<00:00, 561.08it/s]\n"
          ]
        },
        {
          "output_type": "stream",
          "name": "stdout",
          "text": [
            "[MoviePy] Done.\n",
            "[MoviePy] >>>> Video ready: bot313f.mp4 \n",
            "\n",
            "dping it now  168\n",
            "[MoviePy] >>>> Building video bot314f.mp4\n",
            "[MoviePy] Writing audio in bot314fTEMP_MPY_wvf_snd.mp3\n"
          ]
        },
        {
          "output_type": "stream",
          "name": "stderr",
          "text": [
            "100%|██████████| 221/221 [00:00<00:00, 893.64it/s]"
          ]
        },
        {
          "output_type": "stream",
          "name": "stdout",
          "text": [
            "[MoviePy] Done.\n",
            "[MoviePy] Writing video bot314f.mp4\n"
          ]
        },
        {
          "output_type": "stream",
          "name": "stderr",
          "text": [
            "\n",
            " 99%|█████████▊| 75/76 [00:00<00:00, 1016.93it/s]\n"
          ]
        },
        {
          "output_type": "stream",
          "name": "stdout",
          "text": [
            "[MoviePy] Done.\n",
            "[MoviePy] >>>> Video ready: bot314f.mp4 \n",
            "\n",
            "dping it now  180\n",
            "[MoviePy] >>>> Building video bot315f.mp4\n",
            "[MoviePy] Writing audio in bot315fTEMP_MPY_wvf_snd.mp3\n"
          ]
        },
        {
          "output_type": "stream",
          "name": "stderr",
          "text": [
            "100%|██████████| 221/221 [00:00<00:00, 985.53it/s] "
          ]
        },
        {
          "output_type": "stream",
          "name": "stdout",
          "text": [
            "[MoviePy] Done.\n",
            "[MoviePy] Writing video bot315f.mp4\n"
          ]
        },
        {
          "output_type": "stream",
          "name": "stderr",
          "text": [
            "\n",
            " 99%|█████████▊| 75/76 [00:00<00:00, 1341.65it/s]"
          ]
        },
        {
          "output_type": "stream",
          "name": "stdout",
          "text": [
            "[MoviePy] Done.\n",
            "[MoviePy] >>>> Video ready: bot315f.mp4 \n",
            "\n",
            "dping it now  192\n",
            "[MoviePy] >>>> Building video bot316f.mp4\n",
            "[MoviePy] Writing audio in bot316fTEMP_MPY_wvf_snd.mp3\n"
          ]
        },
        {
          "output_type": "stream",
          "name": "stderr",
          "text": [
            "\n",
            "100%|██████████| 221/221 [00:00<00:00, 1199.11it/s]"
          ]
        },
        {
          "output_type": "stream",
          "name": "stdout",
          "text": [
            "[MoviePy] Done.\n",
            "[MoviePy] Writing video bot316f.mp4\n"
          ]
        },
        {
          "output_type": "stream",
          "name": "stderr",
          "text": [
            "\n",
            " 99%|█████████▊| 75/76 [00:00<00:00, 904.49it/s]\n"
          ]
        },
        {
          "output_type": "stream",
          "name": "stdout",
          "text": [
            "[MoviePy] Done.\n",
            "[MoviePy] >>>> Video ready: bot316f.mp4 \n",
            "\n",
            "dping it now  204\n",
            "[MoviePy] >>>> Building video bot317f.mp4\n",
            "[MoviePy] Writing audio in bot317fTEMP_MPY_wvf_snd.mp3\n"
          ]
        },
        {
          "output_type": "stream",
          "name": "stderr",
          "text": [
            "100%|██████████| 221/221 [00:00<00:00, 967.94it/s]"
          ]
        },
        {
          "output_type": "stream",
          "name": "stdout",
          "text": [
            "[MoviePy] Done.\n",
            "[MoviePy] Writing video bot317f.mp4\n"
          ]
        },
        {
          "output_type": "stream",
          "name": "stderr",
          "text": [
            "\n",
            " 99%|█████████▊| 75/76 [00:00<00:00, 1077.67it/s]"
          ]
        },
        {
          "output_type": "stream",
          "name": "stdout",
          "text": [
            "[MoviePy] Done.\n",
            "[MoviePy] >>>> Video ready: bot317f.mp4 \n",
            "\n"
          ]
        },
        {
          "output_type": "stream",
          "name": "stderr",
          "text": [
            "\n"
          ]
        },
        {
          "output_type": "stream",
          "name": "stdout",
          "text": [
            "dping it now  216\n",
            "[MoviePy] >>>> Building video bot318f.mp4\n",
            "[MoviePy] Writing audio in bot318fTEMP_MPY_wvf_snd.mp3\n"
          ]
        },
        {
          "output_type": "stream",
          "name": "stderr",
          "text": [
            "100%|██████████| 221/221 [00:00<00:00, 959.86it/s]"
          ]
        },
        {
          "output_type": "stream",
          "name": "stdout",
          "text": [
            "[MoviePy] Done.\n",
            "[MoviePy] Writing video bot318f.mp4\n"
          ]
        },
        {
          "output_type": "stream",
          "name": "stderr",
          "text": [
            "\n",
            " 99%|█████████▊| 75/76 [00:00<00:00, 807.99it/s]\n"
          ]
        },
        {
          "output_type": "stream",
          "name": "stdout",
          "text": [
            "[MoviePy] Done.\n",
            "[MoviePy] >>>> Video ready: bot318f.mp4 \n",
            "\n",
            "dping it now  228\n",
            "[MoviePy] >>>> Building video bot319f.mp4\n",
            "[MoviePy] Writing audio in bot319fTEMP_MPY_wvf_snd.mp3\n"
          ]
        },
        {
          "output_type": "stream",
          "name": "stderr",
          "text": [
            "100%|██████████| 221/221 [00:00<00:00, 974.03it/s] "
          ]
        },
        {
          "output_type": "stream",
          "name": "stdout",
          "text": [
            "[MoviePy] Done.\n",
            "[MoviePy] Writing video bot319f.mp4\n"
          ]
        },
        {
          "output_type": "stream",
          "name": "stderr",
          "text": [
            "\n",
            " 99%|█████████▊| 75/76 [00:00<00:00, 945.63it/s]\n"
          ]
        },
        {
          "output_type": "stream",
          "name": "stdout",
          "text": [
            "[MoviePy] Done.\n",
            "[MoviePy] >>>> Video ready: bot319f.mp4 \n",
            "\n",
            "dping it now  240\n",
            "[MoviePy] >>>> Building video bot320f.mp4\n",
            "[MoviePy] Writing audio in bot320fTEMP_MPY_wvf_snd.mp3\n"
          ]
        },
        {
          "output_type": "stream",
          "name": "stderr",
          "text": [
            "100%|██████████| 221/221 [00:00<00:00, 976.51it/s] "
          ]
        },
        {
          "output_type": "stream",
          "name": "stdout",
          "text": [
            "[MoviePy] Done.\n",
            "[MoviePy] Writing video bot320f.mp4\n"
          ]
        },
        {
          "output_type": "stream",
          "name": "stderr",
          "text": [
            "\n",
            " 99%|█████████▊| 75/76 [00:00<00:00, 839.08it/s]\n"
          ]
        },
        {
          "output_type": "stream",
          "name": "stdout",
          "text": [
            "[MoviePy] Done.\n",
            "[MoviePy] >>>> Video ready: bot320f.mp4 \n",
            "\n",
            "dping it now  252\n",
            "[MoviePy] >>>> Building video bot321f.mp4\n",
            "[MoviePy] Writing audio in bot321fTEMP_MPY_wvf_snd.mp3\n"
          ]
        },
        {
          "output_type": "stream",
          "name": "stderr",
          "text": [
            "100%|██████████| 221/221 [00:00<00:00, 875.44it/s]"
          ]
        },
        {
          "output_type": "stream",
          "name": "stdout",
          "text": [
            "[MoviePy] Done.\n",
            "[MoviePy] Writing video bot321f.mp4\n"
          ]
        },
        {
          "output_type": "stream",
          "name": "stderr",
          "text": [
            "\n",
            " 99%|█████████▊| 75/76 [00:00<00:00, 1104.11it/s]\n"
          ]
        },
        {
          "output_type": "stream",
          "name": "stdout",
          "text": [
            "[MoviePy] Done.\n",
            "[MoviePy] >>>> Video ready: bot321f.mp4 \n",
            "\n",
            "dping it now  264\n",
            "[MoviePy] >>>> Building video bot322f.mp4\n",
            "[MoviePy] Writing audio in bot322fTEMP_MPY_wvf_snd.mp3\n"
          ]
        },
        {
          "output_type": "stream",
          "name": "stderr",
          "text": [
            "100%|██████████| 221/221 [00:00<00:00, 956.20it/s] "
          ]
        },
        {
          "output_type": "stream",
          "name": "stdout",
          "text": [
            "[MoviePy] Done.\n",
            "[MoviePy] Writing video bot322f.mp4\n"
          ]
        },
        {
          "output_type": "stream",
          "name": "stderr",
          "text": [
            "\n",
            " 99%|█████████▊| 75/76 [00:00<00:00, 1024.38it/s]\n"
          ]
        },
        {
          "output_type": "stream",
          "name": "stdout",
          "text": [
            "[MoviePy] Done.\n",
            "[MoviePy] >>>> Video ready: bot322f.mp4 \n",
            "\n",
            "dping it now  276\n",
            "[MoviePy] >>>> Building video bot323f.mp4\n",
            "[MoviePy] Writing audio in bot323fTEMP_MPY_wvf_snd.mp3\n"
          ]
        },
        {
          "output_type": "stream",
          "name": "stderr",
          "text": [
            "100%|██████████| 221/221 [00:00<00:00, 937.36it/s]"
          ]
        },
        {
          "output_type": "stream",
          "name": "stdout",
          "text": [
            "[MoviePy] Done.\n",
            "[MoviePy] Writing video bot323f.mp4\n"
          ]
        },
        {
          "output_type": "stream",
          "name": "stderr",
          "text": [
            "\n",
            " 99%|█████████▊| 75/76 [00:00<00:00, 833.02it/s]\n"
          ]
        },
        {
          "output_type": "stream",
          "name": "stdout",
          "text": [
            "[MoviePy] Done.\n",
            "[MoviePy] >>>> Video ready: bot323f.mp4 \n",
            "\n",
            "dping it now  288\n",
            "[MoviePy] >>>> Building video bot324f.mp4\n",
            "[MoviePy] Writing audio in bot324fTEMP_MPY_wvf_snd.mp3\n"
          ]
        },
        {
          "output_type": "stream",
          "name": "stderr",
          "text": [
            "100%|██████████| 221/221 [00:00<00:00, 1096.53it/s]"
          ]
        },
        {
          "output_type": "stream",
          "name": "stdout",
          "text": [
            "[MoviePy] Done.\n",
            "[MoviePy] Writing video bot324f.mp4\n"
          ]
        },
        {
          "output_type": "stream",
          "name": "stderr",
          "text": [
            "\n",
            " 99%|█████████▊| 75/76 [00:00<00:00, 812.29it/s]\n"
          ]
        },
        {
          "output_type": "stream",
          "name": "stdout",
          "text": [
            "[MoviePy] Done.\n",
            "[MoviePy] >>>> Video ready: bot324f.mp4 \n",
            "\n",
            "dping it now  300\n",
            "[MoviePy] >>>> Building video bot325f.mp4\n",
            "[MoviePy] Writing audio in bot325fTEMP_MPY_wvf_snd.mp3\n"
          ]
        },
        {
          "output_type": "stream",
          "name": "stderr",
          "text": [
            "100%|██████████| 221/221 [00:00<00:00, 950.65it/s] "
          ]
        },
        {
          "output_type": "stream",
          "name": "stdout",
          "text": [
            "[MoviePy] Done.\n",
            "[MoviePy] Writing video bot325f.mp4\n"
          ]
        },
        {
          "output_type": "stream",
          "name": "stderr",
          "text": [
            "\n",
            " 99%|█████████▊| 75/76 [00:00<00:00, 144.54it/s]"
          ]
        },
        {
          "output_type": "stream",
          "name": "stdout",
          "text": [
            "[MoviePy] Done.\n",
            "[MoviePy] >>>> Video ready: bot325f.mp4 \n",
            "\n",
            "dping it now  312\n",
            "[MoviePy] >>>> Building video bot326f.mp4\n",
            "[MoviePy] Writing audio in bot326fTEMP_MPY_wvf_snd.mp3\n"
          ]
        },
        {
          "output_type": "stream",
          "name": "stderr",
          "text": [
            "\n",
            "100%|██████████| 221/221 [00:00<00:00, 872.07it/s]"
          ]
        },
        {
          "output_type": "stream",
          "name": "stdout",
          "text": [
            "[MoviePy] Done.\n",
            "[MoviePy] Writing video bot326f.mp4\n"
          ]
        },
        {
          "output_type": "stream",
          "name": "stderr",
          "text": [
            "\n",
            " 99%|█████████▊| 75/76 [00:00<00:00, 1086.28it/s]\n"
          ]
        },
        {
          "output_type": "stream",
          "name": "stdout",
          "text": [
            "[MoviePy] Done.\n",
            "[MoviePy] >>>> Video ready: bot326f.mp4 \n",
            "\n",
            "dping it now  324\n",
            "[MoviePy] >>>> Building video bot327f.mp4\n",
            "[MoviePy] Writing audio in bot327fTEMP_MPY_wvf_snd.mp3\n"
          ]
        },
        {
          "output_type": "stream",
          "name": "stderr",
          "text": [
            "100%|██████████| 221/221 [00:00<00:00, 965.20it/s] "
          ]
        },
        {
          "output_type": "stream",
          "name": "stdout",
          "text": [
            "[MoviePy] Done.\n",
            "[MoviePy] Writing video bot327f.mp4\n"
          ]
        },
        {
          "output_type": "stream",
          "name": "stderr",
          "text": [
            "\n",
            " 99%|█████████▊| 75/76 [00:00<00:00, 1110.47it/s]\n"
          ]
        },
        {
          "output_type": "stream",
          "name": "stdout",
          "text": [
            "[MoviePy] Done.\n",
            "[MoviePy] >>>> Video ready: bot327f.mp4 \n",
            "\n",
            "dping it now  336\n",
            "[MoviePy] >>>> Building video bot328f.mp4\n",
            "[MoviePy] Writing audio in bot328fTEMP_MPY_wvf_snd.mp3\n"
          ]
        },
        {
          "output_type": "stream",
          "name": "stderr",
          "text": [
            "100%|██████████| 221/221 [00:00<00:00, 854.95it/s]"
          ]
        },
        {
          "output_type": "stream",
          "name": "stdout",
          "text": [
            "[MoviePy] Done.\n",
            "[MoviePy] Writing video bot328f.mp4\n"
          ]
        },
        {
          "output_type": "stream",
          "name": "stderr",
          "text": [
            "\n",
            " 99%|█████████▊| 75/76 [00:00<00:00, 920.79it/s]\n"
          ]
        },
        {
          "output_type": "stream",
          "name": "stdout",
          "text": [
            "[MoviePy] Done.\n",
            "[MoviePy] >>>> Video ready: bot328f.mp4 \n",
            "\n",
            "dping it now  348\n",
            "[MoviePy] >>>> Building video bot329f.mp4\n",
            "[MoviePy] Writing audio in bot329fTEMP_MPY_wvf_snd.mp3\n"
          ]
        },
        {
          "output_type": "stream",
          "name": "stderr",
          "text": [
            "100%|██████████| 221/221 [00:00<00:00, 969.07it/s]"
          ]
        },
        {
          "output_type": "stream",
          "name": "stdout",
          "text": [
            "[MoviePy] Done.\n",
            "[MoviePy] Writing video bot329f.mp4\n"
          ]
        },
        {
          "output_type": "stream",
          "name": "stderr",
          "text": [
            "\n",
            " 99%|█████████▊| 75/76 [00:00<00:00, 1027.69it/s]\n"
          ]
        },
        {
          "output_type": "stream",
          "name": "stdout",
          "text": [
            "[MoviePy] Done.\n",
            "[MoviePy] >>>> Video ready: bot329f.mp4 \n",
            "\n",
            "dping it now  360\n",
            "[MoviePy] >>>> Building video bot330f.mp4\n",
            "[MoviePy] Writing audio in bot330fTEMP_MPY_wvf_snd.mp3\n"
          ]
        },
        {
          "output_type": "stream",
          "name": "stderr",
          "text": [
            "100%|██████████| 221/221 [00:00<00:00, 923.53it/s]"
          ]
        },
        {
          "output_type": "stream",
          "name": "stdout",
          "text": [
            "[MoviePy] Done.\n",
            "[MoviePy] Writing video bot330f.mp4\n"
          ]
        },
        {
          "output_type": "stream",
          "name": "stderr",
          "text": [
            "\n",
            " 99%|█████████▊| 75/76 [00:00<00:00, 934.45it/s]\n"
          ]
        },
        {
          "output_type": "stream",
          "name": "stdout",
          "text": [
            "[MoviePy] Done.\n",
            "[MoviePy] >>>> Video ready: bot330f.mp4 \n",
            "\n",
            "dping it now  372\n",
            "[MoviePy] >>>> Building video bot331f.mp4\n",
            "[MoviePy] Writing audio in bot331fTEMP_MPY_wvf_snd.mp3\n"
          ]
        },
        {
          "output_type": "stream",
          "name": "stderr",
          "text": [
            "100%|██████████| 221/221 [00:00<00:00, 940.70it/s]"
          ]
        },
        {
          "output_type": "stream",
          "name": "stdout",
          "text": [
            "[MoviePy] Done.\n",
            "[MoviePy] Writing video bot331f.mp4\n"
          ]
        },
        {
          "output_type": "stream",
          "name": "stderr",
          "text": [
            "\n",
            " 99%|█████████▊| 75/76 [00:00<00:00, 831.61it/s]\n"
          ]
        },
        {
          "output_type": "stream",
          "name": "stdout",
          "text": [
            "[MoviePy] Done.\n",
            "[MoviePy] >>>> Video ready: bot331f.mp4 \n",
            "\n",
            "dping it now  384\n",
            "[MoviePy] >>>> Building video bot332f.mp4\n",
            "[MoviePy] Writing audio in bot332fTEMP_MPY_wvf_snd.mp3\n"
          ]
        },
        {
          "output_type": "stream",
          "name": "stderr",
          "text": [
            "100%|██████████| 221/221 [00:00<00:00, 911.36it/s]"
          ]
        },
        {
          "output_type": "stream",
          "name": "stdout",
          "text": [
            "[MoviePy] Done.\n",
            "[MoviePy] Writing video bot332f.mp4\n"
          ]
        },
        {
          "output_type": "stream",
          "name": "stderr",
          "text": [
            "\n",
            " 99%|█████████▊| 75/76 [00:00<00:00, 624.39it/s]\n"
          ]
        },
        {
          "output_type": "stream",
          "name": "stdout",
          "text": [
            "[MoviePy] Done.\n",
            "[MoviePy] >>>> Video ready: bot332f.mp4 \n",
            "\n",
            "dping it now  396\n",
            "[MoviePy] >>>> Building video bot333f.mp4\n",
            "[MoviePy] Writing audio in bot333fTEMP_MPY_wvf_snd.mp3\n"
          ]
        },
        {
          "output_type": "stream",
          "name": "stderr",
          "text": [
            "100%|██████████| 221/221 [00:00<00:00, 919.64it/s]"
          ]
        },
        {
          "output_type": "stream",
          "name": "stdout",
          "text": [
            "[MoviePy] Done.\n",
            "[MoviePy] Writing video bot333f.mp4\n"
          ]
        },
        {
          "output_type": "stream",
          "name": "stderr",
          "text": [
            "\n",
            " 99%|█████████▊| 75/76 [00:00<00:00, 698.15it/s]\n"
          ]
        },
        {
          "output_type": "stream",
          "name": "stdout",
          "text": [
            "[MoviePy] Done.\n",
            "[MoviePy] >>>> Video ready: bot333f.mp4 \n",
            "\n",
            "44.82\n",
            "dping it now  0\n",
            "[MoviePy] >>>> Building video huma0f.mp4\n",
            "[MoviePy] Writing audio in huma0fTEMP_MPY_wvf_snd.mp3\n"
          ]
        },
        {
          "output_type": "stream",
          "name": "stderr",
          "text": [
            "100%|██████████| 221/221 [00:00<00:00, 927.60it/s]"
          ]
        },
        {
          "output_type": "stream",
          "name": "stdout",
          "text": [
            "[MoviePy] Done.\n",
            "[MoviePy] Writing video huma0f.mp4\n"
          ]
        },
        {
          "output_type": "stream",
          "name": "stderr",
          "text": [
            "\n",
            " 99%|█████████▊| 75/76 [00:00<00:00, 635.02it/s]\n"
          ]
        },
        {
          "output_type": "stream",
          "name": "stdout",
          "text": [
            "[MoviePy] Done.\n",
            "[MoviePy] >>>> Video ready: huma0f.mp4 \n",
            "\n",
            "dping it now  12\n",
            "[MoviePy] >>>> Building video huma1f.mp4\n",
            "[MoviePy] Writing audio in huma1fTEMP_MPY_wvf_snd.mp3\n"
          ]
        },
        {
          "output_type": "stream",
          "name": "stderr",
          "text": [
            "100%|██████████| 221/221 [00:00<00:00, 931.43it/s]"
          ]
        },
        {
          "output_type": "stream",
          "name": "stdout",
          "text": [
            "[MoviePy] Done.\n",
            "[MoviePy] Writing video huma1f.mp4\n"
          ]
        },
        {
          "output_type": "stream",
          "name": "stderr",
          "text": [
            "\n",
            " 99%|█████████▊| 75/76 [00:00<00:00, 847.70it/s]\n"
          ]
        },
        {
          "output_type": "stream",
          "name": "stdout",
          "text": [
            "[MoviePy] Done.\n",
            "[MoviePy] >>>> Video ready: huma1f.mp4 \n",
            "\n",
            "dping it now  24\n",
            "[MoviePy] >>>> Building video huma2f.mp4\n",
            "[MoviePy] Writing audio in huma2fTEMP_MPY_wvf_snd.mp3\n"
          ]
        },
        {
          "output_type": "stream",
          "name": "stderr",
          "text": [
            "100%|██████████| 221/221 [00:00<00:00, 947.34it/s]"
          ]
        },
        {
          "output_type": "stream",
          "name": "stdout",
          "text": [
            "[MoviePy] Done.\n",
            "[MoviePy] Writing video huma2f.mp4\n"
          ]
        },
        {
          "output_type": "stream",
          "name": "stderr",
          "text": [
            "\n",
            " 99%|█████████▊| 75/76 [00:00<00:00, 1073.80it/s]\n"
          ]
        },
        {
          "output_type": "stream",
          "name": "stdout",
          "text": [
            "[MoviePy] Done.\n",
            "[MoviePy] >>>> Video ready: huma2f.mp4 \n",
            "\n",
            "dping it now  36\n",
            "[MoviePy] >>>> Building video huma3f.mp4\n",
            "[MoviePy] Writing audio in huma3fTEMP_MPY_wvf_snd.mp3\n"
          ]
        },
        {
          "output_type": "stream",
          "name": "stderr",
          "text": [
            " 88%|████████▊ | 195/221 [00:00<00:00, 874.49it/s]\n"
          ]
        },
        {
          "output_type": "stream",
          "name": "stdout",
          "text": [
            "123.72\n",
            "dping it now  0\n",
            "[MoviePy] >>>> Building video huma0f.mp4\n",
            "[MoviePy] Writing audio in huma0fTEMP_MPY_wvf_snd.mp3\n"
          ]
        },
        {
          "output_type": "stream",
          "name": "stderr",
          "text": [
            "100%|██████████| 221/221 [00:00<00:00, 951.91it/s]"
          ]
        },
        {
          "output_type": "stream",
          "name": "stdout",
          "text": [
            "[MoviePy] Done.\n",
            "[MoviePy] Writing video huma0f.mp4\n"
          ]
        },
        {
          "output_type": "stream",
          "name": "stderr",
          "text": [
            "\n",
            " 99%|█████████▊| 75/76 [00:00<00:00, 647.07it/s]\n"
          ]
        },
        {
          "output_type": "stream",
          "name": "stdout",
          "text": [
            "[MoviePy] Done.\n",
            "[MoviePy] >>>> Video ready: huma0f.mp4 \n",
            "\n",
            "dping it now  12\n",
            "[MoviePy] >>>> Building video huma1f.mp4\n",
            "[MoviePy] Writing audio in huma1fTEMP_MPY_wvf_snd.mp3\n"
          ]
        },
        {
          "output_type": "stream",
          "name": "stderr",
          "text": [
            "100%|██████████| 221/221 [00:00<00:00, 903.78it/s]"
          ]
        },
        {
          "output_type": "stream",
          "name": "stdout",
          "text": [
            "[MoviePy] Done.\n",
            "[MoviePy] Writing video huma1f.mp4\n"
          ]
        },
        {
          "output_type": "stream",
          "name": "stderr",
          "text": [
            "\n",
            " 99%|█████████▊| 75/76 [00:00<00:00, 567.43it/s]\n"
          ]
        },
        {
          "output_type": "stream",
          "name": "stdout",
          "text": [
            "[MoviePy] Done.\n",
            "[MoviePy] >>>> Video ready: huma1f.mp4 \n",
            "\n",
            "dping it now  24\n",
            "[MoviePy] >>>> Building video huma2f.mp4\n",
            "[MoviePy] Writing audio in huma2fTEMP_MPY_wvf_snd.mp3\n"
          ]
        },
        {
          "output_type": "stream",
          "name": "stderr",
          "text": [
            "100%|██████████| 221/221 [00:00<00:00, 903.82it/s]"
          ]
        },
        {
          "output_type": "stream",
          "name": "stdout",
          "text": [
            "[MoviePy] Done.\n",
            "[MoviePy] Writing video huma2f.mp4\n"
          ]
        },
        {
          "output_type": "stream",
          "name": "stderr",
          "text": [
            "\n",
            " 99%|█████████▊| 75/76 [00:00<00:00, 636.65it/s]\n"
          ]
        },
        {
          "output_type": "stream",
          "name": "stdout",
          "text": [
            "[MoviePy] Done.\n",
            "[MoviePy] >>>> Video ready: huma2f.mp4 \n",
            "\n",
            "dping it now  36\n",
            "[MoviePy] >>>> Building video huma3f.mp4\n",
            "[MoviePy] Writing audio in huma3fTEMP_MPY_wvf_snd.mp3\n"
          ]
        },
        {
          "output_type": "stream",
          "name": "stderr",
          "text": [
            "100%|██████████| 221/221 [00:00<00:00, 839.57it/s]"
          ]
        },
        {
          "output_type": "stream",
          "name": "stdout",
          "text": [
            "[MoviePy] Done.\n",
            "[MoviePy] Writing video huma3f.mp4\n"
          ]
        },
        {
          "output_type": "stream",
          "name": "stderr",
          "text": [
            "\n",
            " 99%|█████████▊| 75/76 [00:00<00:00, 560.55it/s]\n"
          ]
        },
        {
          "output_type": "stream",
          "name": "stdout",
          "text": [
            "[MoviePy] Done.\n",
            "[MoviePy] >>>> Video ready: huma3f.mp4 \n",
            "\n",
            "dping it now  48\n",
            "[MoviePy] >>>> Building video huma4f.mp4\n",
            "[MoviePy] Writing audio in huma4fTEMP_MPY_wvf_snd.mp3\n"
          ]
        },
        {
          "output_type": "stream",
          "name": "stderr",
          "text": [
            "100%|██████████| 221/221 [00:00<00:00, 876.11it/s]"
          ]
        },
        {
          "output_type": "stream",
          "name": "stdout",
          "text": [
            "[MoviePy] Done.\n",
            "[MoviePy] Writing video huma4f.mp4\n"
          ]
        },
        {
          "output_type": "stream",
          "name": "stderr",
          "text": [
            "\n",
            " 99%|█████████▊| 75/76 [00:00<00:00, 611.27it/s]\n"
          ]
        },
        {
          "output_type": "stream",
          "name": "stdout",
          "text": [
            "[MoviePy] Done.\n",
            "[MoviePy] >>>> Video ready: huma4f.mp4 \n",
            "\n",
            "dping it now  60\n",
            "[MoviePy] >>>> Building video huma5f.mp4\n",
            "[MoviePy] Writing audio in huma5fTEMP_MPY_wvf_snd.mp3\n"
          ]
        },
        {
          "output_type": "stream",
          "name": "stderr",
          "text": [
            "100%|██████████| 221/221 [00:00<00:00, 920.93it/s]"
          ]
        },
        {
          "output_type": "stream",
          "name": "stdout",
          "text": [
            "[MoviePy] Done.\n",
            "[MoviePy] Writing video huma5f.mp4\n"
          ]
        },
        {
          "output_type": "stream",
          "name": "stderr",
          "text": [
            "\n",
            " 99%|█████████▊| 75/76 [00:00<00:00, 630.07it/s]\n"
          ]
        },
        {
          "output_type": "stream",
          "name": "stdout",
          "text": [
            "[MoviePy] Done.\n",
            "[MoviePy] >>>> Video ready: huma5f.mp4 \n",
            "\n",
            "dping it now  72\n",
            "[MoviePy] >>>> Building video huma6f.mp4\n",
            "[MoviePy] Writing audio in huma6fTEMP_MPY_wvf_snd.mp3\n"
          ]
        },
        {
          "output_type": "stream",
          "name": "stderr",
          "text": [
            "100%|██████████| 221/221 [00:00<00:00, 850.50it/s]"
          ]
        },
        {
          "output_type": "stream",
          "name": "stdout",
          "text": [
            "[MoviePy] Done.\n",
            "[MoviePy] Writing video huma6f.mp4\n"
          ]
        },
        {
          "output_type": "stream",
          "name": "stderr",
          "text": [
            "\n",
            " 99%|█████████▊| 75/76 [00:00<00:00, 648.02it/s]\n"
          ]
        },
        {
          "output_type": "stream",
          "name": "stdout",
          "text": [
            "[MoviePy] Done.\n",
            "[MoviePy] >>>> Video ready: huma6f.mp4 \n",
            "\n",
            "dping it now  84\n",
            "[MoviePy] >>>> Building video huma7f.mp4\n",
            "[MoviePy] Writing audio in huma7fTEMP_MPY_wvf_snd.mp3\n"
          ]
        },
        {
          "output_type": "stream",
          "name": "stderr",
          "text": [
            "100%|██████████| 221/221 [00:00<00:00, 864.95it/s]"
          ]
        },
        {
          "output_type": "stream",
          "name": "stdout",
          "text": [
            "[MoviePy] Done.\n",
            "[MoviePy] Writing video huma7f.mp4\n"
          ]
        },
        {
          "output_type": "stream",
          "name": "stderr",
          "text": [
            "\n",
            " 99%|█████████▊| 75/76 [00:00<00:00, 618.76it/s]\n"
          ]
        },
        {
          "output_type": "stream",
          "name": "stdout",
          "text": [
            "[MoviePy] Done.\n",
            "[MoviePy] >>>> Video ready: huma7f.mp4 \n",
            "\n",
            "dping it now  96\n",
            "[MoviePy] >>>> Building video huma8f.mp4\n",
            "[MoviePy] Writing audio in huma8fTEMP_MPY_wvf_snd.mp3\n"
          ]
        },
        {
          "output_type": "stream",
          "name": "stderr",
          "text": [
            "100%|██████████| 221/221 [00:00<00:00, 895.89it/s]"
          ]
        },
        {
          "output_type": "stream",
          "name": "stdout",
          "text": [
            "[MoviePy] Done.\n",
            "[MoviePy] Writing video huma8f.mp4\n"
          ]
        },
        {
          "output_type": "stream",
          "name": "stderr",
          "text": [
            "\n",
            " 99%|█████████▊| 75/76 [00:00<00:00, 581.16it/s]\n"
          ]
        },
        {
          "output_type": "stream",
          "name": "stdout",
          "text": [
            "[MoviePy] Done.\n",
            "[MoviePy] >>>> Video ready: huma8f.mp4 \n",
            "\n",
            "dping it now  108\n",
            "[MoviePy] >>>> Building video huma9f.mp4\n",
            "[MoviePy] Writing audio in huma9fTEMP_MPY_wvf_snd.mp3\n"
          ]
        },
        {
          "output_type": "stream",
          "name": "stderr",
          "text": [
            "100%|██████████| 221/221 [00:00<00:00, 891.04it/s]"
          ]
        },
        {
          "output_type": "stream",
          "name": "stdout",
          "text": [
            "[MoviePy] Done.\n",
            "[MoviePy] Writing video huma9f.mp4\n"
          ]
        },
        {
          "output_type": "stream",
          "name": "stderr",
          "text": [
            "\n",
            " 99%|█████████▊| 75/76 [00:00<00:00, 585.44it/s]\n"
          ]
        },
        {
          "output_type": "stream",
          "name": "stdout",
          "text": [
            "[MoviePy] Done.\n",
            "[MoviePy] >>>> Video ready: huma9f.mp4 \n",
            "\n",
            "dping it now  120\n",
            "[MoviePy] >>>> Building video huma10f.mp4\n",
            "[MoviePy] Writing audio in huma10fTEMP_MPY_wvf_snd.mp3\n"
          ]
        },
        {
          "output_type": "stream",
          "name": "stderr",
          "text": [
            " 38%|███▊      | 83/221 [00:00<00:00, 853.57it/s]\n"
          ]
        },
        {
          "output_type": "stream",
          "name": "stdout",
          "text": [
            "25.87\n",
            "dping it now  0\n",
            "[MoviePy] >>>> Building video huma0f.mp4\n",
            "[MoviePy] Writing audio in huma0fTEMP_MPY_wvf_snd.mp3\n"
          ]
        },
        {
          "output_type": "stream",
          "name": "stderr",
          "text": [
            "100%|██████████| 221/221 [00:00<00:00, 939.67it/s]"
          ]
        },
        {
          "output_type": "stream",
          "name": "stdout",
          "text": [
            "[MoviePy] Done.\n",
            "[MoviePy] Writing video huma0f.mp4\n"
          ]
        },
        {
          "output_type": "stream",
          "name": "stderr",
          "text": [
            "\n",
            " 99%|█████████▊| 75/76 [00:00<00:00, 778.62it/s]\n"
          ]
        },
        {
          "output_type": "stream",
          "name": "stdout",
          "text": [
            "[MoviePy] Done.\n",
            "[MoviePy] >>>> Video ready: huma0f.mp4 \n",
            "\n",
            "dping it now  12\n",
            "[MoviePy] >>>> Building video huma1f.mp4\n",
            "[MoviePy] Writing audio in huma1fTEMP_MPY_wvf_snd.mp3\n"
          ]
        },
        {
          "output_type": "stream",
          "name": "stderr",
          "text": [
            "100%|██████████| 221/221 [00:00<00:00, 909.63it/s]"
          ]
        },
        {
          "output_type": "stream",
          "name": "stdout",
          "text": [
            "[MoviePy] Done.\n",
            "[MoviePy] Writing video huma1f.mp4\n"
          ]
        },
        {
          "output_type": "stream",
          "name": "stderr",
          "text": [
            "\n",
            " 99%|█████████▊| 75/76 [00:00<00:00, 729.74it/s]\n"
          ]
        },
        {
          "output_type": "stream",
          "name": "stdout",
          "text": [
            "[MoviePy] Done.\n",
            "[MoviePy] >>>> Video ready: huma1f.mp4 \n",
            "\n",
            "dping it now  24\n",
            "[MoviePy] >>>> Building video huma2f.mp4\n",
            "[MoviePy] Writing audio in huma2fTEMP_MPY_wvf_snd.mp3\n"
          ]
        },
        {
          "output_type": "stream",
          "name": "stderr",
          "text": [
            " 19%|█▉        | 42/221 [00:00<00:00, 814.63it/s]\n"
          ]
        }
      ]
    },
    {
      "cell_type": "code",
      "source": [
        "mv * ../."
      ],
      "metadata": {
        "id": "-rbuyjCJn4Fj"
      },
      "execution_count": null,
      "outputs": []
    },
    {
      "cell_type": "code",
      "source": [
        "import os \n",
        "ls = os.listdir(\".\")"
      ],
      "metadata": {
        "id": "bxAoNH0-ovyP"
      },
      "execution_count": null,
      "outputs": []
    },
    {
      "cell_type": "code",
      "source": [
        "ls"
      ],
      "metadata": {
        "colab": {
          "base_uri": "https://localhost:8080/"
        },
        "id": "mfr_FCSIp0uZ",
        "outputId": "fb60c1d9-2eaf-4fd7-e5b6-c963c947ab16"
      },
      "execution_count": null,
      "outputs": [
        {
          "output_type": "execute_result",
          "data": {
            "text/plain": [
              "['bot2.mp4',\n",
              " 'human2.mp4',\n",
              " 'human1.mp4',\n",
              " 'bot1.mp4',\n",
              " 'bot4.mp4',\n",
              " 'bot3.mp4',\n",
              " 'human5.mp4',\n",
              " 'human4.mp4',\n",
              " '.ipynb_checkpoints',\n",
              " 'human3.mp4']"
            ]
          },
          "metadata": {},
          "execution_count": 22
        }
      ]
    },
    {
      "cell_type": "code",
      "source": [
        "ls"
      ],
      "metadata": {
        "colab": {
          "base_uri": "https://localhost:8080/"
        },
        "id": "f7rTDRfOpvxm",
        "outputId": "8b2a1dab-f6f6-491d-f3b0-6e506aaaef2c"
      },
      "execution_count": null,
      "outputs": [
        {
          "output_type": "execute_result",
          "data": {
            "text/plain": [
              "['bot2.mp4',\n",
              " 'human2.mp4',\n",
              " 'human1.mp4',\n",
              " 'bot1.mp4',\n",
              " 'bot4.mp4',\n",
              " 'bot3.mp4',\n",
              " 'human5.mp4',\n",
              " 'human4.mp4',\n",
              " 'human3.mp4']"
            ]
          },
          "metadata": {},
          "execution_count": 28
        }
      ]
    },
    {
      "cell_type": "code",
      "source": [
        "!rm -rf ../'Bot produced'"
      ],
      "metadata": {
        "id": "Bgr_XsXP2cyu",
        "colab": {
          "base_uri": "https://localhost:8080/"
        },
        "outputId": "45c66c0b-8471-4b0c-9f45-e50ed1bd8f6d"
      },
      "execution_count": null,
      "outputs": [
        {
          "output_type": "stream",
          "name": "stdout",
          "text": [
            "shell-init: error retrieving current directory: getcwd: cannot access parent directories: No such file or directory\n"
          ]
        }
      ]
    },
    {
      "cell_type": "code",
      "source": [
        "pip install pytubex"
      ],
      "metadata": {
        "colab": {
          "base_uri": "https://localhost:8080/"
        },
        "id": "QFAApSRWd5XQ",
        "outputId": "d5382561-8b7d-436c-c9da-75870a946416"
      },
      "execution_count": null,
      "outputs": [
        {
          "output_type": "stream",
          "name": "stdout",
          "text": [
            "Looking in indexes: https://pypi.org/simple, https://us-python.pkg.dev/colab-wheels/public/simple/\n",
            "Collecting pytube\n",
            "  Downloading pytube-12.1.0-py3-none-any.whl (56 kB)\n",
            "\u001b[K     |████████████████████████████████| 56 kB 2.6 MB/s \n",
            "\u001b[?25hInstalling collected packages: pytube\n",
            "Successfully installed pytube-12.1.0\n"
          ]
        }
      ]
    },
    {
      "cell_type": "code",
      "source": [
        "cd .."
      ],
      "metadata": {
        "colab": {
          "base_uri": "https://localhost:8080/"
        },
        "id": "NrrHHAjTu54Z",
        "outputId": "81fb195d-9391-4285-811b-5969536b613a"
      },
      "execution_count": null,
      "outputs": [
        {
          "output_type": "stream",
          "name": "stdout",
          "text": [
            "/content\n"
          ]
        }
      ]
    },
    {
      "cell_type": "markdown",
      "metadata": {
        "id": "amMPjGR12qEb"
      },
      "source": [
        "Data Loading and Labeling:\n"
      ]
    },
    {
      "cell_type": "code",
      "source": [
        "os.getcwd()\n",
        "path=os.getcwd()\n",
        "video_directory=os.path.join(path,\"Videos_folder\")\n",
        "\n",
        "import re"
      ],
      "metadata": {
        "id": "ZdODp7ytd5co"
      },
      "execution_count": null,
      "outputs": []
    },
    {
      "cell_type": "code",
      "source": [
        "cd 'Human produced'"
      ],
      "metadata": {
        "colab": {
          "base_uri": "https://localhost:8080/"
        },
        "id": "cPg8DBZKvyYX",
        "outputId": "e84cc185-2d58-45fb-b886-214012e450d8"
      },
      "execution_count": null,
      "outputs": [
        {
          "output_type": "stream",
          "name": "stdout",
          "text": [
            "/content/Videos_folder/Human produced\n"
          ]
        }
      ]
    },
    {
      "cell_type": "code",
      "source": [
        "mv bot* ../'Bot produced'"
      ],
      "metadata": {
        "id": "dI1WUBXIvHWA"
      },
      "execution_count": null,
      "outputs": []
    },
    {
      "cell_type": "code",
      "source": [
        "mkdir 'Bot produced'"
      ],
      "metadata": {
        "id": "VLlYce4Ivetz"
      },
      "execution_count": null,
      "outputs": []
    },
    {
      "cell_type": "code",
      "source": [
        "!ls"
      ],
      "metadata": {
        "colab": {
          "base_uri": "https://localhost:8080/"
        },
        "id": "WsJwOyyXv9EH",
        "outputId": "23058a26-d8c2-41f0-aebc-61563065746b"
      },
      "execution_count": null,
      "outputs": [
        {
          "output_type": "stream",
          "name": "stdout",
          "text": [
            "sample_data  Videos_folder  video.zip\n"
          ]
        }
      ]
    },
    {
      "cell_type": "code",
      "execution_count": null,
      "metadata": {
        "deletable": true,
        "editable": true,
        "id": "RWVfg7562qEc",
        "outputId": "2c60e89e-c6d0-406e-c86b-ca61903ed08f",
        "colab": {
          "base_uri": "https://localhost:8080/",
          "height": 143
        }
      },
      "outputs": [
        {
          "output_type": "execute_result",
          "data": {
            "text/plain": [
              "        video_name\n",
              "labels            \n",
              "0               24\n",
              "1               91"
            ],
            "text/html": [
              "\n",
              "  <div id=\"df-ff044a3d-d450-434e-91e7-e0e99e7d7cb5\">\n",
              "    <div class=\"colab-df-container\">\n",
              "      <div>\n",
              "<style scoped>\n",
              "    .dataframe tbody tr th:only-of-type {\n",
              "        vertical-align: middle;\n",
              "    }\n",
              "\n",
              "    .dataframe tbody tr th {\n",
              "        vertical-align: top;\n",
              "    }\n",
              "\n",
              "    .dataframe thead th {\n",
              "        text-align: right;\n",
              "    }\n",
              "</style>\n",
              "<table border=\"1\" class=\"dataframe\">\n",
              "  <thead>\n",
              "    <tr style=\"text-align: right;\">\n",
              "      <th></th>\n",
              "      <th>video_name</th>\n",
              "    </tr>\n",
              "    <tr>\n",
              "      <th>labels</th>\n",
              "      <th></th>\n",
              "    </tr>\n",
              "  </thead>\n",
              "  <tbody>\n",
              "    <tr>\n",
              "      <th>0</th>\n",
              "      <td>24</td>\n",
              "    </tr>\n",
              "    <tr>\n",
              "      <th>1</th>\n",
              "      <td>91</td>\n",
              "    </tr>\n",
              "  </tbody>\n",
              "</table>\n",
              "</div>\n",
              "      <button class=\"colab-df-convert\" onclick=\"convertToInteractive('df-ff044a3d-d450-434e-91e7-e0e99e7d7cb5')\"\n",
              "              title=\"Convert this dataframe to an interactive table.\"\n",
              "              style=\"display:none;\">\n",
              "        \n",
              "  <svg xmlns=\"http://www.w3.org/2000/svg\" height=\"24px\"viewBox=\"0 0 24 24\"\n",
              "       width=\"24px\">\n",
              "    <path d=\"M0 0h24v24H0V0z\" fill=\"none\"/>\n",
              "    <path d=\"M18.56 5.44l.94 2.06.94-2.06 2.06-.94-2.06-.94-.94-2.06-.94 2.06-2.06.94zm-11 1L8.5 8.5l.94-2.06 2.06-.94-2.06-.94L8.5 2.5l-.94 2.06-2.06.94zm10 10l.94 2.06.94-2.06 2.06-.94-2.06-.94-.94-2.06-.94 2.06-2.06.94z\"/><path d=\"M17.41 7.96l-1.37-1.37c-.4-.4-.92-.59-1.43-.59-.52 0-1.04.2-1.43.59L10.3 9.45l-7.72 7.72c-.78.78-.78 2.05 0 2.83L4 21.41c.39.39.9.59 1.41.59.51 0 1.02-.2 1.41-.59l7.78-7.78 2.81-2.81c.8-.78.8-2.07 0-2.86zM5.41 20L4 18.59l7.72-7.72 1.47 1.35L5.41 20z\"/>\n",
              "  </svg>\n",
              "      </button>\n",
              "      \n",
              "  <style>\n",
              "    .colab-df-container {\n",
              "      display:flex;\n",
              "      flex-wrap:wrap;\n",
              "      gap: 12px;\n",
              "    }\n",
              "\n",
              "    .colab-df-convert {\n",
              "      background-color: #E8F0FE;\n",
              "      border: none;\n",
              "      border-radius: 50%;\n",
              "      cursor: pointer;\n",
              "      display: none;\n",
              "      fill: #1967D2;\n",
              "      height: 32px;\n",
              "      padding: 0 0 0 0;\n",
              "      width: 32px;\n",
              "    }\n",
              "\n",
              "    .colab-df-convert:hover {\n",
              "      background-color: #E2EBFA;\n",
              "      box-shadow: 0px 1px 2px rgba(60, 64, 67, 0.3), 0px 1px 3px 1px rgba(60, 64, 67, 0.15);\n",
              "      fill: #174EA6;\n",
              "    }\n",
              "\n",
              "    [theme=dark] .colab-df-convert {\n",
              "      background-color: #3B4455;\n",
              "      fill: #D2E3FC;\n",
              "    }\n",
              "\n",
              "    [theme=dark] .colab-df-convert:hover {\n",
              "      background-color: #434B5C;\n",
              "      box-shadow: 0px 1px 3px 1px rgba(0, 0, 0, 0.15);\n",
              "      filter: drop-shadow(0px 1px 2px rgba(0, 0, 0, 0.3));\n",
              "      fill: #FFFFFF;\n",
              "    }\n",
              "  </style>\n",
              "\n",
              "      <script>\n",
              "        const buttonEl =\n",
              "          document.querySelector('#df-ff044a3d-d450-434e-91e7-e0e99e7d7cb5 button.colab-df-convert');\n",
              "        buttonEl.style.display =\n",
              "          google.colab.kernel.accessAllowed ? 'block' : 'none';\n",
              "\n",
              "        async function convertToInteractive(key) {\n",
              "          const element = document.querySelector('#df-ff044a3d-d450-434e-91e7-e0e99e7d7cb5');\n",
              "          const dataTable =\n",
              "            await google.colab.kernel.invokeFunction('convertToInteractive',\n",
              "                                                     [key], {});\n",
              "          if (!dataTable) return;\n",
              "\n",
              "          const docLinkHtml = 'Like what you see? Visit the ' +\n",
              "            '<a target=\"_blank\" href=https://colab.research.google.com/notebooks/data_table.ipynb>data table notebook</a>'\n",
              "            + ' to learn more about interactive tables.';\n",
              "          element.innerHTML = '';\n",
              "          dataTable['output_type'] = 'display_data';\n",
              "          await google.colab.output.renderOutput(dataTable, element);\n",
              "          const docLink = document.createElement('div');\n",
              "          docLink.innerHTML = docLinkHtml;\n",
              "          element.appendChild(docLink);\n",
              "        }\n",
              "      </script>\n",
              "    </div>\n",
              "  </div>\n",
              "  "
            ]
          },
          "metadata": {},
          "execution_count": 48
        }
      ],
      "source": [
        "# Loading video names in a column and labels:\n",
        "label=[]\n",
        "\n",
        "vid_human = os.listdir(os.path.join(path,\"Videos_folder/Human produced\"))\n",
        "for i in vid_human:\n",
        "  label.append(0)\n",
        "\n",
        "vid_bot = os.listdir(os.path.join(path,\"Videos_folder/Bot produced\"))\n",
        "for i in vid_bot :\n",
        "  label.append(1)\n",
        "vid_human.extend(vid_bot)\n",
        "videos = vid_human\n",
        "\n",
        "\n",
        "        \n",
        "videos=pd.DataFrame(videos,label).reset_index()\n",
        "videos.columns=[\"labels\",\"video_name\"]\n",
        "\n",
        "videos.groupby('labels').count()"
      ]
    },
    {
      "cell_type": "markdown",
      "metadata": {
        "id": "gnwhUGH_2qEe"
      },
      "source": [
        "Train Test Split:\n",
        "---\n",
        "I used random shuffling of videos to split them into train and test dataset.\n",
        "I have used binary labelling"
      ]
    },
    {
      "cell_type": "code",
      "execution_count": null,
      "metadata": {
        "collapsed": true,
        "deletable": true,
        "editable": true,
        "id": "6Vn3OKXf2qEf"
      },
      "outputs": [],
      "source": [
        "# Splitting the videos into Train and Test Videos:\n",
        "no_st=videos.loc[videos[\"labels\"]==0,]\n",
        "st=videos.loc[videos[\"labels\"]==1,]\n",
        "\n",
        "no_st_range=np.arange(len(no_st))\n",
        "st_range=np.arange(len(st))\n",
        "np.random.seed(14)\n",
        "np.random.shuffle(no_st_range)\n",
        "np.random.shuffle(st_range)\n",
        "\n",
        "st=st.iloc[st_range,]\n",
        "no_st=no_st.iloc[no_st_range,]\n",
        "\n",
        "train_st=st.iloc[:80,]\n",
        "train_no_st=no_st.iloc[:20,]\n",
        "test_st=st.iloc[80:,]\n",
        "test_no_st=no_st.iloc[20:,]\n",
        "\n",
        "train_set=train_st.append(train_no_st)\n",
        "test_set=test_st.append(test_no_st)\n",
        "\n",
        "train_set=train_set.reset_index().drop(\"index\",axis=1)\n",
        "test_set=test_set.reset_index().drop(\"index\",axis=1)"
      ]
    },
    {
      "cell_type": "code",
      "execution_count": null,
      "metadata": {
        "id": "a6zXd2qc2qEg",
        "outputId": "75faa9fe-6703-41bd-efef-83d798005f5e",
        "colab": {
          "base_uri": "https://localhost:8080/"
        }
      },
      "outputs": [
        {
          "output_type": "stream",
          "name": "stdout",
          "text": [
            "        video_name\n",
            "labels            \n",
            "0               20\n",
            "1               80\n",
            "        video_name\n",
            "labels            \n",
            "0                4\n",
            "1               11\n"
          ]
        }
      ],
      "source": [
        "print(train_set.groupby('labels').count())\n",
        "print(test_set.groupby('labels').count())"
      ]
    },
    {
      "cell_type": "markdown",
      "metadata": {
        "id": "0fAM5hie2qEh"
      },
      "source": [
        "Creating Folders for Train and Test Datasets:\n",
        "---\n",
        "Creating a Main Directory Stretches where i would save frames from each video. The reason to create this directory is because  a video is a sequence of frames, and when i would be reading video files , i would need to save frames corresponding to each video in some directory. "
      ]
    },
    {
      "cell_type": "code",
      "execution_count": null,
      "metadata": {
        "id": "_h4gFiBO2qEi"
      },
      "outputs": [],
      "source": [
        "stretches_dir_path=os.path.join(path,'Stretches')\n",
        "train_videos_dir=os.path.join(stretches_dir_path,\"Train_Videos\")\n",
        "test_videos_dir=os.path.join(stretches_dir_path,\"Test_Videos\")\n",
        "try:\n",
        "    os.mkdir(stretches_dir_path)\n",
        "except FileExistsError as ae:\n",
        "    print(\"Folder Already Created\")\n",
        "\n",
        "try:\n",
        "    os.mkdir(train_videos_dir)\n",
        "except FileExistsError as ae:\n",
        "    print(\"Folder Already Created\")\n",
        "    \n",
        "try:\n",
        "    os.mkdir(test_videos_dir)\n",
        "except FileExistsError as ae:\n",
        "    print(\"Folder Already Created\")\n"
      ]
    },
    {
      "cell_type": "code",
      "source": [
        "train_set"
      ],
      "metadata": {
        "colab": {
          "base_uri": "https://localhost:8080/",
          "height": 423
        },
        "id": "E33AE3PsGcbK",
        "outputId": "ab935339-37fb-4ef2-9ab0-bd7309297bd6"
      },
      "execution_count": null,
      "outputs": [
        {
          "output_type": "execute_result",
          "data": {
            "text/plain": [
              "    labels   video_name\n",
              "0        1  bot329f.mp4\n",
              "1        1  bot411f.mp4\n",
              "2        1  bot325f.mp4\n",
              "3        1  bot414f.mp4\n",
              "4        1  bot216f.mp4\n",
              "..     ...          ...\n",
              "95       0   human5.mp4\n",
              "96       0   huma1f.mp4\n",
              "97       0  huma14f.mp4\n",
              "98       0   huma0f.mp4\n",
              "99       0   huma8f.mp4\n",
              "\n",
              "[100 rows x 2 columns]"
            ],
            "text/html": [
              "\n",
              "  <div id=\"df-2849cfcb-22e6-4e69-9b8e-ae6d80fc8ea5\">\n",
              "    <div class=\"colab-df-container\">\n",
              "      <div>\n",
              "<style scoped>\n",
              "    .dataframe tbody tr th:only-of-type {\n",
              "        vertical-align: middle;\n",
              "    }\n",
              "\n",
              "    .dataframe tbody tr th {\n",
              "        vertical-align: top;\n",
              "    }\n",
              "\n",
              "    .dataframe thead th {\n",
              "        text-align: right;\n",
              "    }\n",
              "</style>\n",
              "<table border=\"1\" class=\"dataframe\">\n",
              "  <thead>\n",
              "    <tr style=\"text-align: right;\">\n",
              "      <th></th>\n",
              "      <th>labels</th>\n",
              "      <th>video_name</th>\n",
              "    </tr>\n",
              "  </thead>\n",
              "  <tbody>\n",
              "    <tr>\n",
              "      <th>0</th>\n",
              "      <td>1</td>\n",
              "      <td>bot329f.mp4</td>\n",
              "    </tr>\n",
              "    <tr>\n",
              "      <th>1</th>\n",
              "      <td>1</td>\n",
              "      <td>bot411f.mp4</td>\n",
              "    </tr>\n",
              "    <tr>\n",
              "      <th>2</th>\n",
              "      <td>1</td>\n",
              "      <td>bot325f.mp4</td>\n",
              "    </tr>\n",
              "    <tr>\n",
              "      <th>3</th>\n",
              "      <td>1</td>\n",
              "      <td>bot414f.mp4</td>\n",
              "    </tr>\n",
              "    <tr>\n",
              "      <th>4</th>\n",
              "      <td>1</td>\n",
              "      <td>bot216f.mp4</td>\n",
              "    </tr>\n",
              "    <tr>\n",
              "      <th>...</th>\n",
              "      <td>...</td>\n",
              "      <td>...</td>\n",
              "    </tr>\n",
              "    <tr>\n",
              "      <th>95</th>\n",
              "      <td>0</td>\n",
              "      <td>human5.mp4</td>\n",
              "    </tr>\n",
              "    <tr>\n",
              "      <th>96</th>\n",
              "      <td>0</td>\n",
              "      <td>huma1f.mp4</td>\n",
              "    </tr>\n",
              "    <tr>\n",
              "      <th>97</th>\n",
              "      <td>0</td>\n",
              "      <td>huma14f.mp4</td>\n",
              "    </tr>\n",
              "    <tr>\n",
              "      <th>98</th>\n",
              "      <td>0</td>\n",
              "      <td>huma0f.mp4</td>\n",
              "    </tr>\n",
              "    <tr>\n",
              "      <th>99</th>\n",
              "      <td>0</td>\n",
              "      <td>huma8f.mp4</td>\n",
              "    </tr>\n",
              "  </tbody>\n",
              "</table>\n",
              "<p>100 rows × 2 columns</p>\n",
              "</div>\n",
              "      <button class=\"colab-df-convert\" onclick=\"convertToInteractive('df-2849cfcb-22e6-4e69-9b8e-ae6d80fc8ea5')\"\n",
              "              title=\"Convert this dataframe to an interactive table.\"\n",
              "              style=\"display:none;\">\n",
              "        \n",
              "  <svg xmlns=\"http://www.w3.org/2000/svg\" height=\"24px\"viewBox=\"0 0 24 24\"\n",
              "       width=\"24px\">\n",
              "    <path d=\"M0 0h24v24H0V0z\" fill=\"none\"/>\n",
              "    <path d=\"M18.56 5.44l.94 2.06.94-2.06 2.06-.94-2.06-.94-.94-2.06-.94 2.06-2.06.94zm-11 1L8.5 8.5l.94-2.06 2.06-.94-2.06-.94L8.5 2.5l-.94 2.06-2.06.94zm10 10l.94 2.06.94-2.06 2.06-.94-2.06-.94-.94-2.06-.94 2.06-2.06.94z\"/><path d=\"M17.41 7.96l-1.37-1.37c-.4-.4-.92-.59-1.43-.59-.52 0-1.04.2-1.43.59L10.3 9.45l-7.72 7.72c-.78.78-.78 2.05 0 2.83L4 21.41c.39.39.9.59 1.41.59.51 0 1.02-.2 1.41-.59l7.78-7.78 2.81-2.81c.8-.78.8-2.07 0-2.86zM5.41 20L4 18.59l7.72-7.72 1.47 1.35L5.41 20z\"/>\n",
              "  </svg>\n",
              "      </button>\n",
              "      \n",
              "  <style>\n",
              "    .colab-df-container {\n",
              "      display:flex;\n",
              "      flex-wrap:wrap;\n",
              "      gap: 12px;\n",
              "    }\n",
              "\n",
              "    .colab-df-convert {\n",
              "      background-color: #E8F0FE;\n",
              "      border: none;\n",
              "      border-radius: 50%;\n",
              "      cursor: pointer;\n",
              "      display: none;\n",
              "      fill: #1967D2;\n",
              "      height: 32px;\n",
              "      padding: 0 0 0 0;\n",
              "      width: 32px;\n",
              "    }\n",
              "\n",
              "    .colab-df-convert:hover {\n",
              "      background-color: #E2EBFA;\n",
              "      box-shadow: 0px 1px 2px rgba(60, 64, 67, 0.3), 0px 1px 3px 1px rgba(60, 64, 67, 0.15);\n",
              "      fill: #174EA6;\n",
              "    }\n",
              "\n",
              "    [theme=dark] .colab-df-convert {\n",
              "      background-color: #3B4455;\n",
              "      fill: #D2E3FC;\n",
              "    }\n",
              "\n",
              "    [theme=dark] .colab-df-convert:hover {\n",
              "      background-color: #434B5C;\n",
              "      box-shadow: 0px 1px 3px 1px rgba(0, 0, 0, 0.15);\n",
              "      filter: drop-shadow(0px 1px 2px rgba(0, 0, 0, 0.3));\n",
              "      fill: #FFFFFF;\n",
              "    }\n",
              "  </style>\n",
              "\n",
              "      <script>\n",
              "        const buttonEl =\n",
              "          document.querySelector('#df-2849cfcb-22e6-4e69-9b8e-ae6d80fc8ea5 button.colab-df-convert');\n",
              "        buttonEl.style.display =\n",
              "          google.colab.kernel.accessAllowed ? 'block' : 'none';\n",
              "\n",
              "        async function convertToInteractive(key) {\n",
              "          const element = document.querySelector('#df-2849cfcb-22e6-4e69-9b8e-ae6d80fc8ea5');\n",
              "          const dataTable =\n",
              "            await google.colab.kernel.invokeFunction('convertToInteractive',\n",
              "                                                     [key], {});\n",
              "          if (!dataTable) return;\n",
              "\n",
              "          const docLinkHtml = 'Like what you see? Visit the ' +\n",
              "            '<a target=\"_blank\" href=https://colab.research.google.com/notebooks/data_table.ipynb>data table notebook</a>'\n",
              "            + ' to learn more about interactive tables.';\n",
              "          element.innerHTML = '';\n",
              "          dataTable['output_type'] = 'display_data';\n",
              "          await google.colab.output.renderOutput(dataTable, element);\n",
              "          const docLink = document.createElement('div');\n",
              "          docLink.innerHTML = docLinkHtml;\n",
              "          element.appendChild(docLink);\n",
              "        }\n",
              "      </script>\n",
              "    </div>\n",
              "  </div>\n",
              "  "
            ]
          },
          "metadata": {},
          "execution_count": 65
        }
      ]
    },
    {
      "cell_type": "markdown",
      "metadata": {
        "id": "2qwqwrZY2qEi"
      },
      "source": [
        "Reading the video files, extracting frames from each corresponding video and putting them in the respective train/test folder:"
      ]
    },
    {
      "cell_type": "code",
      "execution_count": null,
      "metadata": {
        "id": "1HP7Ao-Y2qEj",
        "outputId": "f47527b0-c0b4-4e16-c103-05a5f4b2e281",
        "colab": {
          "base_uri": "https://localhost:8080/"
        }
      },
      "outputs": [
        {
          "output_type": "stream",
          "name": "stdout",
          "text": [
            "All frames written in the: Train_Videos Folder\n",
            "All frames written in the: Test_Videos Folder\n"
          ]
        }
      ],
      "source": [
        "stretches_path=os.path.join(path,\"Stretches\")\n",
        "def video_capturing_function(dataset,folder_name):\n",
        "    for i in np.arange(len(dataset)):\n",
        "        video_name=dataset.video_name[i]\n",
        "        video_read_path=os.path.join(video_directory,video_name)\n",
        "        cap=cv2.VideoCapture(video_read_path)\n",
        "        try:\n",
        "            os.mkdir(os.path.join(os.path.join(stretches_path,folder_name),\n",
        "                                  video_name.split(\".\")[0]))\n",
        "        except:\n",
        "            print(\"File Already Created\")\n",
        "        \n",
        "        train_write_file=os.path.join(os.path.join(stretches_path,folder_name),\n",
        "                                  video_name.split(\".\")[0])\n",
        "        cap.set(cv2.CAP_PROP_FPS, 20)\n",
        "        frameRate=cap.get(5)\n",
        "        x=1\n",
        "        count=0\n",
        "        while(cap.isOpened()):\n",
        "            frameId = cap.get(1) #current frame number\n",
        "            ret, frame = cap.read()\n",
        "            if (ret != True):\n",
        "                print(\"here\")\n",
        "                break\n",
        "            if (frameId % math.floor(frameRate) == 0):\n",
        "                filename =\"frame%d.jpg\" % count;count+=1\n",
        "                frame_grey=cv2.cvtColor(frame, cv2.COLOR_BGR2GRAY)\n",
        "                print(filename)\n",
        "                cv2.imwrite(os.path.join(train_write_file,filename), frame_grey)\n",
        "        cap.release()\n",
        "    return print(\"All frames written in the: \"+folder_name+\" Folder\")\n",
        "    \n",
        "video_capturing_function(train_set,\"Train_Videos\")\n",
        "video_capturing_function(test_set,\"Test_Videos\")"
      ]
    },
    {
      "cell_type": "code",
      "execution_count": null,
      "metadata": {
        "collapsed": true,
        "deletable": true,
        "editable": true,
        "id": "BBLQjSUk2qEj"
      },
      "outputs": [],
      "source": [
        "# Code to see how many frames are captured for each video:\n",
        "train_dir_path=os.getcwd()+'/Stretches/Train_Videos'\n",
        "test_dir_path=os.getcwd()+'/Stretches/Test_Videos'\n",
        "\n",
        "vid_file_name=train_set.video_name[0].split('.')[0]\n",
        "\n",
        "train_frames=[]\n",
        "for i in np.arange(len(train_set.video_name)):\n",
        "    vid_file_name=train_set.video_name[i].split('.')[0]\n",
        "    train_frames.append(len(os.listdir(os.path.join(train_dir_path,vid_file_name))))\n",
        "\n",
        "test_frames=[]\n",
        "for i in np.arange(len(test_set.video_name)):\n",
        "    vid_file_name=test_set.video_name[i].split('.')[0]\n",
        "    test_frames.append(len(os.listdir(os.path.join(test_dir_path,vid_file_name))))\n"
      ]
    },
    {
      "cell_type": "markdown",
      "metadata": {
        "id": "-C8kOTq-2qEk"
      },
      "source": [
        "Making sure that each video has atleast 10 frames"
      ]
    },
    {
      "cell_type": "markdown",
      "source": [],
      "metadata": {
        "id": "E_TaZKuzhe4M"
      }
    },
    {
      "cell_type": "code",
      "execution_count": null,
      "metadata": {
        "id": "H2rEBgf32qEk",
        "outputId": "b737b1c8-afae-4984-ef87-72549c1a8ba1",
        "colab": {
          "base_uri": "https://localhost:8080/",
          "height": 339
        }
      },
      "outputs": [
        {
          "output_type": "error",
          "ename": "IndexError",
          "evalue": "ignored",
          "traceback": [
            "\u001b[0;31m---------------------------------------------------------------------------\u001b[0m",
            "\u001b[0;31mIndexError\u001b[0m                                Traceback (most recent call last)",
            "\u001b[0;32m<ipython-input-70-d3b6961b68bc>\u001b[0m in \u001b[0;36m<module>\u001b[0;34m\u001b[0m\n\u001b[1;32m     21\u001b[0m     \u001b[0;32mreturn\u001b[0m \u001b[0mprint\u001b[0m\u001b[0;34m(\u001b[0m\u001b[0;34m\"Frame Generation Done!\"\u001b[0m\u001b[0;34m)\u001b[0m\u001b[0;34m\u001b[0m\u001b[0;34m\u001b[0m\u001b[0m\n\u001b[1;32m     22\u001b[0m \u001b[0;34m\u001b[0m\u001b[0m\n\u001b[0;32m---> 23\u001b[0;31m \u001b[0mframe_generating_function\u001b[0m\u001b[0;34m(\u001b[0m\u001b[0mtrain_set\u001b[0m\u001b[0;34m,\u001b[0m\u001b[0mtrain_dir_path\u001b[0m\u001b[0;34m)\u001b[0m\u001b[0;34m\u001b[0m\u001b[0;34m\u001b[0m\u001b[0m\n\u001b[0m\u001b[1;32m     24\u001b[0m \u001b[0mframe_generating_function\u001b[0m\u001b[0;34m(\u001b[0m\u001b[0mtest_set\u001b[0m\u001b[0;34m,\u001b[0m\u001b[0mtest_dir_path\u001b[0m\u001b[0;34m)\u001b[0m\u001b[0;34m\u001b[0m\u001b[0;34m\u001b[0m\u001b[0m\n",
            "\u001b[0;32m<ipython-input-70-d3b6961b68bc>\u001b[0m in \u001b[0;36mframe_generating_function\u001b[0;34m(dataset, dir_path)\u001b[0m\n\u001b[1;32m     12\u001b[0m             \u001b[0;32mfor\u001b[0m \u001b[0mk\u001b[0m \u001b[0;32min\u001b[0m \u001b[0mnp\u001b[0m\u001b[0;34m.\u001b[0m\u001b[0marange\u001b[0m\u001b[0;34m(\u001b[0m\u001b[0mj\u001b[0m\u001b[0;34m)\u001b[0m\u001b[0;34m:\u001b[0m\u001b[0;34m\u001b[0m\u001b[0;34m\u001b[0m\u001b[0m\n\u001b[1;32m     13\u001b[0m                 \u001b[0mlist_frames\u001b[0m\u001b[0;34m=\u001b[0m\u001b[0mos\u001b[0m\u001b[0;34m.\u001b[0m\u001b[0mlistdir\u001b[0m\u001b[0;34m(\u001b[0m\u001b[0mvid_path\u001b[0m\u001b[0;34m)\u001b[0m\u001b[0;34m\u001b[0m\u001b[0;34m\u001b[0m\u001b[0m\n\u001b[0;32m---> 14\u001b[0;31m                 \u001b[0mframe\u001b[0m\u001b[0;34m=\u001b[0m\u001b[0mos\u001b[0m\u001b[0;34m.\u001b[0m\u001b[0mpath\u001b[0m\u001b[0;34m.\u001b[0m\u001b[0mjoin\u001b[0m\u001b[0;34m(\u001b[0m\u001b[0mvid_path\u001b[0m\u001b[0;34m,\u001b[0m\u001b[0mlist_frames\u001b[0m\u001b[0;34m[\u001b[0m\u001b[0mc\u001b[0m\u001b[0;34m]\u001b[0m\u001b[0;34m)\u001b[0m\u001b[0;34m\u001b[0m\u001b[0;34m\u001b[0m\u001b[0m\n\u001b[0m\u001b[1;32m     15\u001b[0m                 \u001b[0mcountu\u001b[0m\u001b[0;34m=\u001b[0m\u001b[0mk\u001b[0m\u001b[0;34m+\u001b[0m\u001b[0mlen_frame\u001b[0m\u001b[0;34m\u001b[0m\u001b[0;34m\u001b[0m\u001b[0m\n\u001b[1;32m     16\u001b[0m                 \u001b[0mnew_frame\u001b[0m\u001b[0;34m=\u001b[0m\u001b[0;34m\"frame%d.jpg\"\u001b[0m \u001b[0;34m%\u001b[0m \u001b[0mcountu\u001b[0m\u001b[0;34m\u001b[0m\u001b[0;34m\u001b[0m\u001b[0m\n",
            "\u001b[0;31mIndexError\u001b[0m: list index out of range"
          ]
        }
      ],
      "source": [
        "def frame_generating_function(dataset,dir_path):\n",
        "  \n",
        "    global list_frames , vid_path\n",
        "    for i in np.arange(len(dataset.video_name)):\n",
        "        vid_namu=dataset.video_name[i]\n",
        "        vid_path=os.path.join(dir_path,vid_namu.split(\".\")[0])\n",
        "        len_frame=len(os.listdir(vid_path))\n",
        "        j=10-len(os.listdir(vid_path))\n",
        "        if j>0:\n",
        "            list_frames=os.listdir(vid_path)\n",
        "            c=0\n",
        "            for k in np.arange(j):\n",
        "                list_frames=os.listdir(vid_path)\n",
        "                frame=os.path.join(vid_path,list_frames[c])\n",
        "                countu=k+len_frame\n",
        "                new_frame=\"frame%d.jpg\" % countu\n",
        "                shutil.copy2(frame,os.path.join(vid_path,new_frame))\n",
        "                c+=1\n",
        "        else:\n",
        "            pass\n",
        "    return print(\"Frame Generation Done!\")\n",
        "    \n",
        "frame_generating_function(train_set,train_dir_path)\n",
        "frame_generating_function(test_set,test_dir_path)"
      ]
    },
    {
      "cell_type": "markdown",
      "metadata": {
        "id": "DfNMm_PR2qEl"
      },
      "source": [
        "Data Preparation:\n",
        "---\n",
        "\n",
        "- In the first step i just created a list of videos that would be in training set and the validation set.\n",
        "- In the second step i would read the first 10 frames from each video as its representation, and created a tensor of dimension (10, pixel_size, pixel_size, channels) for each video.\n"
      ]
    },
    {
      "cell_type": "code",
      "execution_count": null,
      "metadata": {
        "collapsed": true,
        "deletable": true,
        "editable": true,
        "id": "3vL8E7jX2qEl"
      },
      "outputs": [],
      "source": [
        "# Train and Validation Splitting:\n",
        "label_1_dat=train_set.loc[train_set[\"labels\"]==1,]\n",
        "label_0_dat=train_set.loc[train_set[\"labels\"]==0,]\n",
        "\n",
        "train_len_label1=math.floor(len(label_1_dat)*0.80)\n",
        "train_len_label0=math.floor(len(label_0_dat)*0.80)\n",
        "\n",
        "train_dat_label1=label_1_dat.iloc[:train_len_label1,]\n",
        "train_dat_label0=label_0_dat.iloc[:train_len_label0,]\n",
        "\n",
        "validation_dat_label1=label_1_dat.iloc[train_len_label1:,]\n",
        "validation_dat_label0=label_0_dat.iloc[train_len_label0:,]\n",
        "\n",
        "train_vid_dat=train_dat_label1.append(train_dat_label0,ignore_index=True)\n",
        "validation_vid_dat=validation_dat_label1.append(validation_dat_label0,ignore_index=True)\n"
      ]
    },
    {
      "cell_type": "markdown",
      "metadata": {
        "id": "IKYfK6rA2qEl"
      },
      "source": [
        "- Function below takes dataset (Contains video name and corrsponding label) and the directory where extracted frames were saved, and extract the first 10 frames for each video, resize each frame into (250,250) image and convert it into greyscale image, because in the activity recognition, i dont think color picture is of that importance. Plus by removing 2 extra channels we can reduce the computation size."
      ]
    },
    {
      "cell_type": "code",
      "execution_count": null,
      "metadata": {
        "id": "uTLXwHuL2qEl"
      },
      "outputs": [],
      "source": [
        "# Data load function for 10 frames:\n",
        "\n",
        "def data_load_function_10frames(dataset,directory):\n",
        "    frames=[]\n",
        "    for i in np.arange(len(dataset)):\n",
        "        vid_name=dataset.video_name[i].split(\".\")[0]\n",
        "        vid_dir_path=os.path.join(directory,vid_name)\n",
        "        frames_to_select=[]\n",
        "        for l in np.arange(0,10):\n",
        "            frames_to_select.append('frame%d.jpg' % l)\n",
        "        vid_data=[]\n",
        "        for frame in frames_to_select:\n",
        "            image=Image.open(os.path.join(vid_dir_path,frame))\n",
        "            image=image.resize((250, 250), Image.ANTIALIAS) \n",
        "            datu=np.asarray(image)\n",
        "            normu_dat=datu/255\n",
        "            vid_data.append(normu_dat)\n",
        "        vid_data=np.array(vid_data)\n",
        "        frames.append(vid_data)\n",
        "    return np.array(frames)"
      ]
    },
    {
      "cell_type": "code",
      "execution_count": null,
      "metadata": {
        "id": "GYNvhKw32qEm",
        "colab": {
          "base_uri": "https://localhost:8080/",
          "height": 380
        },
        "outputId": "e74b0fa4-bad3-4a8e-df74-7c949dd1c718"
      },
      "outputs": [
        {
          "output_type": "error",
          "ename": "FileNotFoundError",
          "evalue": "ignored",
          "traceback": [
            "\u001b[0;31m---------------------------------------------------------------------------\u001b[0m",
            "\u001b[0;31mFileNotFoundError\u001b[0m                         Traceback (most recent call last)",
            "\u001b[0;32m<ipython-input-73-44cba68fa53f>\u001b[0m in \u001b[0;36m<module>\u001b[0;34m\u001b[0m\n\u001b[1;32m      1\u001b[0m \u001b[0;31m# 10 frames train,validation and test data:\u001b[0m\u001b[0;34m\u001b[0m\u001b[0;34m\u001b[0m\u001b[0;34m\u001b[0m\u001b[0m\n\u001b[1;32m      2\u001b[0m \u001b[0;34m\u001b[0m\u001b[0m\n\u001b[0;32m----> 3\u001b[0;31m \u001b[0mtest_dataset_new\u001b[0m\u001b[0;34m=\u001b[0m\u001b[0mdata_load_function_10frames\u001b[0m\u001b[0;34m(\u001b[0m\u001b[0mtest_set\u001b[0m\u001b[0;34m,\u001b[0m\u001b[0mtest_dir_path\u001b[0m\u001b[0;34m)\u001b[0m\u001b[0;34m\u001b[0m\u001b[0;34m\u001b[0m\u001b[0m\n\u001b[0m\u001b[1;32m      4\u001b[0m \u001b[0mtrain_dataset_new\u001b[0m\u001b[0;34m=\u001b[0m\u001b[0mdata_load_function_10frames\u001b[0m\u001b[0;34m(\u001b[0m\u001b[0mtrain_vid_dat\u001b[0m\u001b[0;34m,\u001b[0m\u001b[0mtrain_dir_path\u001b[0m\u001b[0;34m)\u001b[0m\u001b[0;34m\u001b[0m\u001b[0;34m\u001b[0m\u001b[0m\n\u001b[1;32m      5\u001b[0m \u001b[0mvalidation_dataset_new\u001b[0m\u001b[0;34m=\u001b[0m\u001b[0mdata_load_function_10frames\u001b[0m\u001b[0;34m(\u001b[0m\u001b[0mvalidation_vid_dat\u001b[0m\u001b[0;34m,\u001b[0m\u001b[0mtrain_dir_path\u001b[0m\u001b[0;34m)\u001b[0m\u001b[0;34m\u001b[0m\u001b[0;34m\u001b[0m\u001b[0m\n",
            "\u001b[0;32m<ipython-input-72-4bb0e4c6dda8>\u001b[0m in \u001b[0;36mdata_load_function_10frames\u001b[0;34m(dataset, directory)\u001b[0m\n\u001b[1;32m     11\u001b[0m         \u001b[0mvid_data\u001b[0m\u001b[0;34m=\u001b[0m\u001b[0;34m[\u001b[0m\u001b[0;34m]\u001b[0m\u001b[0;34m\u001b[0m\u001b[0;34m\u001b[0m\u001b[0m\n\u001b[1;32m     12\u001b[0m         \u001b[0;32mfor\u001b[0m \u001b[0mframe\u001b[0m \u001b[0;32min\u001b[0m \u001b[0mframes_to_select\u001b[0m\u001b[0;34m:\u001b[0m\u001b[0;34m\u001b[0m\u001b[0;34m\u001b[0m\u001b[0m\n\u001b[0;32m---> 13\u001b[0;31m             \u001b[0mimage\u001b[0m\u001b[0;34m=\u001b[0m\u001b[0mImage\u001b[0m\u001b[0;34m.\u001b[0m\u001b[0mopen\u001b[0m\u001b[0;34m(\u001b[0m\u001b[0mos\u001b[0m\u001b[0;34m.\u001b[0m\u001b[0mpath\u001b[0m\u001b[0;34m.\u001b[0m\u001b[0mjoin\u001b[0m\u001b[0;34m(\u001b[0m\u001b[0mvid_dir_path\u001b[0m\u001b[0;34m,\u001b[0m\u001b[0mframe\u001b[0m\u001b[0;34m)\u001b[0m\u001b[0;34m)\u001b[0m\u001b[0;34m\u001b[0m\u001b[0;34m\u001b[0m\u001b[0m\n\u001b[0m\u001b[1;32m     14\u001b[0m             \u001b[0mimage\u001b[0m\u001b[0;34m=\u001b[0m\u001b[0mimage\u001b[0m\u001b[0;34m.\u001b[0m\u001b[0mresize\u001b[0m\u001b[0;34m(\u001b[0m\u001b[0;34m(\u001b[0m\u001b[0;36m250\u001b[0m\u001b[0;34m,\u001b[0m \u001b[0;36m250\u001b[0m\u001b[0;34m)\u001b[0m\u001b[0;34m,\u001b[0m \u001b[0mImage\u001b[0m\u001b[0;34m.\u001b[0m\u001b[0mANTIALIAS\u001b[0m\u001b[0;34m)\u001b[0m\u001b[0;34m\u001b[0m\u001b[0;34m\u001b[0m\u001b[0m\n\u001b[1;32m     15\u001b[0m             \u001b[0mdatu\u001b[0m\u001b[0;34m=\u001b[0m\u001b[0mnp\u001b[0m\u001b[0;34m.\u001b[0m\u001b[0masarray\u001b[0m\u001b[0;34m(\u001b[0m\u001b[0mimage\u001b[0m\u001b[0;34m)\u001b[0m\u001b[0;34m\u001b[0m\u001b[0;34m\u001b[0m\u001b[0m\n",
            "\u001b[0;32m/usr/local/lib/python3.7/dist-packages/PIL/Image.py\u001b[0m in \u001b[0;36mopen\u001b[0;34m(fp, mode)\u001b[0m\n\u001b[1;32m   2841\u001b[0m \u001b[0;34m\u001b[0m\u001b[0m\n\u001b[1;32m   2842\u001b[0m     \u001b[0;32mif\u001b[0m \u001b[0mfilename\u001b[0m\u001b[0;34m:\u001b[0m\u001b[0;34m\u001b[0m\u001b[0;34m\u001b[0m\u001b[0m\n\u001b[0;32m-> 2843\u001b[0;31m         \u001b[0mfp\u001b[0m \u001b[0;34m=\u001b[0m \u001b[0mbuiltins\u001b[0m\u001b[0;34m.\u001b[0m\u001b[0mopen\u001b[0m\u001b[0;34m(\u001b[0m\u001b[0mfilename\u001b[0m\u001b[0;34m,\u001b[0m \u001b[0;34m\"rb\"\u001b[0m\u001b[0;34m)\u001b[0m\u001b[0;34m\u001b[0m\u001b[0;34m\u001b[0m\u001b[0m\n\u001b[0m\u001b[1;32m   2844\u001b[0m         \u001b[0mexclusive_fp\u001b[0m \u001b[0;34m=\u001b[0m \u001b[0;32mTrue\u001b[0m\u001b[0;34m\u001b[0m\u001b[0;34m\u001b[0m\u001b[0m\n\u001b[1;32m   2845\u001b[0m \u001b[0;34m\u001b[0m\u001b[0m\n",
            "\u001b[0;31mFileNotFoundError\u001b[0m: [Errno 2] No such file or directory: '/content/Stretches/Test_Videos/bot212f/frame0.jpg'"
          ]
        }
      ],
      "source": [
        "# 10 frames train,validation and test data:\n",
        "\n",
        "test_dataset_new=data_load_function_10frames(test_set,test_dir_path)\n",
        "train_dataset_new=data_load_function_10frames(train_vid_dat,train_dir_path)\n",
        "validation_dataset_new=data_load_function_10frames(validation_vid_dat,train_dir_path)\n",
        "\n",
        "test_labels=np.array(test_set.labels)\n",
        "train_labels=np.array(train_vid_dat.labels)\n",
        "validation_labels=np.array(validation_vid_dat.labels)"
      ]
    },
    {
      "cell_type": "code",
      "execution_count": null,
      "metadata": {
        "id": "0h5Vmngv2qEm"
      },
      "outputs": [],
      "source": [
        "# Reshaping tensors to confirm with the model we are going to train:\n",
        "test_dataset_new=test_dataset_new.reshape((60,10,250,250,1))\n",
        "train_dataset_new=train_dataset_new.reshape((136,10,250,250,1))\n",
        "validation_dataset_new=validation_dataset_new.reshape((34,10,250,250,1))\n"
      ]
    },
    {
      "cell_type": "markdown",
      "metadata": {
        "id": "ROileB3i2qEm"
      },
      "source": [
        "Model Architecture:\n"
      ]
    },
    {
      "cell_type": "code",
      "execution_count": null,
      "metadata": {
        "id": "VnV7GDEZ2qEn",
        "outputId": "4c7ef335-27c0-4ae3-c9fb-1a1ddb8b2611"
      },
      "outputs": [
        {
          "data": {
            "text/plain": [
              "0.5"
            ]
          },
          "execution_count": 30,
          "metadata": {},
          "output_type": "execute_result"
        }
      ],
      "source": [
        "baseline_predictions=np.ones(len(test_labels))\n",
        "test_accuracy_naive=np.where(baseline_predictions==test_labels)[0].shape[0]/len(test_labels)\n",
        "test_accuracy_naive"
      ]
    },
    {
      "cell_type": "markdown",
      "metadata": {
        "id": "4WCxY1dD2qEn"
      },
      "source": [
        "CNN and LSTM Architecture:"
      ]
    },
    {
      "cell_type": "code",
      "execution_count": null,
      "metadata": {
        "id": "Q_5Z1ENb2qEo",
        "outputId": "cd8d16fa-6dc9-4f0c-e6fe-30b1d4c368da"
      },
      "outputs": [
        {
          "name": "stdout",
          "output_type": "stream",
          "text": [
            "_________________________________________________________________\n",
            "Layer (type)                 Output Shape              Param #   \n",
            "=================================================================\n",
            "time_distributed_41 (TimeDis (None, 10, 248, 248, 128) 1280      \n",
            "_________________________________________________________________\n",
            "time_distributed_42 (TimeDis (None, 10, 246, 246, 64)  73792     \n",
            "_________________________________________________________________\n",
            "time_distributed_43 (TimeDis (None, 10, 123, 123, 64)  0         \n",
            "_________________________________________________________________\n",
            "time_distributed_44 (TimeDis (None, 10, 121, 121, 64)  36928     \n",
            "_________________________________________________________________\n",
            "time_distributed_45 (TimeDis (None, 10, 119, 119, 32)  18464     \n",
            "_________________________________________________________________\n",
            "time_distributed_46 (TimeDis (None, 10, 59, 59, 32)    0         \n",
            "_________________________________________________________________\n",
            "time_distributed_47 (TimeDis (None, 10, 59, 59, 32)    128       \n",
            "_________________________________________________________________\n",
            "time_distributed_48 (TimeDis (None, 10, 111392)        0         \n",
            "_________________________________________________________________\n",
            "dropout_8 (Dropout)          (None, 10, 111392)        0         \n",
            "_________________________________________________________________\n",
            "lstm_4 (LSTM)                (None, 32)                14262400  \n",
            "_________________________________________________________________\n",
            "dense_16 (Dense)             (None, 64)                2112      \n",
            "_________________________________________________________________\n",
            "dense_17 (Dense)             (None, 32)                2080      \n",
            "_________________________________________________________________\n",
            "dropout_9 (Dropout)          (None, 32)                0         \n",
            "_________________________________________________________________\n",
            "dense_18 (Dense)             (None, 1)                 33        \n",
            "=================================================================\n",
            "Total params: 14,397,217\n",
            "Trainable params: 14,397,153\n",
            "Non-trainable params: 64\n",
            "_________________________________________________________________\n"
          ]
        }
      ],
      "source": [
        "from keras.layers import TimeDistributed, Conv2D, Dense, MaxPooling2D, Flatten, LSTM, Dropout, BatchNormalization\n",
        "from keras import models\n",
        "model_cnlst = models.Sequential()\n",
        "model_cnlst.add(TimeDistributed(Conv2D(128, (3, 3), strides=(1,1),activation='relu'),input_shape=(10, 250, 250, 1)))\n",
        "model_cnlst.add(TimeDistributed(Conv2D(64, (3, 3), strides=(1,1),activation='relu')))\n",
        "model_cnlst.add(TimeDistributed(MaxPooling2D(2,2)))\n",
        "model_cnlst.add(TimeDistributed(Conv2D(64, (3, 3), strides=(1,1),activation='relu')))\n",
        "model_cnlst.add(TimeDistributed(Conv2D(32, (3, 3), strides=(1,1),activation='relu')))\n",
        "model_cnlst.add(TimeDistributed(MaxPooling2D(2,2)))\n",
        "model_cnlst.add(TimeDistributed(BatchNormalization()))\n",
        "\n",
        "\n",
        "model_cnlst.add(TimeDistributed(Flatten()))\n",
        "model_cnlst.add(Dropout(0.2))\n",
        "\n",
        "model_cnlst.add(LSTM(32,return_sequences=False,dropout=0.2)) # used 32 units\n",
        "\n",
        "model_cnlst.add(Dense(64,activation='relu'))\n",
        "model_cnlst.add(Dense(32,activation='relu'))\n",
        "model_cnlst.add(Dropout(0.2))\n",
        "model_cnlst.add(Dense(1, activation='sigmoid'))\n",
        "model_cnlst.summary()"
      ]
    },
    {
      "cell_type": "code",
      "execution_count": null,
      "metadata": {
        "id": "0FP6Q0I32qEo"
      },
      "outputs": [],
      "source": [
        "# 'cnn_lstm_model_new5.h5'\n",
        "from keras import optimizers\n",
        "callbacks_list_cnlst=[keras.callbacks.EarlyStopping(\n",
        "monitor='acc',patience=3),\n",
        "               keras.callbacks.ModelCheckpoint(\n",
        "               filepath='cnn_lstm_model_new3.h5',\n",
        "               monitor='val_loss',\n",
        "               save_best_only=True),\n",
        "                keras.callbacks.ReduceLROnPlateau(monitor = \"val_loss\", factor = 0.1, patience = 3)\n",
        "               ]\n",
        "\n",
        "from keras import optimizers\n",
        "optimizer_new=optimizers.RMSprop(lr=0.01)\n",
        "model_cnlst.compile(optimizer=optimizer_new,loss='binary_crossentropy',metrics=['acc'])"
      ]
    },
    {
      "cell_type": "code",
      "execution_count": null,
      "metadata": {
        "id": "3C75VyPA2qEp"
      },
      "outputs": [],
      "source": [
        "history_new_cnlst=model_cnlst.fit(train_dataset_new,train_labels,epochs=20,batch_size=10,\n",
        "               validation_data=(validation_dataset_new,validation_labels),\n",
        "               callbacks=callbacks_list_cnlst)"
      ]
    },
    {
      "cell_type": "code",
      "execution_count": null,
      "metadata": {
        "id": "bA3TIerJ2qEp",
        "outputId": "bfc47fa6-9298-4795-dff4-d48a967b01ec"
      },
      "outputs": [
        {
          "name": "stdout",
          "output_type": "stream",
          "text": [
            "Train on 136 samples, validate on 34 samples\n",
            "Epoch 1/20\n",
            "136/136 [==============================] - 566s 4s/step - loss: 0.7140 - acc: 0.5882 - val_loss: 0.7231 - val_acc: 0.6176\n",
            "Epoch 2/20\n",
            "136/136 [==============================] - 516s 4s/step - loss: 0.6495 - acc: 0.6544 - val_loss: 0.7105 - val_acc: 0.5294\n",
            "Epoch 3/20\n",
            "136/136 [==============================] - 521s 4s/step - loss: 0.6549 - acc: 0.6324 - val_loss: 0.6170 - val_acc: 0.6765\n",
            "Epoch 4/20\n",
            "136/136 [==============================] - 516s 4s/step - loss: 0.6717 - acc: 0.6912 - val_loss: 1.0941 - val_acc: 0.5000\n",
            "Epoch 5/20\n",
            "136/136 [==============================] - 523s 4s/step - loss: 0.6714 - acc: 0.6765 - val_loss: 1.0736 - val_acc: 0.4118\n",
            "Epoch 6/20\n",
            "136/136 [==============================] - 519s 4s/step - loss: 0.6292 - acc: 0.7132 - val_loss: 0.6923 - val_acc: 0.5882\n",
            "Epoch 7/20\n",
            "136/136 [==============================] - 510s 4s/step - loss: 0.6213 - acc: 0.6765 - val_loss: 0.6531 - val_acc: 0.5294\n",
            "Epoch 8/20\n",
            "136/136 [==============================] - 524s 4s/step - loss: 0.6303 - acc: 0.6544 - val_loss: 0.7046 - val_acc: 0.5294\n",
            "Epoch 9/20\n",
            "136/136 [==============================] - 519s 4s/step - loss: 0.6482 - acc: 0.6985 - val_loss: 0.8045 - val_acc: 0.5294\n"
          ]
        }
      ],
      "source": [
        "history_new_cnlst=model_cnlst.fit(train_dataset_new,train_labels,batch_size=10,epochs=20,\n",
        "                        validation_data=(validation_dataset_new,validation_labels),\n",
        "                       callbacks=callbacks_list_cnlst)"
      ]
    },
    {
      "cell_type": "code",
      "execution_count": null,
      "metadata": {
        "id": "_viFYIuv2qEq",
        "outputId": "6d2db94e-3e33-453e-a79c-733e1267ad0e"
      },
      "outputs": [
        {
          "data": {
            "image/png": "[encoded data removed]",
            "text/plain": [
              "<Figure size 432x288 with 4 Axes>"
            ]
          },
          "metadata": {
            "needs_background": "light"
          },
          "output_type": "display_data"
        }
      ],
      "source": [
        "acc=history_new_cnlst.history[\"acc\"]\n",
        "val_acc=history_new_cnlst.history[\"val_acc\"]\n",
        "loss=history_new_cnlst.history[\"loss\"]\n",
        "val_loss=history_new_cnlst.history[\"val_loss\"]\n",
        "epochs=np.arange(1,10)\n",
        "\n",
        "plt.figure()\n",
        "plt.subplot(2,2,1)\n",
        "plt.plot(epochs,val_acc,'-o')\n",
        "plt.title('Validation Accuracy')\n",
        "\n",
        "plt.subplot(2,2,2)\n",
        "plt.plot(epochs,acc,'-o')\n",
        "plt.title('Train Accuracy')\n",
        "\n",
        "plt.subplot(2,2,3)\n",
        "plt.plot(epochs,val_loss,'-o')\n",
        "plt.title('Validation Loss')\n",
        "\n",
        "plt.subplot(2,2,4)\n",
        "plt.plot(epochs,loss,'-o')\n",
        "plt.title('Training Loss')\n",
        "\n",
        "\n",
        "plt.tight_layout()"
      ]
    },
    {
      "cell_type": "markdown",
      "metadata": {
        "id": "vo6lHOmk2qEq"
      },
      "source": [
        "Model Testing on Test Dataset\n"
      ]
    },
    {
      "cell_type": "code",
      "execution_count": null,
      "metadata": {
        "id": "bJXy8rco2qEr",
        "outputId": "a2f51c28-8c43-43dd-a7ec-5e34d6882878"
      },
      "outputs": [
        {
          "name": "stdout",
          "output_type": "stream",
          "text": [
            "WARNING:tensorflow:From C:\\Users\\Muhammad Hussain\\Anaconda3\\lib\\site-packages\\tensorflow\\python\\framework\\op_def_library.py:263: colocate_with (from tensorflow.python.framework.ops) is deprecated and will be removed in a future version.\n",
            "Instructions for updating:\n",
            "Colocations handled automatically by placer.\n",
            "WARNING:tensorflow:From C:\\Users\\Muhammad Hussain\\Anaconda3\\lib\\site-packages\\keras\\backend\\tensorflow_backend.py:3445: calling dropout (from tensorflow.python.ops.nn_ops) with keep_prob is deprecated and will be removed in a future version.\n",
            "Instructions for updating:\n",
            "Please use `rate` instead of `keep_prob`. Rate should be set to `rate = 1 - keep_prob`.\n",
            "WARNING:tensorflow:From C:\\Users\\Muhammad Hussain\\Anaconda3\\lib\\site-packages\\tensorflow\\python\\ops\\math_ops.py:3066: to_int32 (from tensorflow.python.ops.math_ops) is deprecated and will be removed in a future version.\n",
            "Instructions for updating:\n",
            "Use tf.cast instead.\n",
            "60/60 [==============================] - 369s 6s/step\n"
          ]
        },
        {
          "data": {
            "text/plain": [
              "[0.5500303943951924, 0.7333333253860473]"
            ]
          },
          "execution_count": 10,
          "metadata": {},
          "output_type": "execute_result"
        }
      ],
      "source": [
        "modelu_5=load_model('cnn_lstm_model_new3.h5')\n",
        "modelu_5.evaluate(test_dataset_new,test_labels)"
      ]
    },
    {
      "cell_type": "markdown",
      "metadata": {
        "id": "y1PoVwFO2qEt"
      },
      "source": [
        "Model 2: CNN and LSTM (A more complex Architecture with more layers)\n",
        "---"
      ]
    },
    {
      "cell_type": "code",
      "execution_count": null,
      "metadata": {
        "id": "78t5MxG62qEt",
        "outputId": "c32b663b-b415-4356-848c-58b54b1de82f"
      },
      "outputs": [
        {
          "name": "stdout",
          "output_type": "stream",
          "text": [
            "_________________________________________________________________\n",
            "Layer (type)                 Output Shape              Param #   \n",
            "=================================================================\n",
            "time_distributed_15 (TimeDis (None, 10, 248, 248, 128) 1280      \n",
            "_________________________________________________________________\n",
            "time_distributed_16 (TimeDis (None, 10, 246, 246, 64)  73792     \n",
            "_________________________________________________________________\n",
            "time_distributed_17 (TimeDis (None, 10, 123, 123, 64)  0         \n",
            "_________________________________________________________________\n",
            "time_distributed_18 (TimeDis (None, 10, 121, 121, 64)  36928     \n",
            "_________________________________________________________________\n",
            "time_distributed_19 (TimeDis (None, 10, 119, 119, 32)  18464     \n",
            "_________________________________________________________________\n",
            "time_distributed_20 (TimeDis (None, 10, 119, 119, 32)  128       \n",
            "_________________________________________________________________\n",
            "time_distributed_21 (TimeDis (None, 10, 59, 59, 32)    0         \n",
            "_________________________________________________________________\n",
            "time_distributed_22 (TimeDis (None, 10, 57, 57, 64)    18496     \n",
            "_________________________________________________________________\n",
            "time_distributed_23 (TimeDis (None, 10, 55, 55, 32)    18464     \n",
            "_________________________________________________________________\n",
            "time_distributed_24 (TimeDis (None, 10, 27, 27, 32)    0         \n",
            "_________________________________________________________________\n",
            "time_distributed_25 (TimeDis (None, 10, 25, 25, 64)    18496     \n",
            "_________________________________________________________________\n",
            "time_distributed_26 (TimeDis (None, 10, 23, 23, 32)    18464     \n",
            "_________________________________________________________________\n",
            "time_distributed_27 (TimeDis (None, 10, 11, 11, 32)    0         \n",
            "_________________________________________________________________\n",
            "batch_normalization_5 (Batch (None, 10, 11, 11, 32)    128       \n",
            "_________________________________________________________________\n",
            "time_distributed_28 (TimeDis (None, 10, 3872)          0         \n",
            "_________________________________________________________________\n",
            "dropout_3 (Dropout)          (None, 10, 3872)          0         \n",
            "_________________________________________________________________\n",
            "lstm_2 (LSTM)                (None, 64)                1007872   \n",
            "_________________________________________________________________\n",
            "dense_5 (Dense)              (None, 128)               8320      \n",
            "_________________________________________________________________\n",
            "batch_normalization_6 (Batch (None, 128)               512       \n",
            "_________________________________________________________________\n",
            "dense_6 (Dense)              (None, 64)                8256      \n",
            "_________________________________________________________________\n",
            "dense_7 (Dense)              (None, 32)                2080      \n",
            "_________________________________________________________________\n",
            "dropout_4 (Dropout)          (None, 32)                0         \n",
            "_________________________________________________________________\n",
            "dense_8 (Dense)              (None, 1)                 33        \n",
            "=================================================================\n",
            "Total params: 1,231,713\n",
            "Trainable params: 1,231,329\n",
            "Non-trainable params: 384\n",
            "_________________________________________________________________\n"
          ]
        }
      ],
      "source": [
        "model_cnlst = models.Sequential()\n",
        "model_cnlst.add(TimeDistributed(Conv2D(128, (3, 3), strides=(1,1),activation='relu'),input_shape=(10, 250, 250, 1)))\n",
        "model_cnlst.add(TimeDistributed(Conv2D(64, (3, 3), strides=(1,1),activation='relu')))\n",
        "model_cnlst.add(TimeDistributed(MaxPooling2D(2,2)))\n",
        "model_cnlst.add(TimeDistributed(Conv2D(64, (3, 3), strides=(1,1),activation='relu')))\n",
        "model_cnlst.add(TimeDistributed(Conv2D(32, (3, 3), strides=(1,1),activation='relu')))\n",
        "model_cnlst.add(TimeDistributed(BatchNormalization()))\n",
        "model_cnlst.add(TimeDistributed(MaxPooling2D(2,2)))\n",
        "\n",
        "model_cnlst.add(TimeDistributed(Conv2D(64, (3, 3), strides=(1,1),activation='relu')))\n",
        "model_cnlst.add(TimeDistributed(Conv2D(32, (3, 3), strides=(1,1),activation='relu')))\n",
        "model_cnlst.add(TimeDistributed(MaxPooling2D(2,2)))\n",
        "model_cnlst.add(TimeDistributed(Conv2D(64, (3, 3), strides=(1,1),activation='relu')))\n",
        "model_cnlst.add(TimeDistributed(Conv2D(32, (3, 3), strides=(1,1),activation='relu')))\n",
        "model_cnlst.add(TimeDistributed(MaxPooling2D(2,2)))\n",
        "model_cnlst.add(TimeDistributed(BatchNormalization()))\n",
        "model_cnlst.add(TimeDistributed(Flatten()))\n",
        "model_cnlst.add(Dropout(0.2))\n",
        "\n",
        "model_cnlst.add(LSTM(64,return_sequences=False,dropout=0.2)) # used 32 units\n",
        "model_cnlst.add(Dense(128,activation='relu'))\n",
        "model_cnlst.add(BatchNormalization())\n",
        "model_cnlst.add(Dense(64,activation='relu'))\n",
        "model_cnlst.add(Dense(32,activation='relu'))\n",
        "model_cnlst.add(Dropout(0.2))\n",
        "model_cnlst.add(Dense(1, activation='sigmoid'))\n",
        "model_cnlst.summary()"
      ]
    },
    {
      "cell_type": "markdown",
      "metadata": {
        "id": "3wgt79px2qEu"
      },
      "source": [
        "Model Compilation and Defining Keras Callbacks:"
      ]
    },
    {
      "cell_type": "code",
      "execution_count": null,
      "metadata": {
        "id": "kbhl1ui82qEu"
      },
      "outputs": [],
      "source": [
        "callbacks_list_cnlst=[keras.callbacks.EarlyStopping(\n",
        "monitor='acc',patience=3),\n",
        "               keras.callbacks.ModelCheckpoint(\n",
        "               filepath='cnn_lstm_model_new4.h5',\n",
        "               monitor='val_loss',\n",
        "               save_best_only=True),\n",
        "                keras.callbacks.ReduceLROnPlateau(monitor = \"val_loss\", factor = 0.1, patience = 3)\n",
        "               ]\n",
        "\n",
        "from keras import optimizers\n",
        "optimizer_new=optimizers.RMSprop(lr=0.01)\n",
        "model_cnlst.compile(optimizer=optimizer_new,loss='binary_crossentropy',metrics=['acc'])"
      ]
    },
    {
      "cell_type": "code",
      "execution_count": null,
      "metadata": {
        "id": "-53udaCl2qEu",
        "outputId": "57f4cbdf-ba21-4c4f-a7b1-78bdaccb41b4"
      },
      "outputs": [
        {
          "name": "stdout",
          "output_type": "stream",
          "text": [
            "WARNING:tensorflow:From C:\\Users\\Muhammad Hussain\\Anaconda3\\lib\\site-packages\\tensorflow\\python\\ops\\math_ops.py:3066: to_int32 (from tensorflow.python.ops.math_ops) is deprecated and will be removed in a future version.\n",
            "Instructions for updating:\n",
            "Use tf.cast instead.\n",
            "Train on 136 samples, validate on 34 samples\n",
            "Epoch 1/20\n",
            "136/136 [==============================] - 650s 5s/step - loss: 0.9695 - acc: 0.5809 - val_loss: 0.7975 - val_acc: 0.6176\n",
            "Epoch 2/20\n",
            "136/136 [==============================] - 546s 4s/step - loss: 0.7925 - acc: 0.5074 - val_loss: 0.6667 - val_acc: 0.6471\n",
            "Epoch 3/20\n",
            "136/136 [==============================] - 546s 4s/step - loss: 0.7700 - acc: 0.6103 - val_loss: 0.6987 - val_acc: 0.5294\n",
            "Epoch 4/20\n",
            "136/136 [==============================] - 521s 4s/step - loss: 0.7031 - acc: 0.6103 - val_loss: 0.8010 - val_acc: 0.5588\n",
            "Epoch 5/20\n",
            "136/136 [==============================] - 527s 4s/step - loss: 0.7204 - acc: 0.6324 - val_loss: 0.7340 - val_acc: 0.4706\n",
            "Epoch 6/20\n",
            "136/136 [==============================] - 545s 4s/step - loss: 0.6508 - acc: 0.6103 - val_loss: 0.7433 - val_acc: 0.5000\n",
            "Epoch 7/20\n",
            "136/136 [==============================] - 551s 4s/step - loss: 0.6338 - acc: 0.6324 - val_loss: 0.7786 - val_acc: 0.5294\n",
            "Epoch 8/20\n",
            "136/136 [==============================] - 545s 4s/step - loss: 0.6414 - acc: 0.6324 - val_loss: 0.7292 - val_acc: 0.5882\n",
            "Epoch 9/20\n",
            "136/136 [==============================] - 536s 4s/step - loss: 0.6096 - acc: 0.6544 - val_loss: 0.7622 - val_acc: 0.4706\n",
            "Epoch 10/20\n",
            "136/136 [==============================] - 552s 4s/step - loss: 0.6141 - acc: 0.6324 - val_loss: 0.6910 - val_acc: 0.5294\n",
            "Epoch 11/20\n",
            "136/136 [==============================] - 548s 4s/step - loss: 0.6304 - acc: 0.6324 - val_loss: 0.6259 - val_acc: 0.5882\n",
            "Epoch 12/20\n",
            "136/136 [==============================] - 535s 4s/step - loss: 0.6016 - acc: 0.6618 - val_loss: 0.6036 - val_acc: 0.6471\n",
            "Epoch 13/20\n",
            "136/136 [==============================] - 536s 4s/step - loss: 0.6346 - acc: 0.6324 - val_loss: 0.6254 - val_acc: 0.7059\n",
            "Epoch 14/20\n",
            "136/136 [==============================] - 544s 4s/step - loss: 0.6028 - acc: 0.6985 - val_loss: 0.6043 - val_acc: 0.6765\n",
            "Epoch 15/20\n",
            "136/136 [==============================] - 534s 4s/step - loss: 0.6030 - acc: 0.6471 - val_loss: 0.6081 - val_acc: 0.6765\n",
            "Epoch 16/20\n",
            "136/136 [==============================] - 524s 4s/step - loss: 0.6279 - acc: 0.6618 - val_loss: 0.6199 - val_acc: 0.6765\n",
            "Epoch 17/20\n",
            "136/136 [==============================] - 519s 4s/step - loss: 0.6293 - acc: 0.6397 - val_loss: 0.6352 - val_acc: 0.6765\n"
          ]
        }
      ],
      "source": [
        "history=model_cnlst.fit(train_dataset_new,train_labels,batch_size=10,epochs=20,\n",
        "                        validation_data=(validation_dataset_new,validation_labels),\n",
        "                       callbacks=callbacks_list_cnlst)"
      ]
    },
    {
      "cell_type": "code",
      "execution_count": null,
      "metadata": {
        "id": "4KOnRuUS2qEu"
      },
      "outputs": [],
      "source": [
        "acc=history.history[\"acc\"]\n",
        "val_acc=history.history[\"val_acc\"]\n",
        "loss=history.history[\"loss\"]\n",
        "val_loss=history.history[\"val_loss\"]\n",
        "epochs=np.arange(1,18)"
      ]
    },
    {
      "cell_type": "code",
      "execution_count": null,
      "metadata": {
        "id": "qD7XUeBh2qEv",
        "outputId": "ff24e95e-17ea-40a9-b9f6-3cbfeb0b8ab0"
      },
      "outputs": [
        {
          "data": {
            "image/png": "[encoded data removed]",
            "text/plain": [
              "<Figure size 432x288 with 4 Axes>"
            ]
          },
          "metadata": {
            "needs_background": "light"
          },
          "output_type": "display_data"
        }
      ],
      "source": [
        "plt.figure()\n",
        "plt.subplot(2,2,1)\n",
        "plt.plot(epochs,val_acc,'-o')\n",
        "plt.title('Validation Accuracy')\n",
        "\n",
        "plt.subplot(2,2,2)\n",
        "plt.plot(epochs,acc,'-o')\n",
        "plt.title('Train Accuracy')\n",
        "\n",
        "plt.subplot(2,2,3)\n",
        "plt.plot(epochs,val_loss,'-o')\n",
        "plt.title('Validation Loss')\n",
        "\n",
        "plt.subplot(2,2,4)\n",
        "plt.plot(epochs,loss,'-o')\n",
        "plt.title('Training Loss')\n",
        "\n",
        "\n",
        "plt.tight_layout()"
      ]
    },
    {
      "cell_type": "code",
      "execution_count": null,
      "metadata": {
        "id": "xCu3ru3T2qEv",
        "outputId": "c60a23a2-cf15-40af-ba97-ce33c5ef3220"
      },
      "outputs": [
        {
          "name": "stdout",
          "output_type": "stream",
          "text": [
            "60/60 [==============================] - 307s 5s/step\n"
          ]
        },
        {
          "data": {
            "text/plain": [
              "[0.5996537009874979, 0.6499999980131785]"
            ]
          },
          "execution_count": 17,
          "metadata": {},
          "output_type": "execute_result"
        }
      ],
      "source": [
        "from keras.models import load_model\n",
        "modelu_5=load_model('cnn_lstm_model_new4.h5')\n",
        "modelu_5.evaluate(test_dataset_new,test_labels)"
      ]
    }
  ],
  "metadata": {
    "kernelspec": {
      "display_name": "Python 3",
      "language": "python",
      "name": "python3"
    },
    "language_info": {
      "codemirror_mode": {
        "name": "ipython",
        "version": 3
      },
      "file_extension": ".py",
      "mimetype": "text/x-python",
      "name": "python",
      "nbconvert_exporter": "python",
      "pygments_lexer": "ipython3",
      "version": "3.7.3"
    },
    "colab": {
      "provenance": []
    }
  },
  "nbformat": 4,
  "nbformat_minor": 0
}